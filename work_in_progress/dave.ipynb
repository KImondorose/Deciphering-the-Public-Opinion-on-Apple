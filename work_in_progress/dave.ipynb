{
 "cells": [
  {
   "cell_type": "markdown",
   "metadata": {},
   "source": [
    "## Sentiment Analysis"
   ]
  },
  {
   "cell_type": "markdown",
   "metadata": {},
   "source": [
    "### Business Problem\n",
    "\n",
    "- This analysis will aim to build a model that can rate the sentiment of a tweet based on its content.\n",
    "### Objectives\n",
    "\n",
    "- To build a multimodal classifier that will accurately classify tweets into positive, negative and neutral"
   ]
  },
  {
   "cell_type": "code",
   "execution_count": 2,
   "metadata": {},
   "outputs": [
    {
     "name": "stdout",
     "output_type": "stream",
     "text": [
      "c:\\Users\\Mzii\\Downloads\\Documents\\Moringa\\Projects\\phase_4\\phase_4_project\\work_in_progress\n"
     ]
    }
   ],
   "source": [
    "\n",
    "# import os\n",
    "# print(os.getcwd())\n",
    "# os.chdir('c:/Users/Mzii/Downloads/Documents/Moringa/Projects/phase_4/phase_4_project')"
   ]
  },
  {
   "cell_type": "markdown",
   "metadata": {},
   "source": [
    "## Importing Relevant Libraries\n"
   ]
  },
  {
   "cell_type": "code",
   "execution_count": 40,
   "metadata": {},
   "outputs": [
    {
     "name": "stderr",
     "output_type": "stream",
     "text": [
      "[nltk_data] Downloading package stopwords to\n",
      "[nltk_data]     C:\\Users\\Mzii\\AppData\\Roaming\\nltk_data...\n",
      "[nltk_data]   Package stopwords is already up-to-date!\n",
      "[nltk_data] Downloading package wordnet to\n",
      "[nltk_data]     C:\\Users\\Mzii\\AppData\\Roaming\\nltk_data...\n",
      "[nltk_data]   Package wordnet is already up-to-date!\n"
     ]
    }
   ],
   "source": [
    "import pandas as pd\n",
    "import numpy as np\n",
    "import matplotlib.pyplot as plt\n",
    "import seaborn as sns\n",
    "import nltk\n",
    "nltk.download('stopwords')\n",
    "nltk.download('wordnet')\n",
    "from collections import Counter\n",
    "from nltk.corpus import stopwords\n",
    "from nltk.tokenize import TweetTokenizer\n",
    "from nltk.stem import WordNetLemmatizer\n",
    "import string\n",
    "import re\n",
    "import matplotlib.pyplot as plt\n",
    "from wordcloud import WordCloud\n",
    "\n",
    "from sklearn.preprocessing import LabelEncoder\n",
    "from sklearn.model_selection import train_test_split\n",
    "from sklearn.feature_extraction.text import TfidfVectorizer\n",
    "from sklearn.linear_model import LogisticRegression\n",
    "from sklearn.pipeline import Pipeline\n",
    "from sklearn.model_selection import train_test_split\n",
    "from sklearn.metrics import classification_report, accuracy_score, confusion_matrix\n",
    "from sklearn.preprocessing import StandardScaler\n",
    "from sklearn.svm import SVC\n",
    "from sklearn.ensemble import RandomForestClassifier\n",
    "from sklearn.naive_bayes import MultinomialNB\n",
    "from imblearn.over_sampling import SMOTE\n",
    "from xgboost import XGBClassifier\n",
    "from sklearn.pipeline import Pipeline\n",
    "from sklearn.model_selection import GridSearchCV\n",
    "\n",
    "import warnings\n",
    "warnings.filterwarnings(\"ignore\")"
   ]
  },
  {
   "cell_type": "markdown",
   "metadata": {},
   "source": [
    "## Loading Data"
   ]
  },
  {
   "cell_type": "markdown",
   "metadata": {},
   "source": [
    "### Importing the Dataset"
   ]
  },
  {
   "cell_type": "code",
   "execution_count": 4,
   "metadata": {},
   "outputs": [],
   "source": [
    "# import os\n",
    "# print(os.getcwd())\n",
    "# os.chdir('c:/Users/Mzii/Downloads/Documents/Moringa/Projects/phase_4/phase_4_project')"
   ]
  },
  {
   "cell_type": "code",
   "execution_count": 5,
   "metadata": {},
   "outputs": [],
   "source": [
    "# Set display options to show all rows and increase the column width\n",
    "pd.set_option('display.max_rows', None)\n",
    "pd.set_option('display.max_colwidth', None)\n",
    "\n",
    "# Read data\n",
    "df = pd.read_csv('data/judge-1377884607_tweet_product_company.csv', encoding='latin1')"
   ]
  },
  {
   "cell_type": "code",
   "execution_count": 6,
   "metadata": {},
   "outputs": [
    {
     "data": {
      "text/html": [
       "<div>\n",
       "<style scoped>\n",
       "    .dataframe tbody tr th:only-of-type {\n",
       "        vertical-align: middle;\n",
       "    }\n",
       "\n",
       "    .dataframe tbody tr th {\n",
       "        vertical-align: top;\n",
       "    }\n",
       "\n",
       "    .dataframe thead th {\n",
       "        text-align: right;\n",
       "    }\n",
       "</style>\n",
       "<table border=\"1\" class=\"dataframe\">\n",
       "  <thead>\n",
       "    <tr style=\"text-align: right;\">\n",
       "      <th></th>\n",
       "      <th>tweet_text</th>\n",
       "      <th>emotion_in_tweet_is_directed_at</th>\n",
       "      <th>is_there_an_emotion_directed_at_a_brand_or_product</th>\n",
       "    </tr>\n",
       "  </thead>\n",
       "  <tbody>\n",
       "    <tr>\n",
       "      <th>0</th>\n",
       "      <td>.@wesley83 I have a 3G iPhone. After 3 hrs tweeting at #RISE_Austin, it was dead!  I need to upgrade. Plugin stations at #SXSW.</td>\n",
       "      <td>iPhone</td>\n",
       "      <td>Negative emotion</td>\n",
       "    </tr>\n",
       "    <tr>\n",
       "      <th>1</th>\n",
       "      <td>@jessedee Know about @fludapp ? Awesome iPad/iPhone app that you'll likely appreciate for its design. Also, they're giving free Ts at #SXSW</td>\n",
       "      <td>iPad or iPhone App</td>\n",
       "      <td>Positive emotion</td>\n",
       "    </tr>\n",
       "    <tr>\n",
       "      <th>2</th>\n",
       "      <td>@swonderlin Can not wait for #iPad 2 also. They should sale them down at #SXSW.</td>\n",
       "      <td>iPad</td>\n",
       "      <td>Positive emotion</td>\n",
       "    </tr>\n",
       "    <tr>\n",
       "      <th>3</th>\n",
       "      <td>@sxsw I hope this year's festival isn't as crashy as this year's iPhone app. #sxsw</td>\n",
       "      <td>iPad or iPhone App</td>\n",
       "      <td>Negative emotion</td>\n",
       "    </tr>\n",
       "    <tr>\n",
       "      <th>4</th>\n",
       "      <td>@sxtxstate great stuff on Fri #SXSW: Marissa Mayer (Google), Tim O'Reilly (tech books/conferences) &amp;amp; Matt Mullenweg (Wordpress)</td>\n",
       "      <td>Google</td>\n",
       "      <td>Positive emotion</td>\n",
       "    </tr>\n",
       "  </tbody>\n",
       "</table>\n",
       "</div>"
      ],
      "text/plain": [
       "                                                                                                                                    tweet_text  \\\n",
       "0              .@wesley83 I have a 3G iPhone. After 3 hrs tweeting at #RISE_Austin, it was dead!  I need to upgrade. Plugin stations at #SXSW.   \n",
       "1  @jessedee Know about @fludapp ? Awesome iPad/iPhone app that you'll likely appreciate for its design. Also, they're giving free Ts at #SXSW   \n",
       "2                                                              @swonderlin Can not wait for #iPad 2 also. They should sale them down at #SXSW.   \n",
       "3                                                           @sxsw I hope this year's festival isn't as crashy as this year's iPhone app. #sxsw   \n",
       "4          @sxtxstate great stuff on Fri #SXSW: Marissa Mayer (Google), Tim O'Reilly (tech books/conferences) &amp; Matt Mullenweg (Wordpress)   \n",
       "\n",
       "  emotion_in_tweet_is_directed_at  \\\n",
       "0                          iPhone   \n",
       "1              iPad or iPhone App   \n",
       "2                            iPad   \n",
       "3              iPad or iPhone App   \n",
       "4                          Google   \n",
       "\n",
       "  is_there_an_emotion_directed_at_a_brand_or_product  \n",
       "0                                   Negative emotion  \n",
       "1                                   Positive emotion  \n",
       "2                                   Positive emotion  \n",
       "3                                   Negative emotion  \n",
       "4                                   Positive emotion  "
      ]
     },
     "execution_count": 6,
     "metadata": {},
     "output_type": "execute_result"
    }
   ],
   "source": [
    "# Checking the first five rows\n",
    "df.head()"
   ]
  },
  {
   "cell_type": "code",
   "execution_count": 7,
   "metadata": {},
   "outputs": [
    {
     "name": "stdout",
     "output_type": "stream",
     "text": [
      "<class 'pandas.core.frame.DataFrame'>\n",
      "RangeIndex: 9093 entries, 0 to 9092\n",
      "Data columns (total 3 columns):\n",
      " #   Column   Non-Null Count  Dtype \n",
      "---  ------   --------------  ----- \n",
      " 0   tweet    9092 non-null   object\n",
      " 1   brand    3291 non-null   object\n",
      " 2   emotion  9093 non-null   object\n",
      "dtypes: object(3)\n",
      "memory usage: 213.2+ KB\n"
     ]
    }
   ],
   "source": [
    "# Simplifying the column names\n",
    "\n",
    "df.columns = ['tweet','brand','emotion']\n",
    "df.info()"
   ]
  },
  {
   "cell_type": "markdown",
   "metadata": {},
   "source": [
    "Changing column names enhances the dataset's readability, clarity, and user-friendliness. It contributes to smoother data analysis and facilitates sharing insights, as the new names accurately represent the content of the columns."
   ]
  },
  {
   "cell_type": "markdown",
   "metadata": {},
   "source": [
    "The dataset contains a total of 9,093 tweets, with nearly all entries having text data. However, only 3,291 entries specify a brand or product, which highlights that many tweets do not directly mention a particular brand. Despite this, each tweet is associated with an emotion, either positive or negative, which helps to understand the sentiment being conveyed."
   ]
  },
  {
   "cell_type": "markdown",
   "metadata": {},
   "source": [
    "## Data Cleaning"
   ]
  },
  {
   "cell_type": "markdown",
   "metadata": {},
   "source": [
    "### Lowercase All the Characters\n"
   ]
  },
  {
   "cell_type": "code",
   "execution_count": 8,
   "metadata": {},
   "outputs": [],
   "source": [
    "# lowercase all characters\n",
    "df['tweet'] = df['tweet'].str.lower()\n",
    "df['brand'] = df['brand'].str.lower()\n",
    "df['emotion'] = df['emotion'].str.lower()"
   ]
  },
  {
   "cell_type": "code",
   "execution_count": 9,
   "metadata": {},
   "outputs": [
    {
     "data": {
      "text/html": [
       "<div>\n",
       "<style scoped>\n",
       "    .dataframe tbody tr th:only-of-type {\n",
       "        vertical-align: middle;\n",
       "    }\n",
       "\n",
       "    .dataframe tbody tr th {\n",
       "        vertical-align: top;\n",
       "    }\n",
       "\n",
       "    .dataframe thead th {\n",
       "        text-align: right;\n",
       "    }\n",
       "</style>\n",
       "<table border=\"1\" class=\"dataframe\">\n",
       "  <thead>\n",
       "    <tr style=\"text-align: right;\">\n",
       "      <th></th>\n",
       "      <th>tweet</th>\n",
       "      <th>brand</th>\n",
       "      <th>emotion</th>\n",
       "    </tr>\n",
       "  </thead>\n",
       "  <tbody>\n",
       "    <tr>\n",
       "      <th>0</th>\n",
       "      <td>.@wesley83 i have a 3g iphone. after 3 hrs tweeting at #rise_austin, it was dead!  i need to upgrade. plugin stations at #sxsw.</td>\n",
       "      <td>iphone</td>\n",
       "      <td>negative emotion</td>\n",
       "    </tr>\n",
       "    <tr>\n",
       "      <th>1</th>\n",
       "      <td>@jessedee know about @fludapp ? awesome ipad/iphone app that you'll likely appreciate for its design. also, they're giving free ts at #sxsw</td>\n",
       "      <td>ipad or iphone app</td>\n",
       "      <td>positive emotion</td>\n",
       "    </tr>\n",
       "    <tr>\n",
       "      <th>2</th>\n",
       "      <td>@swonderlin can not wait for #ipad 2 also. they should sale them down at #sxsw.</td>\n",
       "      <td>ipad</td>\n",
       "      <td>positive emotion</td>\n",
       "    </tr>\n",
       "    <tr>\n",
       "      <th>3</th>\n",
       "      <td>@sxsw i hope this year's festival isn't as crashy as this year's iphone app. #sxsw</td>\n",
       "      <td>ipad or iphone app</td>\n",
       "      <td>negative emotion</td>\n",
       "    </tr>\n",
       "    <tr>\n",
       "      <th>4</th>\n",
       "      <td>@sxtxstate great stuff on fri #sxsw: marissa mayer (google), tim o'reilly (tech books/conferences) &amp;amp; matt mullenweg (wordpress)</td>\n",
       "      <td>google</td>\n",
       "      <td>positive emotion</td>\n",
       "    </tr>\n",
       "  </tbody>\n",
       "</table>\n",
       "</div>"
      ],
      "text/plain": [
       "                                                                                                                                         tweet  \\\n",
       "0              .@wesley83 i have a 3g iphone. after 3 hrs tweeting at #rise_austin, it was dead!  i need to upgrade. plugin stations at #sxsw.   \n",
       "1  @jessedee know about @fludapp ? awesome ipad/iphone app that you'll likely appreciate for its design. also, they're giving free ts at #sxsw   \n",
       "2                                                              @swonderlin can not wait for #ipad 2 also. they should sale them down at #sxsw.   \n",
       "3                                                           @sxsw i hope this year's festival isn't as crashy as this year's iphone app. #sxsw   \n",
       "4          @sxtxstate great stuff on fri #sxsw: marissa mayer (google), tim o'reilly (tech books/conferences) &amp; matt mullenweg (wordpress)   \n",
       "\n",
       "                brand           emotion  \n",
       "0              iphone  negative emotion  \n",
       "1  ipad or iphone app  positive emotion  \n",
       "2                ipad  positive emotion  \n",
       "3  ipad or iphone app  negative emotion  \n",
       "4              google  positive emotion  "
      ]
     },
     "execution_count": 9,
     "metadata": {},
     "output_type": "execute_result"
    }
   ],
   "source": [
    "df.head()\n"
   ]
  },
  {
   "cell_type": "markdown",
   "metadata": {},
   "source": [
    "### Cleaning of the Brand column"
   ]
  },
  {
   "cell_type": "code",
   "execution_count": 10,
   "metadata": {},
   "outputs": [
    {
     "data": {
      "text/plain": [
       "brand\n",
       "ipad                               946\n",
       "apple                              661\n",
       "ipad or iphone app                 470\n",
       "google                             430\n",
       "iphone                             297\n",
       "other google product or service    293\n",
       "android app                         81\n",
       "android                             78\n",
       "other apple product or service      35\n",
       "Name: count, dtype: int64"
      ]
     },
     "execution_count": 10,
     "metadata": {},
     "output_type": "execute_result"
    }
   ],
   "source": [
    "# Identify distribution of column\n",
    "df['brand'].value_counts()"
   ]
  },
  {
   "cell_type": "code",
   "execution_count": 11,
   "metadata": {},
   "outputs": [
    {
     "name": "stdout",
     "output_type": "stream",
     "text": [
      "brand\n",
      "apple     2409\n",
      "google     882\n",
      "Name: count, dtype: int64\n",
      "<class 'pandas.core.frame.DataFrame'>\n",
      "RangeIndex: 9093 entries, 0 to 9092\n",
      "Data columns (total 3 columns):\n",
      " #   Column   Non-Null Count  Dtype \n",
      "---  ------   --------------  ----- \n",
      " 0   tweet    9092 non-null   object\n",
      " 1   brand    3291 non-null   object\n",
      " 2   emotion  9093 non-null   object\n",
      "dtypes: object(3)\n",
      "memory usage: 213.2+ KB\n",
      "None\n"
     ]
    }
   ],
   "source": [
    "# Map product category to brand\n",
    "\n",
    "product_mapping = {\n",
    "    \"ipad\": \"apple\",\n",
    "    \"ipad or iphone app\": \"apple\",\n",
    "    \"iphone\": \"apple\",\n",
    "    \"other apple product or service\": \"apple\",\n",
    "    \"other google product or service\": \"google\",\n",
    "    \"android app\": \"google\",\n",
    "    \"android\": \"google\"\n",
    "}\n",
    "\n",
    "# Map the 'brand' column to 'brand' using the product mapping\n",
    "df[\"brand\"] = df[\"brand\"].str.lower().map(product_mapping).fillna(df[\"brand\"])\n",
    "\n",
    "# Display value counts and info\n",
    "print(df[\"brand\"].value_counts())\n",
    "print(df.info())\n",
    "\n"
   ]
  },
  {
   "cell_type": "markdown",
   "metadata": {},
   "source": [
    "### Analyzing the Distribution of Missing Values in Brand Column"
   ]
  },
  {
   "cell_type": "code",
   "execution_count": 12,
   "metadata": {},
   "outputs": [
    {
     "name": "stdout",
     "output_type": "stream",
     "text": [
      "5802\n",
      "0.6380732431540745\n"
     ]
    }
   ],
   "source": [
    "print(df[\"brand\"].isna().sum())\n",
    "print(df[\"brand\"].isna().mean())  # Proportion of missing data"
   ]
  },
  {
   "cell_type": "markdown",
   "metadata": {},
   "source": [
    "### Imputing Missing Values in Brand Column"
   ]
  },
  {
   "cell_type": "code",
   "execution_count": 13,
   "metadata": {},
   "outputs": [
    {
     "data": {
      "text/plain": [
       "5           @teachntech00 new ipad apps for #speechtherapy and communication are showcased at the #sxsw conference http://ht.ly/49n4m #iear #edchat #asd\n",
       "6                                                                                                                                                    NaN\n",
       "16                                                          holler gram for ipad on the itunes app store -  http://t.co/kfn3f5q (via @marc_is_ken) #sxsw\n",
       "32                                                   attn: all  #sxsw frineds, @mention register for #gdgtlive  and see cobra iradar for android. {link}\n",
       "33                                                                                                         anyone at  #sxsw want to sell their old ipad?\n",
       "34                                                                         anyone at  #sxsw who bought the new ipad want to sell their older ipad to me?\n",
       "35                                          at #sxsw.  oooh. rt @mention google to launch major new social network called circles, possibly today {link}\n",
       "37                                 spin play - a new concept in music discovery for your ipad from @mention &amp; spin.com {link} #itunes #sxsw @mention\n",
       "39                                                                                vatornews - google and apple force print media to evolve? {link} #sxsw\n",
       "41                      hootsuite - hootsuite mobile for #sxsw ~ updates for iphone, blackberry &amp; android: whether youûªre getting friend... {link}\n",
       "42                     hey #sxsw - how long do you think it takes us to make an iphone case? answer @mention using #zazzlesxsw and weûªll make you one!\n",
       "43                                                                            mashable! - the ipad 2 takes over sxsw [video] #ipad #sxsw #gadgets {link}\n",
       "44                           for i-pad ?rt @mention new #ubersocial for #iphone now in the app store includes uberguide to #sxsw sponsored by ... {link}\n",
       "46                                                           hand-held û÷hoboûª: drafthouse launches û÷hobo with a shotgunûª iphone app #sxsw {link}\n",
       "48                                                              orly....? ûï@mention google set to launch new social network #circles today at #sxswû\n",
       "50         khoi vinh (@mention says conde nast's headlong rush into ipad publishing was a &quot;fundamental misunderstanding&quot; of the platform #sxsw\n",
       "51                      ûï@mention {link} &lt;-- help me forward this doc to all anonymous accounts, techies,&amp; ppl who can help us jam #libya #sxsw\n",
       "52                                                                       ÷¼ what? ÷_ {link} ã_ #edchat #musedchat #sxsw #sxswi #classical #newtwitter\n",
       "53                                                          .@mention @mention on the location-based 'fast, fun and future' - {link} (via @mention #sxsw\n",
       "54                                 ûï@mention @mention #google will connect the digital &amp; physical worlds through mobile - {link} #sxswû @mention\n",
       "56     {link} rt @mention &quot;google before you tweet&quot; is the new &quot;think before you speak.&quot; - mark belinsky, #911tweets panel at #sxsw.\n",
       "58                                                            {link} rt @mention those at #sxsw check out the holler gram ipad app from @mention  {link}\n",
       "59                                                                           @mention  @mention &amp;  @mention having fun at #google [pic] #sxsw {link}\n",
       "60                        &quot;via @mention : {link} guy kawasaki talks 'enchanted' at sxsw - he knows his stuff! #books #internet #apple #sxsw  &quot;\n",
       "61                                                            #futuremf @mention {link} spec for recipes on the web, now in google search: {link}  #sxsw\n",
       "64                                                                                          again? rt @mention line at the apple store is insane.. #sxsw\n",
       "65         agree. rt @mention wait. fiona apple is in town??? somebody kidnap her and put her in a recording studio until she records a new album. #sxsw\n",
       "66                                                              at #sxsw? @mention / @mention wanna buy you a drink. 7pm at fado on 4th. {link} join us!\n",
       "68                                                        boooo! rt @mention flipboard is developing an iphone version, not android, says @mention #sxsw\n",
       "70                                 check! rt @mention giving added value to location based services needs to battle check-in fatigue #google #pnid #sxsw\n",
       "71              chilcott: @mention #sxsw stand talking with blogger staff. too late to win competition for best tweet mentioning @mention so no t-shirt.\n",
       "73                           gowalla's @mention promises to launch foursquare check-in + groupon rewards-type service at #sxsw. finger's crossed. {link}\n",
       "74                ha.ha. rt @mention #sxsw news: yahoo.com is loosing search traffic to new site, google.com. doubt it will last tho w/ that weird name.\n",
       "77                                                                                                                       i worship @mention {link} #sxsw\n",
       "78                     ipad2? rt @mention droid &amp; mac here :) rt @mention my #agnerd confession, using laptop, ipad &amp; blackberry to follow #sxsw\n",
       "79                           launching @mention #sxsw? rt @mention @mention denies social network called circles will debut today, despite report {link}\n",
       "82                                      nice!  rt @mention apple opening popup store for ipad launch in downtown austin during #sxsw {link} via @mention\n",
       "85                                                                                                     stay tune @mention showcase #h4ckers {link} #sxsw\n",
       "86                                                           thank you @mention @mention for the #touchingstories preso #sxsw . here's their deck {link}\n",
       "87                                                                                                 thank you @mention for an awesome #sxsw party! {link}\n",
       "88                        thanks rt @mention if you're trying to contact friends or family in #japan, @mention has created a person finder: {link} #sxsw\n",
       "90                                  thanks to @mention for publishing the news of @mention new medical apps at the #sxswi conf. blog {link} #sxsw #sxswh\n",
       "91                              thanks to @mention for publishing the news of our new medical apps in the #sxswi conf. blog {link} #sxsw #sxswh #mhealth\n",
       "93                                                          wonder if @mention &amp; @mention will be in the apple flashmob: tcrn.ch/fcs45j #sxsw #ipad2\n",
       "94                                                                              wonder if @mention is putting tips from the @mention api... #sxsw #suxsw\n",
       "97                                                 yes!!! rt @mention hey @mention , i've got another gem for you --&gt; free @mention sxsw {link} #sxsw\n",
       "99                                        gsd&amp;m &amp; google's industry party tonight @mention - see u there! {link} #sxsw #austin #welivehere #gsdm\n",
       "100                     new buzz? &quot;@mention google to launch major new social network called circles, possibly today {link} rt @mention #sxsw&quot;\n",
       "102                      ûï@mention &quot;apple has opened a pop-up store in austin so the nerds in town for #sxsw can get their new ipads. {link} #wow\n",
       "103                                                 know that &quot;dataviz&quot; translates to &quot;satanic&quot; on an iphone. i'm just sayin'. #sxsw\n",
       "105              .@mention &quot;google launched checkins a month ago.&quot; check ins are ok, but check outs are the future. #sxsw #bizzy (via @mention\n",
       "107      attending &quot;left brain search = google, right brain search = x&quot;  #bettersearch  -- talking about the future of search engines at #sxsw\n",
       "108                   #hp opens &quot;mobile park&quot;  &amp; content incubator at #sxsw  {link}   #apple  constructs  &quot;pop-up&quot; store  {link}\n",
       "110                                                      kawasaki: &quot;pagemaker saved apple.&quot; oh those were the days. #sxsw #jwtatl #enchantment\n",
       "112                                                                spark for #android is up for a #teamandroid award at #sxsw read about it here: {link}\n",
       "113                                                                                            unboxing. #apple #sxsw  @mention apple store, sxsw {link}\n",
       "115                                                                           at #sxsw, #apple schools the #marketing experts | sxsw - cnet blogs {link}\n",
       "117                                                                                                at #sxsw, #apple schools the marketing experts {link}\n",
       "122                                        headed to #austin for #sxsw? check out my map for newbies {link} @mention @mention , @mention @mention enjoy!\n",
       "123                      funny how #austin is trending but not #sxsw. only a matter of minutes at this point (at least according to twitter for iphone).\n",
       "125           #sxsw #ux #ipad #uxdes remember to ultimately be aware of the audience your app is targeted towards. an unexpected experience can be good.\n",
       "129                                              #google's #mobile future, and the elusive 'power of here' - {link} (via @mention #eurorscg #sxsw #sxswi\n",
       "130                                                              for those #notatsxsw (or at #sxsw), here's {link} free to download and meet nearby peps\n",
       "131                                               does your #smallbiz need reviews to play on google places...we got an app for that..{link}  #seo #sxsw\n",
       "132                                                does your #smallbiz need reviews to play on google places...we got an app for that..{link} #seo #sxsw\n",
       "133                                                                           #samsung, #sony follow #apple, #hp lead @mention {link} #austin #atx #sxsw\n",
       "134                                                         #samsung, #sony follow #apple, #hp lead @mention {link} #austin #atx #sxsw /via @mention ^rg\n",
       "137             q1 was at #sxsw #sxswi for prep. amazing pre push locally. focus on location based. google owns 10% of the regions billboards. #pr20chat\n",
       "138                                                                            any other #sxsw accounts i need to follow or apps to download for iphone?\n",
       "139                                 headed to #sxsw and want to share/gather contact info? {link} can turn your iphone into a business card broadcaster.\n",
       "140                                                  headed to #sxsw and want to share/gather contact info? {link} can turn your iphone into a... {link}\n",
       "141                                                                       btw - the #sxsw apple store is sold out of all 3g models (vzw &amp; at&amp;t).\n",
       "144                                                     anyone at #sxsw been by the pop-up apple store in austin? that's gotta be a hopping place today.\n",
       "147       #fastball #sxsw giving away two new ipad2 wifi 32g black apple cover tweet @mention fo more info #sxswi #attsxsw  tonight @mention bo.lt house\n",
       "148                    anyone at #sxsw had a chance to check out the pop-up apple store? wondering if it is worth the trek from the convention center...\n",
       "152                                                  @mention  #sxsw is an austin conference. do a google search - they have interactive / music / film.\n",
       "153                                                                                  anyone at #sxsw know if apple will be (or is) selling ipad 2 there?\n",
       "154                                                                         anyone at #sxsw know if the apple store has had a new shipment of ipads yet?\n",
       "155                                  marc ecko #sxsw launches #iphone app. to autodial political change! {link} #edreform #edtech #eduvc #fightthepaddle\n",
       "157                                                  @mention  #sxsw lonelyplanet austin guide for #iphone is free for a limited time {link} #lp #travel\n",
       "158                                                                                         more free #sxsw mp3 downloads, this time from itunes: {link}\n",
       "159                                                                    anyone at #sxsw or heading to aclu event seen owt to do with google circles then?\n",
       "160                                                                    @mention  #sxsw prompt for memory: go to google map and describe a childhood walk\n",
       "162                                                                                                                        essential #sxsw tools: {link}\n",
       "164           following #sxsw tweets on google realtime, four platforms on tweet deck and listening to panel, realizing i'm spoken to no one here today.\n",
       "165                          anyone at #sxsw want an ipad 2? i'm in line and will pick one up for someone willing to pay me 50 for me to grab 1 for you?\n",
       "167                                                solving a #sxsw-induced iphone-in-toilet crisis at apple store with @mention (not my crisis for once)\n",
       "169                                                             attending #sxsw? austin guide by @mention is now free to download on itunes - {link} #lp\n",
       "175                                                        hey #sxsw #sxswi folks. if you want to learn about security come over to #bsidesaustin {link}\n",
       "176             attending #sxswi? work in iphone / ipad game development? looking to hire an austin-based ios developer? i'm your man. let's talk. #sxsw\n",
       "178                                                   gsd&amp;m + google 7-10. rt @mention what's the best party to hit tonight? #sxsw @mention @mention\n",
       "179                                                                           gsd&amp;m + google industry party #sxsw @mention great to meet you  {link}\n",
       "181                                             #sxsw day 1 - marissa mayer: google will connect the digital &amp; physical worlds through mobile {link}\n",
       "184                                                                                       .@mention 1154 free songs from #sxsw (this year alone!) {link}\n",
       "185                                                                                  more than 150 million mobile users for google maps for mobile #sxsw\n",
       "186                                                                             currently 150 people in line at the &quot;pop up apple store&quot; #sxsw\n",
       "187                              only ipad 2 available at #sxsw is the 64gb wifi-only model at $699, plus the optional (not!) leather smart cover at $69\n",
       "188                      ÷¼ we love 2 entertain youû_please donûªt be grateful! ÷_ {link} ã_ #edchat #musedchat #sxsw #sxswi #classical #newtwitter\n",
       "189                                                                 less than 2 hours until we announce the details on the ipad 2 giveaway! #sxsw #sxswi\n",
       "191                                                                                                                 (the ipad 2 queue at #sxsw of course\n",
       "Name: tweet, dtype: object"
      ]
     },
     "execution_count": 13,
     "metadata": {},
     "output_type": "execute_result"
    }
   ],
   "source": [
    "# Selecting the first 100 lines of 'tweet' column where 'brand' is NaN\n",
    "column_a_subset = df[df['brand'].isna()]['tweet'].head(100)\n",
    "column_a_subset"
   ]
  },
  {
   "cell_type": "markdown",
   "metadata": {},
   "source": [
    "It seems that there are words within the tweets that can help us identify the associated brand from the comments. We will create a list of keywords and map them to their respective brands to support our analysis."
   ]
  },
  {
   "cell_type": "code",
   "execution_count": 14,
   "metadata": {},
   "outputs": [],
   "source": [
    "# Assign 'apple' or 'google' to 'brand' based on keywords in 'tweet'\n",
    "df[\"brand\"] = np.where(df[\"tweet\"].str.contains(\"iphone|ipad|apple|itunes\", na=False), \"apple\",\n",
    "                       np.where(df[\"tweet\"].str.contains(\"android|google\", na=False), \"google\", df[\"brand\"]))\n"
   ]
  },
  {
   "cell_type": "code",
   "execution_count": 15,
   "metadata": {},
   "outputs": [
    {
     "name": "stdout",
     "output_type": "stream",
     "text": [
      "Counts for 'apple' and 'google':\n",
      "brand\n",
      "apple     5606\n",
      "google    2780\n",
      "Name: count, dtype: int64\n",
      "\n",
      "Count for NaN values:\n",
      "707\n"
     ]
    }
   ],
   "source": [
    "# Count \"Apple\" and \"Google\"\n",
    "brand_counts = df[\"brand\"].value_counts()\n",
    "\n",
    "# Count NaN values\n",
    "nan_count = df[\"brand\"].isna().sum()\n",
    "\n",
    "# Display counts\n",
    "print(\"Counts for 'apple' and 'google':\")\n",
    "print(brand_counts)\n",
    "\n",
    "print(\"\\nCount for NaN values:\")\n",
    "print(nan_count)\n"
   ]
  },
  {
   "cell_type": "code",
   "execution_count": 16,
   "metadata": {},
   "outputs": [
    {
     "name": "stdout",
     "output_type": "stream",
     "text": [
      "                                                                                                                                                               tweet\n",
      "6                                                                                                                                                                NaN\n",
      "51                                  ûï@mention {link} &lt;-- help me forward this doc to all anonymous accounts, techies,&amp; ppl who can help us jam #libya #sxsw\n",
      "52                                                                                   ÷¼ what? ÷_ {link} ã_ #edchat #musedchat #sxsw #sxswi #classical #newtwitter\n",
      "53                                                                      .@mention @mention on the location-based 'fast, fun and future' - {link} (via @mention #sxsw\n",
      "66                                                                          at #sxsw? @mention / @mention wanna buy you a drink. 7pm at fado on 4th. {link} join us!\n",
      "71                          chilcott: @mention #sxsw stand talking with blogger staff. too late to win competition for best tweet mentioning @mention so no t-shirt.\n",
      "73                                       gowalla's @mention promises to launch foursquare check-in + groupon rewards-type service at #sxsw. finger's crossed. {link}\n",
      "77                                                                                                                                   i worship @mention {link} #sxsw\n",
      "79                                       launching @mention #sxsw? rt @mention @mention denies social network called circles will debut today, despite report {link}\n",
      "85                                                                                                                 stay tune @mention showcase #h4ckers {link} #sxsw\n",
      "86                                                                       thank you @mention @mention for the #touchingstories preso #sxsw . here's their deck {link}\n",
      "87                                                                                                             thank you @mention for an awesome #sxsw party! {link}\n",
      "88                                    thanks rt @mention if you're trying to contact friends or family in #japan, @mention has created a person finder: {link} #sxsw\n",
      "90                                              thanks to @mention for publishing the news of @mention new medical apps at the #sxswi conf. blog {link} #sxsw #sxswh\n",
      "91                                          thanks to @mention for publishing the news of our new medical apps in the #sxswi conf. blog {link} #sxsw #sxswh #mhealth\n",
      "94                                                                                          wonder if @mention is putting tips from the @mention api... #sxsw #suxsw\n",
      "97                                                             yes!!! rt @mention hey @mention , i've got another gem for you --&gt; free @mention sxsw {link} #sxsw\n",
      "122                                                    headed to #austin for #sxsw? check out my map for newbies {link} @mention @mention , @mention @mention enjoy!\n",
      "130                                                                          for those #notatsxsw (or at #sxsw), here's {link} free to download and meet nearby peps\n",
      "162                                                                                                                                    essential #sxsw tools: {link}\n",
      "175                                                                    hey #sxsw #sxswi folks. if you want to learn about security come over to #bsidesaustin {link}\n",
      "184                                                                                                   .@mention 1154 free songs from #sxsw (this year alone!) {link}\n",
      "188                                  ÷¼ we love 2 entertain youû_please donûªt be grateful! ÷_ {link} ã_ #edchat #musedchat #sxsw #sxswi #classical #newtwitter\n",
      "204                                                                             check out 5 steps to bulletproof ux strategy at sxsw\\n{link} #sxsw #rhjr_ux5  {link}\n",
      "232                              spent the aftrnoon on a frozen lake photographing my brother scott &amp; the @mention team. catch them at #sxsw ths weeknd.  {link}\n",
      "313                                                      ûï@mention are you stupid? find it out at the #sxsw on your mac {link} for a special price! #games #macû\n",
      "320                                               if i were at #sxsw i could spend it all at the @mention teaching theater alone; just look at that schedule: {link}\n",
      "321                                               if you're at #sxsw : meet us at fado. we will give you wristbands that magically lead to beer. come say hi! {link}\n",
      "342                                   posted up at the dmi house, intimate stranger on the stage, they got a restaurant crowd sitting down to deal wif  #sxsw {link}\n",
      "355                                                                                                 racing to ballroom d to see @mention marissa mayer. #sxsw #sxswi\n",
      "387                              if anyone can make it cooler, they can. rt @mention @mention to launch &quot;groupon/ living social-type&quot; rewards #sxsw {link}\n",
      "394                                   remember, chime in with tweets about your #nasatweetup experience between 2:15pm - 3pm central time for #sxsw session - {link}\n",
      "409                                                wishes he could be at the @mention / @mention / @mention party at #sxsw instead of doing homework for tomorrow...\n",
      "411                                                                                                        check out coyne pr updates from #sxsw {link} via @mention\n",
      "423                                                             trying to decide what session to attend at #sxsw, but marissa meyer @mention later today is a given.\n",
      "438                                      i'm not a developer, but awesome name for the event! rt @mention join the league of extraordinary #h4ckers at #sxsw! {link}\n",
      "447                                   at #sxsw? don't forget to come to the #privacybootcamp for startups with @mention @mention @mention and @mention in ... {link}\n",
      "448                        at #sxsw? don't forget to come to the #privacybootcamp for startups with @mention @mention @mention and @mention in acc 9abc at 3:30 cst!\n",
      "451                                                     ûï@mention download 20+ free tracks from the #sxsw music sampler available on @mention store today!  {link}\n",
      "452                                                 ûï@mention download 20+ free tracks from the #sxsw music sampler available on the @mention store today!  {link}\n",
      "453                                             ûï@mention download 20+ free tracks from the #sxsw music sampler available on the @mention store today!  {link} #fb\n",
      "454                                       ûï@mention downloadfree tracks from the #sxsw music sampler available @mention {link} - where are the green lady killers!\n",
      "458                                                        @mention  enjoy #sxsw and ride anywhere in austin for $10 . download the #groundlink app {link} booth 437\n",
      "459                                                            @mention  enjoy #sxsw and ride anywhere in austin for $10 . dwnld the #groundlink app{link} booth 437\n",
      "484                                    thanks to everyone for making it a great day in the shop today. if you're in austin, come by and see us tomorrow {link} #sxsw\n",
      "497                                                   get #sxsw film red carpet coverage from @mention cw austin star mandy dugan on grouped{in}, get the app {link}\n",
      "507                                                                                    hey #sxsw folks: free lunch from la condesa at the pepsi max lot! map: {link}\n",
      "518                           thank you for these! rt @mention public notes for &quot;5 steps to bulletproof ux strategy&quot;: {link} #sxsw #rhjr_ux5. via @mention\n",
      "524                                                                    grab some free music: sxsw 2011 showcasing artists mp3 torrents are in the wild. {link} #sxsw\n",
      "529                                  tessie s, frontwoman for intimate stranger, has ink in the most painful places to get ink on. respect.  location: {link}  #sxsw\n",
      "533                            ûï@mention gearing up to make a splash, @mention to launch &quot;groupon or living social-type&quot; rewards at #sxsw {link} - boom!\n",
      "550                                     hey #sxsw goers! i'm droppin survival tips all week to help you get you rock on!  best hangover cure: tamale house 3! {link}\n",
      "554                                                                                                         so who is going to see @mention tonight?!?? {link} #sxsw\n",
      "556                                        @mention  good morning 2 u!  enjoy #sxsw and ride anywhere in austin for $10 .  dwnld the #groundlink app{link} booth 437\n",
      "600                                                                                             /@mention grab the latest @mention before #sxsw! {link} #saytextson!\n",
      "608                                                                                                                    this post has nothing to do with #sxsw {link}\n",
      "617                                                                       pumped to hear @mention dudes talk about logos over the years. can i make one? #sxsw #gsdm\n",
      "618                                         thanks to heathcare digital @mention for publishing the news about our new medical apps showcased at #sxsw {link} #sxswh\n",
      "619                                                @mention  hello! enjoy #sxsw and ride anywhere in austin for $10 . download the #groundlink app, {link} booth 437\n",
      "632                                                                              only time i ever torrent (also this is legal). also, also, so excited #sxsw  {link}\n",
      "642                                                                                          honestly, i think everyone at #sxsw owns an @mention laptop! #truestory\n",
      "649                                           ev'ry day i'm hustlin'! working the @mention #sxsw event for @mention tonight- i've absolutely loved working... {link}\n",
      "650                                       brilliant idea to have @mention and @mention search engine ranking session in small room. only 75 people locked out. #sxsw\n",
      "671                                                                                        this just in: @mention to release new #socialmedia tool at #sxsw - {link}\n",
      "674                                                     wabi-sabi inspiration lab is looking for a spanish-speaking trend scout based in austin, texas. #sxsw {link}\n",
      "677                                                     hmm. very interesting. rt @mention wonder if @mention is putting tips from the @mention api...  #sxsw #suxsw\n",
      "678                                              #thekills interview now on @mention at #sxsw may be one of the most painfully vacuous interviews in history. {link}\n",
      "711                                                 .@mention is competing with @mention circles on the socialflow board for most resonant topic here. #sxsw  {link}\n",
      "718                                                                                gamesalad is the topic of a dutch podcast! {link} #gssxsw #sxsw #sxsw2011 #sxswnl\n",
      "734                                                           at #sxsw? join us for a drink (or 2) tonight at 7pm. fado irish pub on 4th.  {link} we'd love to meet!\n",
      "829                                       we're not launching any products at #sxsw but we're doing plenty else. join us for #h4ckers &amp; 80s dancing today {link}\n",
      "844                                                               here is a list of all the music performers at #sxsw {link} .  i used jquery to screen-scrape it :)\n",
      "854                                                     radio 3.0 looking for new bands for our radio show. listen: {link} {link} #nowplaying #newmusic #sxsw pls rt\n",
      "863                                                              n33: they love me in this town  {link} [codes valid: 12:00-3:59:59p 03/14/11] #infektd #sxsw #necro\n",
      "877                                                                           n2: first meetings {link} [codes valid: 12:00-3:59:59p 03/11/11] #infektd #sxsw #necro\n",
      "878                                                                                                               great for meetings, haha! #hollergram {link} #sxsw\n",
      "887                                    at red 7, mist giant dope! interviewed adi from the mind of adi a few minutes ago, compared cat pics!  #sxsw location: {link}\n",
      "900                                            hey #sxsw movers and shakers, @mention is publishing a &quot;poke the box&quot; ebook next week. get involved: {link}\n",
      "923                          @mention  nice @mention store huh?  any chance we can meet (face to face) while at #sxsw today or sat?  wanna talk #beer &amp; #social.\n",
      "927                                                                    c34: itûªs not a retreat! {link} [codes valid: 12:00-3:59:59p 03/14/11] #infektd #sxsw #cvdc\n",
      "929                        is anyone not hopping on this groupon bandwagon?! ûï@mention to launch &quot;groupon or living social-type&quot; rewards at #sxsw {link}\n",
      "938                          .@mention of @mention on manufacturing serendipity- &quot;having access to more information makes us more curious, not less&quot; #sxsw\n",
      "952                                                                                                               first leg of the mobile social at #sxsw #fb {link}\n",
      "953                                                                        i14: call of the zombie {link} [codes valid: 4:00-7:59:59p 03/12/11] #infektd #sxsw #zomb\n",
      "954                                                                       i18: call of the zombie {link} [codes valid: 8:00-11:59:59p 03/12/11] #infektd #sxsw #zomb\n",
      "960                                                                                           .@mention on #sxsw with a cr48. there's so much potential here! {link}\n",
      "997                                   hey #sxsw people! survival tip no 2. great vegitarian/vegan right in the think of the action. mr natural! {link} #sxswsurvival\n",
      "1020                                                                                       excellent presentation on digital magazines {link} #touchingstories #sxsw\n",
      "1027                                              ÷¼ we have problemsû_time to stop *******! ÷_ {link} ã_ #edchat #musedchat #sxsw #sxswi #classical #newtwitter\n",
      "1033                                                           if you're racing around #sxsw, you best be fueling up with great local fare\\n#eatshopaustinapp {link}\n",
      "1061                                      yen only? rt @mention very important: make sure you are donating to the japanese red cross: {link} #sxswcares #sxsw #quake\n",
      "1064                                           guess the rumors were wrong ûï@mention we're not launching any products at #sxsw but we're doing plenty else. {link}\n",
      "1067                                       @mention  saw u r going to #sxsw. dwnld #groundlink app &amp; ride for $10 in austin during sxsw i{link} see us booth 437\n",
      "1068                                        @mention  saw u r going to #sxsw. dwnld #groundlink app &amp; ride for $10 in austin during sxswi{link} see us booth 437\n",
      "1081                                                                               c40: nice shot {link} [codes valid: 8:00-11:59:59p 03/14/11] #infektd #sxsw #cvdc\n",
      "1094                                        @mention  so u r coming #sxsw :)  dwnld #groundlink app &amp; ride for $10 in austin during sxswi{link} see us booth 437\n",
      "1119                                            can't get sxsw? download 20+ free tracks from the  #sxsw music sampler available on the @mention store today! {link}\n",
      "1132                                                                             attending the @mention party at #sxsw with some very interested people!!!! #wiiings\n",
      "1133                                       check out the @mention route {link} ; rsvp here -&gt; https://www.facebook.com/event.php?eid=141164002609303 #sxswi #sxsw\n",
      "1135                                                            pre-order the @mention 'humorous to bees' lp on @mention catch them this month @mention {link} #sxsw\n",
      "1136                                             pre-order the @mention 'humorous to bees' lp on @mention catch them this month @mention &amp; @mention {link} #sxsw\n",
      "1137                                                                                                                unveiling the @mention pop-up store #sxsw {link}\n",
      "1141                                                                                          holy crap the #sxsw 2011 showcase torrents are up already &lt;3 {link}\n",
      "1157                                                                                                           oh, 'ware the ides of march.  location: {link}  #sxsw\n",
      "1163                                                                              z27: i am the law {link} [codes valid: 4:00-7:59:59p 03/13/11] #infektd #sxsw #zlf\n",
      "1207                                            head over to  {link} by 1pm cst today to win vip access to my acoustic solo set at #sxsw tonight with #nokiaconnects\n",
      "1248                                                  great way to prep! rt @mention download 20+ free tracks from #sxsw music sampler available on @mention  {link}\n",
      "1257                                                                       i41: slap to the face  {link} [codes valid: 8:00-11:59:59a 03/15/11] #infektd #sxsw #zomb\n",
      "1258                                                                                                                 listening to the official #sxsw mixtape: {link}\n",
      "1270                                                     if you're trying to contact friends or family in #japan, @mention has created a person finder: {link} #sxsw\n",
      "1271                                                                                              some free tunes from a few of this year's #sxsw artists ûó {link}\n",
      "1299                          encounter w charming/intense @mention #thethankyoueconomy, w bright @mention #localmind. suffer @mention have fun @mention party #sxsw\n",
      "1305                                                                                                                      new blog: watch this @mention #sxsw {link}\n",
      "1307                                                                     ÷¼ why are we here? ÷_  {link} ã_ #edchat #musedchat #sxsw #sxswi #classical #newtwitter\n",
      "1311                                                          ÷¼ why are we so fascinated byû_ {link} ? #edchat #musedchat #sxsw #sxswi #classical #newtwitter ÷_\n",
      "1315                                                           ûï@mention we're not launching any products at #sxsw but we're doing plenty else. {link} / ok aun no\n",
      "1317                                              as far as welcome e-mails go, @mention is great, and makes it very easy to see how to use the service {link} #sxsw\n",
      "1318                                                  @mention  welcome! enjoy #sxsw and ride anywhere in austin for $10 . dwnld the #groundlink app{link} booth 437\n",
      "1340                                                              cool! and yes, happy b-day @mention ;-) rt @mention new post: business cards are dead #sxsw {link}\n",
      "1351                                                                     z8: first zlf assignment! {link} [codes valid: 8:00-11:59:59a 03/12/11] #infektd #sxsw #zlf\n",
      "1366                                                                             @mention - spread the word, our #sxsw festival explorer app is live and free {link}\n",
      "1367                                                         n7: here - time is always against us {link} [codes valid: 4:00-7:59:59p 03/11/11] #infektd #sxsw #necro\n",
      "1384                                 may be so, but i still have a few rt @mention new post: business cards are dead: send me your card via hashable at #sxsw {link}\n",
      "1393                                ÷¼ no fear, no envy, no meanness, no lies, no hypocrisyû_÷_ {link} ã_ #edchat #musedchat #sxsw #sxswi #classical #newtwitter\n",
      "1398                                                                                                          hey #sxsw, there's some offers out there for ya {link}\n",
      "1420                                  #startups: free premium service on your 1st job post {link} #lean #leanux #leanstartup #sxsw #sxswi #launch #startup #founders\n",
      "1421                                        #startups: free premium service on your 1st job post if you answer our 2 min survey {link} #sxsw #sxswi #startup #launch\n",
      "1425                                                          reason 19: keep parakeets employed! {link} keep track of where the ladies are at #sxsw {link} @mention\n",
      "1426                                          important: make sure you are donating to the japanese red cross for #japan: {link} #sxswcares #sxsw #quake (please rt)\n",
      "1435                                                                                          anonymity: zuckerberg &quot;wrong&quot; says 4chan's moot #sxsw {link}\n",
      "1444                                                           hey #sxsw! free copy of our halftone app to the first person to redeem this code: p7e9eme7kylj {link}\n",
      "1446                                         beautiful! rt @mention knitted staircase in attendance at #sxsw party tomo 7pm hosted by @mention &amp; @mention {link}\n",
      "1454                                                thank you! rt @mention #sxsw #touchingstories great presentation on future of digital magazines {link} (@mention\n",
      "1455                                                                          very cool! rt @mention download the free #sxsw: featured artists sampler today! {link}\n",
      "1457                                                                                                              free jams! why not? {link} #sxsw @mention @mention\n",
      "1464                                                       got green? check out @mention live in austin during #sxsw ..check out his show schedule here -&gt; {link}\n",
      "1466                                                                                at #sxsw ? join us and @mention for a drink (or 2) at fado on 4th at 7pm. {link}\n",
      "1469                                                                             ÷¼ ????????? ÷_ {link} ã_ #edchat #musedchat #sxsw #sxswi #classical #newtwitter\n",
      "1470                                                                ÷¼ ????????? ÷_ {link} ã_ #edchat #musedchat #sxsw #sxswi #classical #newtwitter  rt @mention\n",
      "1498                                                                                              reasons i'm sad i'm not at #sxsw 1. @mention in the form of {link}\n",
      "1541                                                       nice! rt @mention {link} killer shot i got last night of @mention at the #nokiaconnects concert for #sxsw\n",
      "1546                                                         @mention @mention @mention among companies trying to make impression at #sxsw interactive {link} #sxswi\n",
      "1553                                                    @mention @mention @mention thanks for making great products!\\n\\ngreat for making #sxsw party podcasts {link}\n",
      "1557              #awesome @mention &amp; @mention on ranking: there are no normal results, quit ranking. page views, unique visitors - these analytics matter #sxsw\n",
      "1569                                  download @mention and let's do one in sf this is sweet! @mention @mention @mention {link}  love the vid! (via @lenashaw) #sxsw\n",
      "1575                                   @mention @mention be sure to check out the @mention jukebox app running party music for #sxsw. with the @mention api.  {link}\n",
      "1586                                                       remember @mention from our last campaign &amp; upcoming #sxsw event? {link} his new album dropped! {link}\n",
      "1590                                      @mention @mention great to meet you @mention meetup! this is the post about our new #sxsw medical apps {link} #sxswh #hcsm\n",
      "1609                                              nice! rt @mention knitted staircase in attendance at #sxsw party tomo 7pm hosted by @mention &amp; @mention {link}\n",
      "1614                         @mention @mention not letting interactive in to film closing/music opening party??  #badform #youareinteractive #peopleflowingout #sxsw\n",
      "1630                                                                                          watch as @mention scores the @mention search showdown at #sxsw: {link}\n",
      "1646                                                                                        nice! rt @mention wiebe walking through conceptual graphing {link} #sxsw\n",
      "1654                               @mention &amp; @mention are becoming competitors 4 @mention now that they're starting to realize #checkins are cool. #sxsw #sxswi\n",
      "1655                                    @mention &amp; @mention are becoming competitors for @mention now that they're starting to realize #checkins are cool. #sxsw\n",
      "1657                                       @mention &amp; @mention were quick to encourage seo practitioners to avoid dwelling on page rank (focus on content) #sxsw\n",
      "1658                                         @mention &amp; @mention who needs to go to #sxsw when you can download a sxsw sampler for free? #ballinonabudget {link}\n",
      "1661                                                                               80s hair &amp; makeup station at @mention @mention #sxsw #partylikeits1986 {link}\n",
      "1683                                  updated: #hbs #startuptribe meets at #sxsw sat 3/12 4pm info--&gt; {link} - drinks + @mention + students. check back 4 changes\n",
      "1741                                                          going to #sxsw?  check out our new rhapsody/echo nest app to help figure out what shows to see: {link}\n",
      "1745                                                                    going to #sxsw? need a lift from the airport? register for the free @mention shuttle! {link}\n",
      "1753                                  hashable + american psycho woot! rt @mention new post: business cards are dead: send me your card via hashable at #sxsw {link}\n",
      "1794                                      get over 20 free tracks from the @mention music sampler! @mention has a track on there! check it out @mention {link} #sxsw\n",
      "1795                                                            download 20+ free tracks from the @mention music sampler on @mention including @mention {link} #sxsw\n",
      "1796                                                             download 20+ free tracks from the @mention music sampler on @mention including #glove! {link} #sxsw\n",
      "1797                                                                     download 20+ free tracks from the #sxsw music sampler on @mention including @mention {link}\n",
      "1801                                @mention 3 &amp; @mention  vs @mention &amp; &quot;groupon or living social-type&quot; rewards - {link} battle for #sxsw begins!\n",
      "1822                                          that was a hoax then. rt @mention &quot;we're not launching any products at #sxsw but we're doing plenty else.  {link}\n",
      "1828                                       go game, a new #lbs scavenger hunt , launches at #sxsw.  service creates customized games for events. via @mention {link}\n",
      "1829                                                                                                awww yeaaa new music from @mention just in time for #sxsw {link}\n",
      "1850                                                                                                              is marissa@mention #sxsw wearing a missoni top????\n",
      "1861                                                             learning about the future of search from @mention &amp; @mention creepily social and awesome. #sxsw\n",
      "1882                                                          rt download 20+ free tracks from the #sxsw music sampler available on the @mention store today! {link}\n",
      "1889                                                                       ÷¼ not a bad idea! ÷_ {link} ã_ #edchat #musedchat #sxsw #sxswi #classical #newtwitter\n",
      "1919                                                               can you make it to this spot tonight before 11:30?  {link}   #sxsw #flashmob #kickball #6thstreet\n",
      "1983                                                                             @mention and @mention #sxsw industry party (@mention gsd&amp;m w/ 64 others) {link}\n",
      "2007                                                    lonely planet has made the austin guide free for #sxsw grab it, you never know when you will need it. {link}\n",
      "2016                                                                                                    @mention announces #windowsphone app today #sxsw {link} #wp7\n",
      "2020                                       austinl fans: rt @mention head over to {link} by 1pm cst today to win vip access to my acoustic solo set at #sxsw tonight\n",
      "2111                                          #sxsw kawasaki says key to enchantment is likability of @mention trustworthiness of @mention &amp; product of @mention\n",
      "2125                                              startups at #sxsw, @mention is giving away free hosting. fill out this and @mention me for a chance to win. {link}\n",
      "2137                                                                                       no, up that count to 48 as i pass charging station. #fools #sxsw @mention\n",
      "2159                                                          ÷¼ who? what? where? when? why? ÷_ {link} ã_ #edchat #musedchat #sxsw #sxswi #classical #newtwitter\n",
      "2163                                                                         why has latin america not produced the next @mention or @mention ? #latism #latam #sxsw\n",
      "2206                          marissa mayer @mention future: not ar but &quot;contextual discovery&quot;-- image+location+personalized context+recommendations #sxsw\n",
      "2248                                             in #sxsw ballroom d for @mention from @mention \\none seat reserved in the fourth row if anyone wants to join #htxsw\n",
      "2258                                                                                @mention be sure to use our free app for checking out the bands at #sxsw! {link}\n",
      "2270                                                                                        hey #nerdbird crew - grab our app and snap some freak pics! {link} #sxsw\n",
      "2297                                                        pubsubhubbub is an interesting way to cache some load off your web server {link} via @mention #fsw #sxsw\n",
      "2308                                                                      wicked pic i got of @mention (duncan jones) before i got to shake his hand. #sxsw - {link}\n",
      "2312                                  #cloud #vc this post has nothing to do with #sxsw: 2x startup founder &amp; ceo who has gone to the dark side o... {link} #tcn\n",
      "2314                                                         game logic! agency behaviour! monkey mind control! the ogilvy #ausxsw podcast from #sxsw day one {link}\n",
      "2316                                                                                   chris sacca tweets out a fake #sxsw beta invite, follower swarm ensues {link}\n",
      "2321                                        i knew localmind by @mention was a hit. it's getting huge press at #sxsw. we reviewed it earlier here: {link} #localmind\n",
      "2325                                                    bisotã¢ location @mention 06:10, 3/16 \\naustin, tx, usa \\n{link} \\n#sxsw platform 2011 is killing... {link}\n",
      "2329                                                             open-source geo-hashing coming soon from @mention being used by @mention developers called s2 #sxsw\n",
      "2335                                                    the lawn chair: perfect for keyboards. that's dan's, drummer for mist giant #sxsw location: {link}    {link}\n",
      "2361                              congrats chris! rt @mention #sxsw interactive award: music category to &quot;wilderness downtown&quot; @mention @mention @mentione\n",
      "2504                       #musicmonday have a great time #sxsw i played there with the white stripes &amp; 60secondcrush @mention detroit showcase in lucys! {link}\n",
      "2513                                                                                                                        bands needed for sx podcast {link} #sxsw\n",
      "2516                                                                              @mention definitely yobongo. real time chat at #sxsw is going to be killer. {link}\n",
      "2529                                                                                                    @mention did you do this in austin at @mention #sxsw? {link}\n",
      "2535                                                                   n5: spreading the disease  {link} [codes valid: 4:00-7:59:59p 03/11/11] #infektd #sxsw #necro\n",
      "2538                                                  @mention direct shot @mention offering rewards for check-ins on latitude, starting in austin for #sxsw. {link}\n",
      "2540                                                                @mention discussing salsa ingredients @mention - @mention industry party #sxsw #welivehere #gsdm\n",
      "2541                                                        @mention discussing salsa ingredients @mention - @mention industry party #sxsw #welivehere #gsdm  {link}\n",
      "2542                               &quot;credit card companies know with 98% accuracy 2 yrs before that you're going to get divorced&quot;  @mention at #sxsw {link}\n",
      "2556                                                                          z7: lead don't follow {link} [codes valid: 4:00-7:59:59p 03/11/11] #infektd #sxsw #zlf\n",
      "2594                                                  what's the #buzz: #billings entrepreneurs win tech award at #sxsw for @mention {link} via @mention #technology\n",
      "2610                                                     #sxsw free app festival explorer helps you find the bands you want to see based on your music tastes {link}\n",
      "2624                                                    if you are attending #sxsw, please bring your old mobile phones for the hope phones project {link}  @mention\n",
      "2626                                                                      slides are available on the @mention site for @mention #touchingstories preso {link} #sxsw\n",
      "2633                                  what's the best site for registering/viewing unofficial #sxsw events? want to publicize this non-#sxswi #archives event {link}\n",
      "2639                                                                                                        sxsw\\n500 e cesar chavez st, austin, texas\\n{link} #sxsw\n",
      "2660                                                                                 if you are heading to #sxsw make sure you have the @mention holler gram  {link}\n",
      "2685                             btw, these live-tweets are coming from marissa mayer's presentation at #sxsw.  mayer is the vp of consumer products at @mention ^jr\n",
      "2693                                      the league of extraordinary h4ckers presented by @mention lightning talks on technology. #sxsw (@mention speakeasy) {link}\n",
      "2695                                                                      z33: ounce of prevention {link} [codes valid: 12:00-3:59:59p 03/14/11] #infektd #sxsw #zlf\n",
      "2696                                                                           the future of reading online is customization &amp; sharing, not tablets {link} #sxsw\n",
      "2713                                                                                                  get in the season with clover touch:\\n{link} #games #stpatrick\n",
      "2714                                                   #sxsw come see bitbop in austin #gdgtaustin at the purevolume house\\n504 trinity on monday, march 14th {link}\n",
      "2733                                                                      c43: quite the specimen {link} [codes valid: 8:00-11:59:59a 03/15/11] #infektd #sxsw #cvdc\n",
      "2754                                                                     n14: there will be blood {link} [codes valid: 4:00-7:59:59p 03/12/11] #infektd #sxsw #necro\n",
      "2768                                        so awesome! rt @mention knitted staircase in attendance at #sxsw party tomo 7pm hosted by @mention &amp; @mention {link}\n",
      "2777                                              had no idea that @mention quietly launched its hotpot review product last fall #outoftheloop #sxsw.  look into it.\n",
      "2779                                c'mon already - @mention to launch major new social network called circles, possibly today by @mention {link} via @mention #sxsw\n",
      "2787                                                                                                                #aapl already the big winner at #sxsw {link} #in\n",
      "2788                         getting ready to hear about the @mention road map from vp product marissa mayer.  pls tell me you're going to focus on search.... #sxsw\n",
      "2797                                                            enjoyed learning about @mention experimentation product strategy fr @mention #sxtxstate #sxsw {link}\n",
      "2800                                                                                            itune released free #sxsw featured music! download them today {link}\n",
      "2804                                         #sxsw giveaway! free qr codes for your business cards and convention badges! get them at booth #1315 by @mention {link}\n",
      "2806                                    update #recco! {link} which #sxsw panels/parties are def good times? follow friends who've been there b4 if you're a newbie.\n",
      "2814                                                              z17: protect the innocent {link} en6p2e [codes valid: 8:00-11:59:59p 03/12/11] #infektd #sxsw #zlf\n",
      "2823                                                                         just bumped into @mention here in austin for sxswi and accelerater  {link}  #tech #sxsw\n",
      "2827                                                    just posted my interview with @mention about the @mention story. that was really fun! {link} #appsavvy #sxsw\n",
      "2844                                             my must see #sxsw speakers: marissa mayer @mention pete cashmore @mention and dennis crowley @mention #gsdm #austin\n",
      "2859                                                          i can't keep up with this stuff: @mention to launch @mention like rewards at #sxsw {link} via @mention\n",
      "2869                   nadya direkova, @mention riffs on sid meier - user engagement w/ game mechanics - you canûªt over reward the user in first 10 minutes  #sxsw\n",
      "2888                                                     i'll be helping @mention at 12:30 for the twitter for good at #sxsw at icenhaur's. come and join us  {link}\n",
      "2890                                     safe travels, everyone. make sure to get your free gogo inflight wifi and sign up for the freshbooks shuttle!  {link} #sxsw\n",
      "2921                                                       @mention enjoy #sxsw and ride anywhere in austin for $10 . download the #groundlink app {link}  booth 437\n",
      "2934                                                                                thanks @mention @mention for the fun party @mention for #sxsw last night: {link}\n",
      "2945                                                                                          thanks @mention for hosting this event #sxsw #sxswi #iwantacr48 {link}\n",
      "2949                                      rad rt @mention hey dudes @mention is giving away a sampler of bands at #sxsw w/ a free glasser track.. pick it up! {link}\n",
      "2965                                                          fluffy @mention seen @mention party last night with @mention &amp; @mention camera  {link} #sxsw #sxsi\n",
      "2980                                scoping venue 4 @mention #cloudcamp #austin: valhalla lounge. great whiskey &amp; beer plus demolition man pinball! {link} #sxsw\n",
      "2986                                               #sxsw. peep the awesome product video - @mention can't compete with these games. - {link} - cc @mention  @mention\n",
      "3002                       #sxsw interactive award: music category goes to &quot;wilderness downtown&quot;. congrats shared with @mention @mention @mention #winning\n",
      "3017                                      #sxsw movers &amp; shakers, @mention is publishing a &quot;poke the box&quot; ebook. get involved: {link} (rt @mention #in\n",
      "3069                                                                  i21: no rest for the wicked {link} [codes valid: 12:00-3:59:59p 03/13/11] #infektd #sxsw #zomb\n",
      "3073                                brutal question served up to marissa mayer about jc penney mapping getting rerouted to macy's?  uncomfortable for @mention #sxsw\n",
      "3101                                    @mention everybody r #sxsw! grounlink  2. dwnld #groundlink app &amp; ride in limo for $10 in austin {link} see us booth 437\n",
      "3108                                                                        z28: curfew be damned  {link} [codes valid: 8:00-11:59:59p 03/13/11] #infektd #sxsw #zlf\n",
      "3117                                                                    i32: no news is good news {link} [codes valid: 12:00-3:59:59p 03/14/11] #infektd #sxsw #zomb\n",
      "3118                hey user experience people at #sxsw, @mention manager of ux for ads at @mention is at the at&amp;t booth in front of ballroom d until 1:15 #jobs\n",
      "3120                               festival explorer austin edition helps keep track of sxsw bands you want to see &amp; makes recommendations too: {link} #fb #sxsw\n",
      "3128                                 reports of @mention introducing a new social media platform at #sxsw were premature, but hopefully not overly optimistic {link}\n",
      "3133                                                                          free stuff alert! download @mention new #austin guide for free this week: {link} #sxsw\n",
      "3160                                                                             z20: verification {link} [codes valid: 8:00-11:59:59a 03/13/11] #infektd #sxsw #zlf\n",
      "3165                                                          @mention fires a shot at @mention with check-in rewards and titles starting in austin #sxsw {link} #in\n",
      "3216                             best thing abt @mention for #sxsw?  $1 sherry on the patio &amp; plenty of free parking | 5-10 min n of &quot;the mess&quot; {link}\n",
      "3217                             best thing abt @mention for #sxsw?  bad ass brunch w/patio &amp; plenty of free parking | 5-10 min n of &quot;the mess&quot; {link}\n",
      "3218                     best thing abt @mention for #sxsw?  great food &amp; drink w/patio &amp; plenty of free parking | 5-10 min n of &quot;the mess&quot; {link}\n",
      "3219                           best thing abt @mention for #sxsw?  proper cocktails w/patio &amp; plenty of free parking | 5-10 min n of &quot;the mess&quot; {link}\n",
      "3236                                               was hoping to pull the family card for some @mention @mention @mention love tonight. think i tried too late #sxsw\n",
      "3241                                                             refreshing, liveley and informative talk on game design mechanics by @mention @mention #sxswi #sxsw\n",
      "3244                                 childish gambino was at the dmi house too, but he was eating, so we didn't bother him. looked good too.  location {link}  #sxsw\n",
      "3254                                                                                                                  don't forget, #sxsw is about the music! {link}\n",
      "3258                                                                                            @mention getting ready listening to the  #sxsw party podcasts {link}\n",
      "3266                                           you're right, wow! rt @mention wiebe walking through conceptual graphing {link} #sxsw / @mention you'd be loving this\n",
      "3367                                                          my colleague @mention on a culinary adventure in austin at #sxsw: {link}  chicken waffle tacos anyone?\n",
      "3397                                                                       i10: march of the pigs {link} [codes valid: 12:00-3:59:59p 03/12/11] #infektd #sxsw #zomb\n",
      "3408                                                 weather changed today at #sxsw, get exclusive weather updates from kxan austin's jim spencer on @mention {link}\n",
      "3418                                     @mention has evolved from novelty game to essential utility. what now @mention @mention {link} via @mention @indysaha #sxsw\n",
      "3443                                                                 today's the day - join the mobile social ride at #sxsw {link} need the app for the ride? {link}\n",
      "3452                                                                            n37: on the scent {link} [codes valid: 4:00-7:59:59p 03/14/11] #infektd #sxsw #necro\n",
      "3465                                                @mention hello! enjoy #sxsw and ride anywhere in austin for $10 . download the #groundlink app, {link} booth 437\n",
      "3470                                                                                                  @mention here's your personal guide to austin for #sxsw {link}\n",
      "3508                                                                 i17: symphony of destruction {link} [codes valid: 8:00-11:59:59p 03/12/11] #infektd #sxsw #zomb\n",
      "3512                                      geeks without bounds #sxsw #meetup geeks without bounds sun, march 13, 6pm ûò 7pm\\nmeet @mention the turnstone bus {link}\n",
      "3513                                                        why the shout-out to ukraine? {link} @mention @mention html validation needed for ranking? {link}  #sxsw\n",
      "3560                                                                  i38: can i play with madness {link} [codes valid: 4:00-7:59:59p 03/14/11] #infektd #sxsw #zomb\n",
      "3573                      @mention i would love to chk out #ie9 at #sxsw but @mention has no handsets and the 1 thats upcoming will not seduce me away from @mention\n",
      "3613                                                        an interview with the artists behind #ogilvynotes: the #ogilvy #sydney #sxsw #podcast ep4 #ausxsw {link}\n",
      "3616                                                         i wonder if @mention released {link} on a friday and when #sxsw started in order to fly under the radar\n",
      "3636                                                               @mention if you're looking for a space to #escape at #sxsw, why don't you stop by arthaus! {link}\n",
      "3637                                      @mention if you're looking for a space to network and mingle at #sxsw, why don't you stop by arthaus! check it out: {link}\n",
      "3638                                         @mention if you're looking for a space to set up meetings at #sxsw, why don't you stop by arthaus! check it out: {link}\n",
      "3665                                just in time @mention wrote an @mention article about us dubbing filmaster &quot;foursquare for cinemaphiles&quot; {link}  #sxsw\n",
      "3678                                         please join me on #facebook  hear from my great guests --&gt; @mention @mention @mention     {link} &lt;---- here #sxsw\n",
      "3731                                                        team heading to big boi show, thanks to @mention crew.  rt and find the owl for free tattoo {link} #sxsw\n",
      "3732                                               stop killing trees! rt @mention new post: business cards are dead: send me your card via hashable at #sxsw {link}\n",
      "3736                                                                             come to singapore roar's party. the 512 at 6th street. {link} #sgroars #sxswi #sxsw\n",
      "3737                                                           come to singapore roar's party. the 512 at 6th street. {link} #sgroars #sxswi #sxsw #sgrocks @mention\n",
      "3747                                                                                 {link} coinsidence? sounds like a good strategy to me. wish i could go to #sxsw\n",
      "3758                                                                              hey @mention , i've got another gem for you --&gt; free @mention sxsw {link} #sxsw\n",
      "3759                                                         the @mention / @mention party was without a doubt the best party i've ever been to in #sxsw. well done!\n",
      "3760                      the @mention &quot;future&quot; of contextual discovery is a nice way of articulating the intersection of social, mobile and search. #sxsw\n",
      "3761                                                                                                      presentation #touchingstories (zinio) online: {link} #sxsw\n",
      "3771                                       rt ûï@mention going to / at #sxsw? check-in w/friends while youûªre in #austin w/these location-based apps! {link} #lbs\n",
      "3775                                                                                   hey @mention great sf coffee at {link} and {link} (nice to meet you at #sxsw)\n",
      "3781                                                                       did @mention just effectively kill their 3rd party developer base? {link} #sxsw #ismparty\n",
      "3846                                                                            c9: the first cut {link} [codes valid: 8:00-11:59:59a 03/12/11] #infektd #sxsw #cvdc\n",
      "3856                                so #sxsw is cool. i strike up a conversation with a bloke who happens to work for the guardian &amp; a few hours later... {link}\n",
      "3862                                                                               z9: what is it? {link} [codes valid: 8:00-11:59:59a 03/12/11] #infektd #sxsw #zlf\n",
      "3871                                                                                        @mention is right next to @mention on the #sxsw trade show floor! {link}\n",
      "3893                                                 #sxsw - missed marissa mayer @mention yesterday - is presentation available anywhere? not sure if was streamed.\n",
      "3915                                               #sxsw digital innovators the new rock stars like @mention awesome talk. insight into @mention future #musicconnex\n",
      "3920                                                                                         hanging with @mention for last night of #sxsw at @mention party. #blast\n",
      "3921                                         i agree with @mention on their @mention concerns, but your #sxsw #microformats panelist is just condescending and rude.\n",
      "3942                                                                                              the creative process illustrated.  check out the book {link} #sxsw\n",
      "3953                                                                   @mention just blogged our meeting earlier! {link} - thanks for the interesting insight! #sxsw\n",
      "3965                                                    great link &gt;&gt; rt @mention  what? ÷_ {link} ã_ #edchat #musedchat #sxsw #sxswi #classical #newtwitter\n",
      "3967                                                                               launchrock and vencorps want to give $30k to the ûïbestû startups #sxsw {link}\n",
      "3975          great talk by @mention from @mention about game mechanics. &quot;if u cant make it good, make it red.  if u cant make it red, make it big.&quot; #sxsw\n",
      "3989                                                                         c23: check the head  {link} [codes valid: 12:00-3:59:59p 03/13/11] #infektd #sxsw #cvdc\n",
      "3996                                                                                                      i feel like a badass. @mention gave me a free drink. #sxsw\n",
      "4018                                                                          wiebe walking through conceptual graphing {link} #sxsw / @mention you'd be loving this\n",
      "4027                                                                                                            inofficial #sxsw torrents are available here: {link}\n",
      "4046                         things ppl say about/to @mention make me laugh.  you want free turn-by-turn gps, but wait - don't take pics of the sidewalk #cmon #sxsw\n",
      "4055                     no umbrella when you have &quot;the list&quot; via @mention ÷¼ are you all set? ÷_ {link} ÷_ #edchat #musedchat #sxsw #sxswi #newtwitter\n",
      "4065                                  24 hours later, we retreat back to our hotel, bushwhacked. ringo deathstarr'd, never seen so many effects pedals  #sxsw {link}\n",
      "4066                                                                                                                   grab the latest @mention before #sxsw! {link}\n",
      "4130                                      rumours cleared &gt;&gt; rt @mention we're not launching any products at #sxsw but we're doing plenty else. join us {link}\n",
      "4159                                                                           &lt;nice lil sizzle reel&gt; #sxsw: by the numbers (video) {link} #music #socialmedia\n",
      "4173                                                                                                  about to listen to a talk from @mention marissa mayer at #sxsw\n",
      "4203                                                                         {link} killer shot i got last night of @mention at the #nokiaconnects concert for #sxsw\n",
      "4223                                                                              @mention lost its way by caring too much about its business.  - tim o'reilly #sxsw\n",
      "4237                                                                                                          @mention luckily @mention has a pop up store at #sxsw!\n",
      "4262                                             video: tim wu explains to me #netneutrality, information empires and himself: {link} thanks @mention @mention #sxsw\n",
      "4283                                                                             great summary from #sxsw marissa mayer talks of layar, hotpot, maps and more {link}\n",
      "4287                           @mention mayer's great theme during q &amp; a: simplicity, something all businesses should always keep in mind when developing. #sxsw\n",
      "4307                                talk by @mention beginning now. first met her in summer of '99 when she started at @mention always enjoy seeing her speak. #sxsw\n",
      "4370                                                                                                  forget samplers. download the unofficial #sxsw torrent: {link}\n",
      "4381                                                        &quot;community is a place where the web is your friend and the app is not.&quot; {link} #sxsw #grauniad\n",
      "4404                                                 innovation &amp; creativity keeps @mention moving. 90+ jobs available via #sxsw hiring hub: {link} #sxswmonster\n",
      "4414                                                       rt@mention by parabolico_bh maravilha, aproveitem!\\n{link} ã_ #edchat #musedchat #sxsw #sxswi #classical\n",
      "4445                                                                                                              . @mention party has good college party feel #sxsw\n",
      "4492                                                                    ÷¼ go beyond borders! ÷_ {link} ã_ #edchat #musedchat #sxsw #sxswi #classical #newtwitter\n",
      "4521                                     dear friends secret michael cera/barbarian group show at 5 pm here: {link} @mention @mention @mention @mention #sxsw #sxswi\n",
      "4548                                                                                        does anyone know of a way to watch @mention announcement @mention #sxsw?\n",
      "4565                                                                                  @mention needs a driving buddy for 30 hours from #albany to #sxsw -&gt; {link}\n",
      "4587                                                                                        get your new wordpress blog indexed in 24 hours [checklist] {link} #sxsw\n",
      "4608                                                                              z16: saving grace {link} [codes valid: 4:00-7:59:59p 03/12/11] #infektd #sxsw #zlf\n",
      "4609                                                                                           like seeing how @mention is applying technology to art project. #sxsw\n",
      "4616                                                 interesting rt @mention @mention to launch major new social network called circles, possibly today {link} #sxsw\n",
      "4700                                    @mention not launching any products at #sxsw but they are doing plenty else. join them for #h4ckers &amp; 80s dancing.{link}\n",
      "4715                                     did you know each year the sxsw conference showcases tons of new music? download it for free: {link} #sxsw #free #music #fb\n",
      "4739                                really want a braille @mention shirt. i've seen a few people at #sxsw wear them. maybe i'll ask the guys at the booth next door.\n",
      "4765                                                               #sxsw @mention and @mention present: the industry party (@mention gsd&amp;m w/ 165 others) {link}\n",
      "4781                                                                                          nope, @mention is not launching its own social network at #sxsw {link}\n",
      "4798                                                               #sxsw @mention rocks the casbah at @mention @mention #partylikeits1986 for digital rights  {link}\n",
      "4808                                                                       z37: cleanup on aisle 3! {link} [codes valid: 4:00-7:59:59p 03/14/11] #infektd #sxsw #zlf\n",
      "4819                                                                                       big ups to @mention for his awesome #austin for newbies map: {link} #sxsw\n",
      "4835                                                this is so awesome. rt @mention headed to #austin for #sxsw? check out my map for newbies {link} @mention enjoy!\n",
      "4863                                                                heading to lunch @mention b.d. ridley's {link} for a refresh austin welcome lunch / #sxsw event.\n",
      "4875                                                               heading to talk by @mention #searchengineland #sxsw on a q&amp;a session with @mention &amp; bing\n",
      "4885                                         well hello, #sxsw! here's a free @mention sampler, to celebrate the festival this year, including barton hollow: {link}\n",
      "4907                                                                                                     in front of @mention popup store at #sxsw last night {link}\n",
      "4909                                                                speaking of #sxsw,  almost done w/this massive schedule.  anyone going next wk, check it! {link}\n",
      "4914                                                                             +1- lots of fun. rt @mention @mention #hollergram app is killing it at #sxsw {link}\n",
      "4921                                                                          z1: dawn of the dead {link} [codes valid: 12:00-3:59:59p 03/11/11] #infektd #sxsw #zlf\n",
      "4922                                                                  n31: out of the frying pan {link} [codes valid: 8:00-11:59:59a 03/14/11] #infektd #sxsw #necro\n",
      "4923                                                                         z40: eye of the storm {link} [codes valid: 8:00-11:59:59p 03/14/11] #infektd #sxsw #zlf\n",
      "4977                                      digging john mcree's talk about designing for boomers? maybe you'll like this research: {link} #sxsw #yourmom #olderadults\n",
      "5003                     lack of collaboration &amp; opportunism rt @mention why has latin america not produced the next @mention or @mention ? #latism #latam #sxsw\n",
      "5014                                               ÷¼ happy woman's day! make love, not fuss! ÷_ {link} ã_ #edchat #musedchat #sxsw #sxswi #classical #newtwitter\n",
      "5016                                                                  c10: welcome to the machine {link} [codes valid: 12:00-3:59:59p 03/12/11] #infektd #sxsw #cvdc\n",
      "5025                                                                                                                                                     rt @mention\n",
      "5050                                    rt @mention .@mention is competing with @mention circles on the socialflow board for most resonant topic here. #sxsw  {link}\n",
      "5053             rt @mention .@mention of @mention on manufacturing serendipity- &quot;having access to more information makes us more curious, not less&quot; #sxsw\n",
      "5061                    rt @mention ûï@mention {link} &lt;-- help me forward this doc to all anonymous accounts, techies,&amp; ppl who can help us jam #libya #sxsw\n",
      "5085                                                             rt @mention {link} killer shot i got last night of @mention at the #nokiaconnects concert for #sxsw\n",
      "5102                          rt @mention @mention @mention great to meet you @mention meetup! this is the post about our new #sxsw medical apps {link} #sxswh #hcsm\n",
      "5106                          rt @mention @mention &amp; @mention are becoming competitors 4 @mention now that they're starting to realize #checkins are cool. #sxsw\n",
      "5107                           rt @mention @mention &amp; @mention were quick to encourage seo practitioners to avoid dwelling on page rank (focus on content) #sxsw\n",
      "5113                                                                                        rt @mention @mention announces #windowsphone app today #sxsw {link} #wp7\n",
      "5130                                          rt @mention @mention hey rudy, are belgiums and dutch taking over #sxsw? we launched www.skylines.net and {link} today\n",
      "5147                          rt @mention @mention rainey street is a nice alternative to 6th street #sxsw parties. walking directions from convention center {link}\n",
      "5151                                                      rt @mention @mention to launch major new social network called circles.. {link} #sxsw v @mention @mentionc\n",
      "5152                       rt @mention @mention to launch social network called circles, possibly today {link} #sxsw via: @mention - this should be interesting ^ jl\n",
      "5153                                                                         rt @mention @mention wanna sign up for the beta: {link} #sxsw #hhrs ---&gt;&gt; did it!\n",
      "5157          rt @mention @mention worked with @mention to create open-source s2 to fill the gap needed by location-based applications that use nosql db model #sxsw\n",
      "5161                                                                                rt @mention /@mention grab the latest @mention before #sxsw! {link} #saytextson!\n",
      "5172                                            rt @mention &quot;community is a place where the web is your friend and the app is not.&quot; {link} #sxsw #grauniad\n",
      "5173                   rt @mention &quot;credit card companies know with 98% accuracy 2 yrs before that you're going to get divorced&quot;  @mention at #sxsw {link}\n",
      "5219  rt @mention #awesome @mention &amp; @mention on ranking: there are no normal results, quit ranking. page views, unique visitors - these analytics matter #sxsw\n",
      "5223                                                         rt @mention #fsw #sxsw for those of you who wanted to know about the spec for parsing ajax links {link}\n",
      "5253                      rt @mention #startups: free premium service on your 1st job post {link} #lean #leanux #leanstartup #sxsw #sxswi #launch #startup #founders\n",
      "5263                                                   rt @mention #sxsw @mention rocks the casbah at @mention @mention #partylikeits1986 for digital rights  {link}\n",
      "5286                                       rt @mention #sxsw come see bitbop in austin #gdgtaustin at the purevolume house\\n504 trinity on monday, march 14th {link}\n",
      "5289                                         rt @mention #sxsw free app festival explorer helps you find the bands you want to see based on your music tastes {link}\n",
      "5301           rt @mention #sxsw interactive award: music category goes to &quot;wilderness downtown&quot;. congrats shared with @mention @mention @mention #winning\n",
      "5309                                                                                                                rt @mention #sxsw party calendar on gcal: {link}\n",
      "5310                                                      rt @mention #sxsw party podcasts {link} @mention @mention @mention @designerdrugs @iampaintedface @h0u5t0n\n",
      "5329                                                                                     rt @mention #wahoos #sxsw party free beers, tacos, and ritas thurs.\\n{link}\n",
      "5332                                                                 rt @mention ÷¼ ????????? ÷_ {link} ã_ #edchat #musedchat #sxsw #sxswi #classical #newtwitter\n",
      "5333                                                    rt @mention ÷¼ ????????? ÷_ {link} ã_ #edchat #musedchat #sxsw #sxswi #classical #newtwitter  rt @mention\n",
      "5334                                                                     rt @mention ÷¼ are you all set? ÷_ {link} ÷_ #edchat #musedchat #sxsw #sxswi #newtwitter\n",
      "5335                                                        rt @mention ÷¼ as right as rain! ÷_ {link} ã_ #edchat #musedchat #sxsw #sxswi\\n#classical #newtwitter\n",
      "5336                                                        rt @mention ÷¼ go beyond borders! ÷_ {link} ã_ #edchat #musedchat #sxsw #sxswi #classical #newtwitter\n",
      "5337                                                         rt @mention ÷¼ go beyond borders! ÷_ {link} ë© #edchat #musedchat #sxsw #sxswi #classical #newtwitter\n",
      "5338                                                        rt @mention ÷¼ go beyond borders! ÷_ {link} ã_ #edchat #musedchat #sxsw #sxswi #classical #newtwitter\n",
      "5339                                   rt @mention ÷¼ happy woman's day! make love, not fuss! ÷_ {link} ã_ #edchat #musedchat #sxsw #sxswi #classical #newtwitter\n",
      "5340                                    rt @mention ÷¼ happy woman's day! make love, not fuss! ÷_ {link} ë© #edchat #musedchat #sxsw #sxswi #classical #newtwitter\n",
      "5341                                   rt @mention ÷¼ happy woman's day! make love, not fuss! ÷_ {link} ã_ #edchat #musedchat #sxsw #sxswi #classical #newtwitter\n",
      "5342                    rt @mention ÷¼ no fear, no envy, no meanness, no lies, no hypocrisyû_÷_ {link} ã_ #edchat #musedchat #sxsw #sxswi #classical #newtwitter\n",
      "5343                                                           rt @mention ÷¼ not a bad idea! ÷_ {link} ã_ #edchat #musedchat #sxsw #sxswi #classical #newtwitter\n",
      "5344                                  rt @mention ÷¼ we have problemsû_time to stop *******! ÷_ {link} ã_ #edchat #musedchat #sxsw #sxswi #classical #newtwitter\n",
      "5345                     rt @mention ÷¼ we love 2 entertain youû_please donûªt be grateful! ÷_ {link} ã_ #edchat #musedchat #sxsw #sxswi #classical #newtwitter\n",
      "5352                              rt @mention 2nd stringer #gowalla aims for relevance by creating &quot;groupon or living social-type&quot; rewards at #sxsw {link}\n",
      "5362                                                                   rt @mention 80s hair &amp; makeup station at @mention @mention #sxsw #partylikeits1986 {link}\n",
      "5382                                                                           rt @mention all you #sxsw tweeps, check out our homies @mention this thursday. {link}\n",
      "5383                              rt @mention all: @mention recorded a cover exclusively for #apartmovie, produced by dan auerbach. now you can buy it: {link} #sxsw\n",
      "5395                                                                                         rt @mention another great spreadsheet of all the #sxsw parties - {link}\n",
      "5488                                                        rt @mention are you at #sxsw? check out #tokii in the the maple leaf digital lounge {link} www.tokii.com\n",
      "5489                                                      rt @mention are you attending the #sxsw and want to explore #austin ? check out @mention for austin {link}\n",
      "5511                                                            rt @mention at #sxsw? @mention / @mention wanna buy you a drink. 7pm at fado on 4th. {link} join us!\n",
      "5513              rt @mention at #sxsw? don't forget to come to the #privacybootcamp for startups with @mention @mention @mention and @aclu in acc 9abc at 3:30 cst!\n",
      "5514                  rt @mention at #sxsw? don't forget to come to the #privacybootcamp for startups with @mention @mention @mention and @aclu in acc 9abc at 3:30!\n",
      "5516                                              rt @mention at #sxsw? join us for a drink (or 2) tonight at 7pm. fado irish pub on 4th.  {link} we'd love to meet!\n",
      "5518          rt @mention at #sxsw? your #chaos mission is to download @mention app, check-in &amp; start playing to redeem prizes @mention austin hot spots! {link}\n",
      "5519                          rt @mention at #sxsw? your mission is to download @mention app, check-in &amp; play to redeem prizes @mention austin hot spots! {link}\n",
      "5538                                                                       rt @mention awesome presentation on digital magazines {link} #touchingstories #sxsw #gsdm\n",
      "5558         rt @mention best thing abt @mention for #sxsw?  great food &amp; drink w/patio &amp; plenty of free parking | 5-10 min n of &quot;the mess&quot; {link}\n",
      "5606                                                                 rt @mention check out our daily #sxsw reports (dutch): day1 {link}  day2 {link} more to follow!\n",
      "5608                           rt @mention check out the @mention route {link} ; rsvp here -&gt; https://www.facebook.com/event.php?eid=141164002609303 #sxswi #sxsw\n",
      "5610                                                      rt @mention check out the daily recaps of #sxsw by @mention &amp; @mention at the @mention hotspot: {link}\n",
      "5613                                                        rt @mention check out the new @mention app {link} - this is gonna be huge next week at #sxsw and beyond.\n",
      "5634                                                                 rt @mention come to singapore roar's party. the 512 at 6th street. {link} #sgroars #sxswi #sxsw\n",
      "5648                              rt @mention coyneûªs very own @mention and @mention are #sxsw. hereûªs how to keep up with them while they're on the road {link}\n",
      "5649                                       rt @mention crisiscommons: monitoring and collection of datasets  - call for volunteers issued - {link} #sxsw #japanquake\n",
      "5651                                       rt @mention d/l @mention come to the uj* booth in acc hall 2! snap pics &amp; send em to us #fightthepaddle! {link} #sxsw\n",
      "5656                                         rt @mention day 4: sxswi wrap-up with tracy shea @mention and rick and bobby liebling @mention - {link} #sxsw #hotsheet\n",
      "5658                                                         rt @mention dear folks at #sxsw. got lost? can use a free compass with map built-in? here's one: {link}\n",
      "5672                                       rt @mention did some one say free music? did someone say free @mention music!? yes, yes they did. {link} #sxsw #freemusic\n",
      "5675                                                rt @mention digging john mcree's talk about designing for boomers? maybe you'll like this research: {link} #sxsw\n",
      "5676                          rt @mention digging john mcree's talk about designing for boomers? maybe you'll like this research: {link} #sxsw #yourmom #olderadults\n",
      "5688                                                rt @mention download 20+ free tracks from the @mention music sampler on @mention including @mention {link} #sxsw\n",
      "5689                                                rt @mention download 20+ free tracks from the #sxsw music sampler available on the @mention store today!  {link}\n",
      "5690                                    rt @mention download 20+ free tracks from the #sxsw music sampler available on the @mention store today!  {link} #dtsxsw #fb\n",
      "5706                                                     rt @mention excellent @mention and @mention presentation on digital magazines {link} #touchingstories #sxsw\n",
      "5716                   rt @mention festival explorer austin edition helps keep track of sxsw bands you want to see &amp; makes recommendations too: {link} #fb #sxsw\n",
      "5733                                                        rt @mention for everyone at #sxsw here is a map of my favorite places in austin {link} @mention @mention\n",
      "5735                                                             rt @mention for those #notatsxsw (or at #sxsw), here's {link} free to download and meet nearby peps\n",
      "5747                                                                                                  rt @mention free jams! why not? {link} #sxsw @mention @mention\n",
      "5748                                                              rt @mention free stuff alert! download @mention new #austin guide for free this week: {link} #sxsw\n",
      "5754                                                                                                   rt @mention full #sxsw #touchingstories presentation:  {link}\n",
      "5755                                                                                                    rt @mention full #sxsw #touchingstories presentation: {link}\n",
      "5761                                                                   rt @mention gamesalad is the topic of a dutch podcast! {link} #gssxsw #sxsw #sxsw2011 #sxswnl\n",
      "5763                                  rt @mention gearing up to make a splash, @mention to launch &quot;@mention or living social-type&quot; rewards at #sxsw {link}\n",
      "5764                                 rt @mention gearing up to make a splash, @mention to launch &quot;groupon or living social-type&quot; rewards at #sxsw - {link}\n",
      "5765                                   rt @mention gearing up to make a splash, @mention to launch &quot;groupon or living social-type&quot; rewards at #sxsw {link}\n",
      "5769                                      rt @mention get #sxsw film red carpet coverage from @mention cw austin star mandy dugan on grouped{in}, get the app {link}\n",
      "5775                                     rt @mention get the free coverage:sxsw app! know where in austin you'll get the best cellular data connection. #sxsw {link}\n",
      "5785                                                        rt @mention going to #sxsw? need a lift from the airport? register for the free @mention shuttle! {link}\n",
      "5943                                                                       rt @mention gowalla expected to launch groupon-like rewards at #sxsw {link} (via @mention\n",
      "5947                                                                                                  rt @mention great for meetings, haha! #hollergram {link} #sxsw\n",
      "5948                                        rt @mention great link &gt;&gt; rt @mention  what? ÷_ {link} ã_ #edchat #musedchat #sxsw #sxswi #classical #newtwitter\n",
      "5960                                        rt @mention happy #sxsw! can't make it to austin? download the free featured artists of sxsw playlist on @mention {link}\n",
      "5968                                                    rt @mention head over to  {link} by 1pm cst today to win vip access to my acoustic solo set at #sxsw tonight\n",
      "5969                                rt @mention head over to  {link} by 1pm cst today to win vip access to my acoustic solo set at #sxsw tonight with #nokiaconnects\n",
      "5970                                        rt @mention head over to {link} by 1pm cst today to win vip access to my acoustic solo set at #sxsw tonight alguien ahi?\n",
      "5977                                                rt @mention heads up! rt @mention come and see the new awesome flairbuilder release. {link} great tool #sxsw #ux\n",
      "5985                            rt @mention hello #sxsw ppl if u wnt 2 share mobile vid @mention the show download {link} share 2 mobile friends, tweet, etc #client\n",
      "5988                                                  rt @mention here is a list of all the music performers at #sxsw {link} .  i used jquery to screen-scrape it :)\n",
      "5990                                 rt @mention here it is! my #sxsw itinerary. all of these events are free and don't require band/badge. {link} enjoy the fest :)\n",
      "5991                                               rt @mention here's a free @mention sampler, to celebrate #sxsw this year, including barton hollow: {link} / nice!\n",
      "5996                                                                            rt @mention hey #nerdbird crew - grab our app and snap some freak pics! {link} #sxsw\n",
      "5997                                                       rt @mention hey #sxsw #sxswi folks. if you want to learn about security come over to #bsidesaustin {link}\n",
      "5999                                                                       rt @mention hey #sxsw folks: free lunch from la condesa at the pepsi max lot! map: {link}\n",
      "6001                               rt @mention hey #sxsw movers and shakers, @mention is publishing a &quot;poke the box&quot; ebook next week. get involved: {link}\n",
      "6004                                                                                              rt @mention hey #sxsw, there's some offers out there for ya {link}\n",
      "6034                                                                                               rt @mention horror stories from women in tech: {link} #sxsw #9to5\n",
      "6075                                         rt @mention i'll be helping @mention at 12:30 for the twitter for good at #sxsw at icenhaur's. come and join us  {link}\n",
      "6089                                  rt @mention if i were at #sxsw i could spend it all at the @mention teaching theater alone; just look at that schedule: {link}\n",
      "6095                                        rt @mention if you are attending #sxsw, please bring your old mobile phones for the hope phones project {link}  @mention\n",
      "6110                                  rt @mention if you're at #sxsw : meet us at fado. we will give you wristbands that magically lead to beer. come say hi! {link}\n",
      "6114                                               rt @mention if you're racing around #sxsw, you best be fueling up with great local fare\\n#eatshopaustinapp {link}\n",
      "6115                                         rt @mention if you're trying to contact friends or family in #japan, @mention has created a person finder: {link} #sxsw\n",
      "6120                                  rt @mention important: make sure you're donating to the japanese red cross for #japan: {link} #sxswcares #sxsw #quake (pls rt)\n",
      "6124                                                           rt @mention in case you missed #sxsw news coverage, we were featured in today's fast company:  {link}\n",
      "6125                                                                                         rt @mention in front of @mention popup store at #sxsw last night {link}\n",
      "6137                                     rt @mention interesting rt @mention @mention to launch major new social network called circles, possibly today {link} #sxsw\n",
      "6204                                                             rt @mention just bumped into @mention here in austin for sxswi and accelerater  {link}  #tech #sxsw\n",
      "6215                                        rt @mention just posted my interview with @mention about the @mention story. that was really fun! {link} #appsavvy #sxsw\n",
      "6231                                                        rt @mention kicking it 80's style at the @mention party with @mention and @mention #sxsw\\n {link} {link}\n",
      "6234                                                    rt @mention knitted staircase in attendance at #sxsw party tomo 7pm hosted by @mention &amp; @mention {link}\n",
      "6235         rt @mention lack of collaboration &amp; opportunism rt @mention why has latin america not produced the next @mention or @mention ? #latism #latam #sxsw\n",
      "6285                                        rt @mention make sure you are donating to the japanese red cross for #japan: {link} #sxswcares #sxsw #quake | thank you!\n",
      "6316                                   12 trillion miles driven every year using @mention maps  - each day saving users 2 years in time wasted in traffic jams #sxsw\n",
      "6340                                           rt @mention need a late night snack? @mention discovered some filling options at sxswi recap day 3! {link} #sxsw #yum\n",
      "6342                           rt @mention need help finding friends and meeting up at #sxsw? check out the free where u at? install it to save a kitten! j/k {link}\n",
      "6356                                                                                                          rt @mention new blog: watch this @mention #sxsw {link}\n",
      "6364                                                                   rt @mention new post: business cards are dead: send me your card via hashable at #sxsw {link}\n",
      "6378         rt @mention no umbrella when you have &quot;the list&quot; via @mention ÷¼ are you all set? ÷_ {link} ÷_ #edchat #musedchat #sxsw #sxswi #newtwitter\n",
      "6384                                                                            rt @mention not launching any products at #sxsw but we're doing plenty else.  {link}\n",
      "6390                                                                                                      rt @mention now discussing pubsubhubbub: {link} #fsw #sxsw\n",
      "6423                                  2rd stop on our most excellent meat adventure, city-market in lulling! good, but no smittys! {link} #sxsw #meatxmeatwest #bxbq\n",
      "6433                                   rt @mention panel at #sxsw called what? those guys are canadian?  featuring: the ceos of hootsuite, kiip and syncapse. {link}\n",
      "6452                                                rt @mention pre-order the @mention 'humorous to bees' lp on @mention catch them this month @mention {link} #sxsw\n",
      "6454                                                                                          rt @mention presentation #touchingstories (zinio) online: {link} #sxsw\n",
      "6455                                                             rt @mention public notes for &quot;5 steps to bulletproof ux strategy&quot;: {link} #sxsw #rhjr_ux5\n",
      "6472                                              rt @mention reason 19: keep parakeets employed! {link} keep track of where the ladies are at #sxsw {link} @mention\n",
      "6474                                                                             rt @mention reks ( @mention ) album in stores and online now!!! {link} {link} #sxsw\n",
      "6475                                           rt @mention remember @mention from our last campaign &amp; upcoming #sxsw event? {link} his new album dropped! {link}\n",
      "6476                      rt @mention remember, chime in with tweets about your #nasatweetup experience between 2:15pm - 3pm central time for #sxsw session - {link}\n",
      "6480                           rt @mention rt ûï@mention going to / at #sxsw? check-in w/friends while youûªre in #austin w/these location-based apps! {link} #lbs\n",
      "6489                                             rt @mention rt @mention @mention to launch major new social network called circles.. {link} #sxsw v @mention @njdoc\n",
      "6501                                             rt @mention rt @mention ÷¼ go beyond borders! ÷_ {link} ë© #edchat #musedchat #sxsw #sxswi #classical #newtwitter\n",
      "6502                        rt @mention rt @mention ÷¼ happy woman's day! make love, not fuss! ÷_ {link} ë© #edchat #musedchat #sxsw #sxswi #classical #newtwitter\n",
      "6526                                            rt @mention rt @mention download 20+ free tracks from @mention music sampler @mention including @glove! {link} #sxsw\n",
      "6528                                           rt @mention rt @mention for everyone at #sxsw here is a map of my favorite places in austin {link} @mention @mentione\n",
      "6531                       rt @mention rt @mention gearing up to make a splash, @mention to launch &quot;groupon or living social-type&quot; rewards at #sxsw {link}\n",
      "6598                                                 rt @mention rt @mention public notes for &quot;5 steps to bulletproof ux strategy&quot;: {link} #sxsw #rhjr_ux5\n",
      "6623                                      rt @mention rt @mention we're not launching any products at #sxsw but doing plenty else. join us for #h4ckers today {link}\n",
      "6639                          rt @mention rumours cleared &gt;&gt; rt @mention we're not launching any products at #sxsw but we're doing plenty else. join us {link}\n",
      "6643                    rt @mention scoping venue 4 @mention #cloudcamp #austin: valhalla lounge. great whiskey &amp; beer plus demolition man pinball! {link} #sxsw\n",
      "6667                    rt @mention so #sxsw is cool. i strike up a conversation with a bloke who happens to work for the guardian &amp; a few hours later... {link}\n",
      "6668                            rt @mention so awesome! rt @mention knitted staircase in attendance at #sxsw party tomo 7pm hosted by @mention &amp; @mention {link}\n",
      "6676                                                                            rt @mention soundtrckr featured by @mention @mention as a must-have for #sxsw {link}\n",
      "6681                 rt @mention spent the aftrnoon on a frozen lake photographing my brother scott &amp; the @mention team. catch them at #sxsw ths weeknd.  {link}\n",
      "6686                                  rt @mention startups at #sxsw, @mention is giving away free hosting. fill out this and @mention me for a chance to win. {link}\n",
      "6689                                   rt @mention stop killing trees! rt @mention new post: business cards are dead: send me your card via hashable at #sxsw {link}\n",
      "6705                                                  rt @mention sxsw recap day 4 it's greaaat? exploring brand mascots in the digital age - {link} #sxsw #hotsheet\n",
      "6706                                            rt @mention team heading to big boi show, thanks to @mention crew.  rt and find the owl for free tattoo {link} #sxsw\n",
      "6707                                             rt @mention team heading to big boi show, thanks to @mention crew. rt and find the owl for free tattoo {link} #sxsw\n",
      "6715              rt @mention thank you for these! rt @mention public notes for &quot;5 steps to bulletproof ux strategy&quot;: {link} #sxsw #rhjr_ux5. via @mention\n",
      "6718                                                  rt @mention thanks for the free #sxsw mix :) rt @mention ... 20+ artists you have to hear, free sampler {link}\n",
      "6719                      rt @mention thanks rt @mention if you're trying to contact friends or family in #japan, @mention has created a person finder: {link} #sxsw\n",
      "6720                            rt @mention thanks to @mention for publishing the news of our new medical apps in the #sxswi conf. blog {link} #sxsw #sxswh #mhealth\n",
      "6721                       rt @mention thanks to everyone for making it a great day in the shop today. if you're in austin, come by and see us tomorrow {link} #sxsw\n",
      "6722                            rt @mention thanks to heathcare digital @mention for publishing the news about our new medical apps showcased at #sxsw {link} #sxswh\n",
      "6723                                             rt @mention the @mention / @mention party was without a doubt the best party i've ever been to in #sxsw. well done!\n",
      "6729                                                               rt @mention the #ogilvy #sydney #sxsw #podcast ep3 is #up, with too many #hashtags #ausxsw {link}\n",
      "6831                        rt @mention update #recco! {link} which #sxsw panels/parties are def good times? follow friends who've been there b4 if you're a newbie.\n",
      "6833                                      rt @mention updated: #hbs startuptribe meets at #sxsw sat 3/12 4pm {link} drinks + alumni + students. check back 4 changes\n",
      "6839                                      rt @mention very important: make sure you are donating to the japanese red cross #japan: {link} #sxswcares #sxsw  (pls rt)\n",
      "6840                                                rt @mention very important: make sure you are donating to the japanese red cross for #japan: {link} #sxsw #quake\n",
      "6841                                     rt @mention very important: make sure you are donating to the japanese red cross for #japan: {link} #sxswcares #sxsw #quake\n",
      "6842                         rt @mention very important: make sure you are donating to the japanese red cross for #japan: {link} #sxswcares #sxsw #quake (please rt)\n",
      "6857                         rt @mention w/ the core week of data still to come, @mention searches for #sxsw are up +23% vs. '10. (source: trends) #measure   {link}\n",
      "6864                               rt @mention wanna know where the fast cellular signal is at #sxsw? get coverage: austin for ios (free) for detailed maps - {link}\n",
      "6871                                                                                                                    rt @mention watch this @mention #sxsw {link}\n",
      "6896                          rt @mention we're not launching any products @mention #sxsw. we're doing plenty else. join us 4 #h4ckers &amp; 80s dancing 2day {link}\n",
      "6897                                               rt @mention we're not launching any products at #sxsw but ....join us for #h4ckers &amp; 80s dancing today {link}\n",
      "6898                                                  rt @mention we're not launching any products at #sxsw but doing plenty else. join us for #h4ckers today {link}\n",
      "6899                                                                 rt @mention we're not launching any products at #sxsw but we're doing plenty else. [...] {link}\n",
      "6901                                 rt @mention we're not launching any products at #sxsw but we're doing plenty else. {link} &lt;&lt; no circles or new apps ftrs?\n",
      "6903                                  rt @mention we're not launching any products at #sxsw but we're doing plenty else. join us 4 #h4ckers &amp; 80s dancing {link}\n",
      "6904                                 rt @mention we're not launching any products at #sxsw but we're doing plenty else. join us for #h4ckers &amp; 80s dan... {link}\n",
      "6905                                rt @mention we're not launching any products at #sxsw but we're doing plenty else. join us for #h4ckers &amp; 80s dancing {link}\n",
      "6906                          rt @mention we're not launching any products at #sxsw but we're doing plenty else. join us for #h4ckers &amp; 80s dancing today {link}\n",
      "6907                                                        rt @mention we're not launching any products at #sxsw but we're doing plenty else... {link} cc. @mention\n",
      "6908                                    rt @mention we're not launching any products at #sxsw we're doing plenty else. join us for #h4ckers &amp; 80s dancing {link}\n",
      "6913                                     rt @mention weather changed today at #sxsw, get exclusive weather updates from kxan austin's jim spencer on @mention {link}\n",
      "6916                             rt @mention well hello, #sxsw! here's a free @mention sampler, to celebrate the festival this year, including barton hollow: {link}\n",
      "6955                                                   rt @mention wish you went to #sxsw? we got you covered! day 1 recap {link} from coyne's @mention and @mention\n",
      "6977                                                                    rt @mention written in #gwt: the new blogger interface being shown this week at #sxsw {link}\n",
      "6990                                                         rt @mention you can download a free @mention sampler of some of the bands playing at #sxsw here: {link}\n",
      "7002                                                           for everyone at #sxsw here is a map of my favorite places in austin {link} @mention @mention @mention\n",
      "7010                                                   did some one say free music? did someone say free @mention music!? yes, yes they did. {link} #sxsw #freemusic\n",
      "7028                                                                        tons of good music from @mention and more on this free #sxsw sampler via @mention {link}\n",
      "7030                                       so many good places in here rt @mention if you're racing around #sxsw you best be fueling up with great local fare {link}\n",
      "7157                                                                   need support for private content.  rt @mention now discussing pubsubhubbub: {link} #fsw #sxsw\n",
      "7178                                        sad i'm not there!! ûï@mention head over to  {link} by 1pm cst today to win vip access to my acoustic solo set at #sxsw\n",
      "7195                                                                       in case you missed #sxsw news coverage, we were featured in today's fast company:  {link}\n",
      "7196                                                          i28: if you want blood - you got it {link} [codes valid: 8:00-11:59:59p 03/13/11] #infektd #sxsw #zomb\n",
      "7247                                                                        z4: come out, come out! {link} [codes valid: 4:00-7:59:59p 03/11/11] #infektd #sxsw #zlf\n",
      "7252                      another pov from #sxsw: &quot;the future of reading online is customization &amp; sharing, not tablets (yet)&quot; | fast company - {link}\n",
      "7263                                                                                            anyone know if the #sxsw @mention store has crazy lines still today?\n",
      "7293                                                                     you can download a free @mention sampler of some of the bands playing at #sxsw here: {link}\n",
      "7300                                                              sxsw recap day 4 it's greaaat? exploring brand mascots in the digital age - {link} #sxsw #hotsheet\n",
      "7304                                                                      n3: a slap in the face {link} [codes valid: 12:00-3:59:59p 03/11/11] #infektd #sxsw #necro\n",
      "7311                                             gearing up to make a splash, @mention to launch &quot;groupon or living social-type&quot; rewards at #sxsw - {link}\n",
      "7312                                               gearing up to make a splash, @mention to launch &quot;groupon or living social-type&quot; rewards at #sxsw {link}\n",
      "7313                                  gearing up to make a splash, @mention to launch &quot;groupon or living social-type&quot; rewards at #sxsw {link} via @mention\n",
      "7314                                                                 n12: sheep to the slaughter {link} [codes valid: 12:00-3:59:59p 03/12/11] #infektd #sxsw #necro\n",
      "7323                                        sugar &amp; gold play fitzgerald's in houston tonight on their way to #sxsw. free show! bodyaches remix ep now... {link}\n",
      "7357                                                                                                       @mention party photobooth #sxsw #donthate {link} @mention\n",
      "7477                                                    #sxsw peeps - you can now checkin with @mention latitude to unlock deals! {link} built by @mention and team!\n",
      "7505                                                           oops!  copy/paste malfunction on the last tweet for @mention free #sxsw shuttle.  correct link {link}\n",
      "7534                                                                                        soundtrckr featured by @mention @mention as a must-have for #sxsw {link}\n",
      "7535                                            we set our flatulence to wake ourselves up. you might need a bit more help. #wakeuplaughing {link} #epictweets #sxsw\n",
      "7559                                                                        preview tracks of showcasing artists/musicians at #sxsw, downloadable as torrents {link}\n",
      "7561                                     apps distract pubs, sez khoi vinh. instead of focusing on reader exp, they're delivering same content 3 ways. #sxsw  {link}\n",
      "7564                                      @mention rainey street is a nice alternative to 6th street #sxsw parties. walking directions from convention center {link}\n",
      "7635                                     w/ the core week of data still to come, @mention searches for #sxsw are up +23% vs. '10. (source: trends) #measure   {link}\n",
      "7636                                                can i share what a great time i has tonight at the @mention privacy it's 1986 party.   great job brian r.  #sxsw\n",
      "7643                                   aight, here's my wed + thurs list of #sxsw possibilities: {link} i hope to see all my twitter buds out + about atx this week!\n",
      "7648                                                          @mention reason 19: keep parakeets employed! {link} keep track of where the ladies are at #sxsw {link}\n",
      "7652                                                                                                     another great spreadsheet of all the #sxsw parties - {link}\n",
      "7660                                                                                                          lots o' free music from #sxsw bands: {link} and {link}\n",
      "7670                                                                                   awesome presentation on digital magazines {link} #touchingstories #sxsw #gsdm\n",
      "7678                                                                                                 for any friends coming to austin for sxsw: {link} #austin #sxsw\n",
      "7683                         &quot;gearing up to make a splash, @mention to launch &quot;groupon or living social-type&quot; rewards at #sxsw&quot; (@mention {link}\n",
      "7718                                    special promo for #sxsw attendees! {link} meetchu, quick-contact capture lykwxhpyterh tt66h9tjn4ye rt6n79xp37ff typ63mmam7w3\n",
      "7749                                            @mention rt @mention head over to {link} by 1pm cst today to win vip access to my acoustic solo set at #sxsw tonight\n",
      "7768                                       awesome! rt @mention download 20+ free tracks from the #sxsw music sampler available on the @mention store today!  {link}\n",
      "7779                                          sad face rt @mention we're not launching any products at #sxsw but join us for #h4ckers &amp; 80s dancing today {link}\n",
      "7782                                             so true! rt @mention best hungry at #sxsw tip: mekong river, great vietnamese {link} 6th st. till 11pm via @mention\n",
      "7783                                             so true. rt @mention new post: business cards are dead: send me your card via hashable at #sxsw {link} cc: @mention\n",
      "7787                                     very important: make sure you are donating to the japanese red cross for #japan: {link} #sxswcares #sxsw #quake (please rt)\n",
      "7792                                                                     n22: opportunity knocks {link} [codes valid: 12:00-3:59:59p 03/13/11] #infektd #sxsw #necro\n",
      "7812                                         best hungry at #sxsw tip: mekong river, great vietnamese {link} 6th btw brazos &amp; san jacinto till 11pm via @mention\n",
      "7824                                                                                                            watch this @mention #sxsw - #ecademy @mention {link}\n",
      "7825                                     watch this @mention #sxsw - #ecademy @mention {link} &gt;&gt; fascinating &amp; so true about maps saving itme - lots of it\n",
      "7826                                                                                                                                watch this @mention #sxsw {link}\n",
      "7843                                                                     dear folks at #sxsw. got lost? can use a free compass with map built-in? here's one: {link}\n",
      "7871                       &quot;this is the first of 11 shows this week,&quot; says elliott frazier of ringo deathstarr at red 7 just now.  location: {link}  #sxsw\n",
      "7913                                       big thanks to @mention for fast tracking a #sxsw app. from idea, to design, code, test, submit &amp; release in 3 days :)\n",
      "7943                                             here it is! my #sxsw itinerary. all of these events are free and don't require band/badge. {link} enjoy the fest :)\n",
      "7953                                           group messaging is hot right now - lots of buzz bc of #sxsw. grt articles on @mention abt heywire {link} &amp; {link}\n",
      "7958                                          @mention saw u r going to #sxsw? download #groundlink app &amp; ride in limo for $10 in austin {link} see us booth 437\n",
      "7959                                          @mention saw u r going to #sxsw. dwnld #groundlink app &amp; ride for $10 from austin airport i{link} see us booth 437\n",
      "7960                                        @mention saw u r going to #sxsw. dwnld #groundlink app &amp; ride for $10 in austin during sxswi {link} see us booth 437\n",
      "7961                                         @mention saw u r going to #sxsw. dwnld #groundlink app &amp; ride for $10 in austin during sxswi{link} see us booth 437\n",
      "7965                                                                             @mention says she feels sexier when she uses an @mention product:-) #sxsw-influence\n",
      "7967                                                                                                                                my #sxsw schedule so far: {link}\n",
      "8005                                                                                                                   #sxsw 41 shades of blue test @mention  {link}\n",
      "8008                      just finished up a long day... and, ready to do it again tomorrow! starting with @mention event and ending with the #cupcake #social #sxsw\n",
      "8021                                                                      i7: releasing the demons {link} [codes valid: 4:00-7:59:59p 03/11/11] #infektd #sxsw #zomb\n",
      "8031                                                                today is so big, me and my stomach flu can hardly handle it. @mention (live) {link} #sxsw {link}\n",
      "8050                                                                     n32: the social network {link} [codes valid: 12:00-3:59:59p 03/14/11] #infektd #sxsw #necro\n",
      "8062                                                                    i11: the sound of madness {link} [codes valid: 12:00-3:59:59p 03/12/11] #infektd #sxsw #zomb\n",
      "8068                                                    #sxsw hotspots by klout score? score! cluster, a @mention @mention  mashup from @mention and @mention {link}\n",
      "8075                                                                                                                  now discussing pubsubhubbub: {link} #fsw #sxsw\n",
      "8077                                                                                                                   health sessions at #sxsw (via @mention {link}\n",
      "8079                            biggest issue selling through @mention is not having ability to sell direct (&amp; hv relationship with customer) #sxsw #in #newsapp\n",
      "8080                                                                {link} - ssxsw showcasing artists torrent. 1300 songs for 2011, preview at {link} #fb #sxsw #npr\n",
      "8101                                                            12 #sxsw startup's elevator pitches in 12 minutes: #ogilvy #sydney #sxsw #podcast ep5 #ausxsw {link}\n",
      "8128            &quot;#sxsw #privacybootcamp for startups with @mention @mention @mention and @mention sounds like a fight waiting to happen. can we add orin hatch?\n",
      "8138                                                    happy #sxsw! can't make it to austin? download the free featured artists of sxsw playlist on @mention {link}\n",
      "8142                                          #sxsw #sxswi @mention is holding a secret show ft. mister heavenly+michael cera at 5. free beer at 4. location: {link}\n",
      "8144                                                     day 4: sxswi wrap-up with tracy shea @mention and rick and bobby liebling @mention - {link} #sxsw #hotsheet\n",
      "8156                                                                                                 #wahoos #sxsw party free beers, tacos, and ritas thurs.\\n{link}\n",
      "8160                                                                                       all you #sxsw tweeps, check out our homies @mention this thursday. {link}\n",
      "8164                                        @mention sxsw.  first lecture: why my phone should turn off the stove. http://bit.ly/reword_app\\n#sxsw #reword #appstore\n",
      "8185                                                   thanks! rt @mention #sxsw #touchingstories great presentation on future of digital magazines {link} (@mention\n",
      "8186                                                               thanks! rt @mention awesome presentation on digital magazines {link} #touchingstories #sxsw #gsdm\n",
      "8196                                  friends at #sxsw, can you take some 360 views with 360 panorama - {link} - so i feel like i'm there? i'll gift you the app =)!\n",
      "8201                                                                    are you at #sxsw? check out #tokii in the the maple leaf digital lounge {link} www.tokii.com\n",
      "8202                                                                            arrived at #sxsw.  never seen so much free advertising for @mention products  {link}\n",
      "8204                                                                    kicking it 80's style at the @mention party with @mention and @mention #sxsw\\n {link} {link}\n",
      "8214                                                                    ÷¼ as right as rain! ÷_ {link} ã_ #edchat #musedchat #sxsw #sxswi\\n#classical #newtwitter\n",
      "8227                                                      didn't get enough hacking on #startupbus? rsvp for superhappydevhouse on sunday in austin at #sxsw. {link}\n",
      "8230                                                           some great free music! -- \\n20+ free tracks- #sxsw music sampler available on @mention @mention ) #fb\n",
      "8234                                                       ÷¼ we canûªt get no frustrationû_÷_ {link} ã_ #edchat #musedchat #sxsw #sxswi #classical #newtwitter\n",
      "8266                                                                n25: night of the living dead {link} [codes valid: 4:00-7:59:59p 03/13/11] #infektd #sxsw #necro\n",
      "8292                                                     talk about the power of peer pressure marketing at #sxsw !  i confess, it's making me think about it {link}\n",
      "8302                                                                                   can't wait to see @mention on friday at the #sxsw morning after party! {link}\n",
      "8311                                                                          at protect your privacy like it's 2011 @mention party w/ @mention &amp; @mention #sxsw\n",
      "8334                                                                knitted staircase in attendance at #sxsw party tomo 7pm hosted by @mention &amp; @mention {link}\n",
      "8355                                             one to watch... rt @mention @mention to launch major new social network called circles, possibly today {link} #sxsw\n",
      "8361                                                       need a late night snack? @mention discovered some filling options at sxswi recap day 3! {link} #sxsw #yum\n",
      "8366                                                             last minute venue change for #eecms #sxsw meetup at noon: pecan st. cafe: {link} trinity and 6thish\n",
      "8370                                                                                              @mention techcrunch: this post has nothing to do with #sxsw {link}\n",
      "8373                                                           i just rated gsd&amp;m idea city llc 5 stars. @mention &quot;hotspot #sxsw party... epic&quot; {link}\n",
      "8402                                                                   @mention thanks for sharing news on @mention thoughts on this news from @mention {link} #sxsw\n",
      "8425                                                             z43: let the bodies hit the floor {link} [codes valid: 8:00-11:59:59a 03/15/11] #infektd #sxsw #zlf\n",
      "8434              bringing the heat: ûïif you show me the content quality, iûªm much more likely to rank youû from #sxsw (via @mention &amp; @mention on ranking\n",
      "8451                                                             n26: set the terror level to red {link} [codes valid: 4:00-7:59:59p 03/13/11] #infektd #sxsw #necro\n",
      "8452                                                             @mention the unofficial #sxsw torrents are a great way to hear what you can expect this year {link}\n",
      "8458                                                              after further review, it's probably my downloading of the #sxsw torrents making things slow {link}\n",
      "8480                                                 ringo deathstarr be flooding ear canals at red 7 right about now, mind of adi showcase  location: {link}  #sxsw\n",
      "8520                                              mom (@mention quick - apply for a job @mention they need help identifying this bird through search!  #sxsw  {link}\n",
      "8552                     @mention to launch 'circles' later today at #sxsw?? gotta love #sxsw - one platform for everything from independent film to innovative tech\n",
      "8553                                                            @mention to launch &quot;groupon or living social-type&quot; rewards at #sxsw - {link} (via @mention\n",
      "8554                                                                 @mention to launch &quot;groupon or living social-type&quot; rewards at #sxsw {link} | @mention\n",
      "8555                                   @mention to launch social network called circles, possibly today {link} #sxsw via: @mention - this should be interesting ^ jl\n",
      "8556                                                                            #gowalla to launch &quot;groupon or living social-type&quot; rewards at #sxsw {link}\n",
      "8560                                                                              @mention to open temporary store at sxsw {link} they should use @mention too #sxsw\n",
      "8566                                                         congrats to va client discovr, kicking a** and taking names: {link}  hottest music app at #sxsw? {link}\n",
      "8595                                                         don't distrub my circles - rt @mention we're not launching any products at #sxsw - dancing today {link}\n",
      "8604                                                    are you attending the #sxsw and want to explore #austin ? check out @mention for austin {link} (via @mention\n",
      "8617                                                                    are you stupid? find it out at the #sxsw on your mac {link} for a special price! #games #mac\n",
      "8620                                                                              #sxsw featured artist playlist available for free {link} via @mention #free #music\n",
      "8625                                                                               if i'm retweeting it, chances are it's being added to my spreadsheet #sxsw {link}\n",
      "8628                                               nice of #twitter to lwr boom on #api devs undr covr of #japan #tsunami #earthquake #sxsw #wisconsin #libya {link}\n",
      "8632                                                                                                                            #sxsw party calendar on gcal: {link}\n",
      "8634                                                                        #sxsw party podcasts {link} @mention @mention @mention @mention @iampaintedface @h0u5t0n\n",
      "8636                                                                                                     #sxsw party time with @mention and @mention thanks @mention\n",
      "8645                      highly doubt @mention will announce new social effort at #sxsw today...does not seem their style, but i greatly look forward to seeing it.\n",
      "8648                                                                                 #sxsw #touchingstories great presentation on future of digital magazines {link}\n",
      "8659                                        wish i could go @mention head over to {link} by 1pm cst today to win vip access to my acoustic solo set at #sxsw tonight\n",
      "8686                                                 prepping up for #sxsw aka &quot;nerds gone wild&quot; - here's a list of all the parties thanks @mention {link}\n",
      "8733                                  plucked out of the very end of the taxi line by a stranger from @mention for lift to airport in rental car #payitforward #sxsw\n",
      "8742                                                                               c5: precautions {link} [codes valid: 4:00-7:59:59p 03/11/11] #infektd #sxsw #cvdc\n",
      "8802                                                                           the #ogilvy #sydney #sxsw #podcast ep3 is #up, with too many #hashtags #ausxsw {link}\n",
      "8808                                                                                                               full #sxsw #touchingstories presentation:  {link}\n",
      "8811                                                                                                this #sxsw app by #mxm is made of awesome! --  {link}   --{link}\n",
      "8817                                                                     #fsw #sxsw for those of you who wanted to know about the spec for parsing ajax links {link}\n",
      "8830                                                    hey, #sxsw peeps: go hang out w/ burners now! {link} burn-b-q at pan-american park 5-8pm: {link} cc @mention\n",
      "8832                                                                                                                              free #sxsw playlist.. enjoy {link}\n",
      "8842                                                      don't know what bands to see at #sxsw?  the festival explorer austin edition will help you decide!  {link}\n",
      "8843                                           wanna know where the fast cellular signal is at #sxsw? get coverage: austin for ios (free) for detailed maps - {link}\n",
      "8844                                           wanna know where to get lunch during #sxsw without waiting 30min?  ask around. i did.  saved me lots of time.  {link}\n",
      "8851                                                                                                         @mention wanna sign up for the beta: {link} #sxsw #hhrs\n",
      "8882                                                   @mention welcome! enjoy #sxsw and ride anywhere in austin for $10 . dwnld the #groundlink app{link} booth 437\n",
      "8887                                                               wish you went to #sxsw? we got you covered! day 1 recap {link} from coyne's @mention and @mention\n",
      "8899                                                                        deciding when to release a product is an art, not a science - @mention at @mention #sxsw\n",
      "8921                                                                                    anyone down at #sxsw wanna bring me back a windows foam 7? {link} #microsoft\n",
      "8924                      @mention worked with @mention to create open-source s2 to fill the gap needed by location-based applications that use nosql db model #sxsw\n",
      "8932                                                                       z6: no news is good news {link} [codes valid: 4:00-7:59:59p 03/11/11] #infektd #sxsw #zlf\n",
      "8936                                                      client news! @mention releases &quot;dope melodies &amp; heavy bass&quot; &amp; invades #sxsw -&gt; {link}\n",
      "8970                                                                 this is my 5th year downloading the #sxsw music torrent {link} all free and legal! great music.\n",
      "9024                                                                 by the way, we're looking for a spanish-speaking trend scout based in austin -&gt; {link} #sxsw\n",
      "9026                                        true story! rt @mention i just rated amy's ice cream 5 stars. @mention &quot;best ice cream in town!!&quot; {link} #sxsw\n"
     ]
    }
   ],
   "source": [
    "# Filter tweets that do not contain any of the keywords\n",
    "non_matching_tweets = df[df[\"brand\"].isna()]\n",
    "\n",
    "# Display the tweets that did not match any keyword\n",
    "print(non_matching_tweets[[\"tweet\"]])\n"
   ]
  },
  {
   "cell_type": "code",
   "execution_count": 17,
   "metadata": {},
   "outputs": [],
   "source": [
    "# Dropping the rows that do not contain any of the key words\n",
    "\n",
    "df = df[df[\"brand\"].isin([\"apple\", \"google\"])]\n",
    "\n",
    "# Reset the index \n",
    "df.reset_index(drop=True, inplace=True)\n"
   ]
  },
  {
   "cell_type": "markdown",
   "metadata": {},
   "source": [
    "### Checking and Dropping Duplicates and Missing Values"
   ]
  },
  {
   "cell_type": "code",
   "execution_count": 18,
   "metadata": {},
   "outputs": [
    {
     "name": "stdout",
     "output_type": "stream",
     "text": [
      "Before removal:  False    8346\n",
      "True       40\n",
      "Name: count, dtype: int64\n",
      "After removal:  False    8346\n",
      "Name: count, dtype: int64\n"
     ]
    }
   ],
   "source": [
    "print(\"Before removal: \", df.duplicated().value_counts())\n",
    "df.drop_duplicates(inplace=True)\n",
    "print(\"After removal: \",df.duplicated().value_counts())"
   ]
  },
  {
   "cell_type": "code",
   "execution_count": 19,
   "metadata": {},
   "outputs": [
    {
     "name": "stdout",
     "output_type": "stream",
     "text": [
      "<class 'pandas.core.frame.DataFrame'>\n",
      "Index: 8346 entries, 0 to 8385\n",
      "Data columns (total 3 columns):\n",
      " #   Column   Non-Null Count  Dtype \n",
      "---  ------   --------------  ----- \n",
      " 0   tweet    8346 non-null   object\n",
      " 1   brand    8346 non-null   object\n",
      " 2   emotion  8346 non-null   object\n",
      "dtypes: object(3)\n",
      "memory usage: 260.8+ KB\n"
     ]
    }
   ],
   "source": [
    "# Checking for missing values\n",
    "df.info()"
   ]
  },
  {
   "cell_type": "markdown",
   "metadata": {},
   "source": [
    "### Cleaning the emotion Column"
   ]
  },
  {
   "cell_type": "code",
   "execution_count": 20,
   "metadata": {},
   "outputs": [
    {
     "data": {
      "text/plain": [
       "emotion\n",
       "no emotion toward brand or product    4672\n",
       "positive emotion                      2956\n",
       "negative emotion                       568\n",
       "i can't tell                           150\n",
       "Name: count, dtype: int64"
      ]
     },
     "execution_count": 20,
     "metadata": {},
     "output_type": "execute_result"
    }
   ],
   "source": [
    "df[\"emotion\"].value_counts()"
   ]
  },
  {
   "cell_type": "code",
   "execution_count": 21,
   "metadata": {},
   "outputs": [
    {
     "data": {
      "text/html": [
       "<div>\n",
       "<style scoped>\n",
       "    .dataframe tbody tr th:only-of-type {\n",
       "        vertical-align: middle;\n",
       "    }\n",
       "\n",
       "    .dataframe tbody tr th {\n",
       "        vertical-align: top;\n",
       "    }\n",
       "\n",
       "    .dataframe thead th {\n",
       "        text-align: right;\n",
       "    }\n",
       "</style>\n",
       "<table border=\"1\" class=\"dataframe\">\n",
       "  <thead>\n",
       "    <tr style=\"text-align: right;\">\n",
       "      <th></th>\n",
       "      <th>tweet</th>\n",
       "      <th>brand</th>\n",
       "      <th>emotion</th>\n",
       "    </tr>\n",
       "  </thead>\n",
       "  <tbody>\n",
       "    <tr>\n",
       "      <th>7671</th>\n",
       "      <td>entrapment. layer upon layer rt: @mention google circles will be ______ #sxsw&amp;quot;</td>\n",
       "      <td>google</td>\n",
       "      <td>i can't tell</td>\n",
       "    </tr>\n",
       "    <tr>\n",
       "      <th>6480</th>\n",
       "      <td>how can google load those maps so fast, yet i can barely post a tweet haha #sxsw</td>\n",
       "      <td>google</td>\n",
       "      <td>i can't tell</td>\n",
       "    </tr>\n",
       "    <tr>\n",
       "      <th>3978</th>\n",
       "      <td>dang rt @mention confirmed! apple store 2 week popup in austin for #sxsw {link} (via @mention who gave us no credit! )</td>\n",
       "      <td>apple</td>\n",
       "      <td>i can't tell</td>\n",
       "    </tr>\n",
       "    <tr>\n",
       "      <th>8150</th>\n",
       "      <td>from #sxsw: @mention says @mention playing with nfc for next gen devices. nexus s now, iphone 5 next?</td>\n",
       "      <td>apple</td>\n",
       "      <td>i can't tell</td>\n",
       "    </tr>\n",
       "    <tr>\n",
       "      <th>3966</th>\n",
       "      <td>nuts.  ûï@mention @mention (via @mention #sxsw ipad store sold out of everything except 64gig wifi only whiteû</td>\n",
       "      <td>apple</td>\n",
       "      <td>i can't tell</td>\n",
       "    </tr>\n",
       "    <tr>\n",
       "      <th>7845</th>\n",
       "      <td>this @mention article about #sxsw is so good i'm linking to it on an iphone on a train, which is the opposite of easy: {link}</td>\n",
       "      <td>apple</td>\n",
       "      <td>i can't tell</td>\n",
       "    </tr>\n",
       "    <tr>\n",
       "      <th>1307</th>\n",
       "      <td>@mention :) maybe not *entirely* hd (flip? iphone? other xl2 footage?) -- but certainly your concerts at #sxsw. it's gonna be grand.</td>\n",
       "      <td>apple</td>\n",
       "      <td>i can't tell</td>\n",
       "    </tr>\n",
       "    <tr>\n",
       "      <th>7798</th>\n",
       "      <td>i'll bet there's a lot of nerds at #sxsw using the #iphone light saber app in barroom brawls instead of their fists.</td>\n",
       "      <td>apple</td>\n",
       "      <td>i can't tell</td>\n",
       "    </tr>\n",
       "    <tr>\n",
       "      <th>1963</th>\n",
       "      <td>did... what my mom might call the big at #sxsw. power plant, cnn, google, and offchain set by trombone shorty at pbs. so sad missed rye rey</td>\n",
       "      <td>google</td>\n",
       "      <td>i can't tell</td>\n",
       "    </tr>\n",
       "    <tr>\n",
       "      <th>2518</th>\n",
       "      <td>good place to test it. will it be edgy enough? @mention q2 - google's check in offers? testing at #sxsw {link} #smccolumbus</td>\n",
       "      <td>google</td>\n",
       "      <td>i can't tell</td>\n",
       "    </tr>\n",
       "    <tr>\n",
       "      <th>313</th>\n",
       "      <td>the queue at the apple store in austin is four blocks long. crazy stuff! #sxsw</td>\n",
       "      <td>apple</td>\n",
       "      <td>i can't tell</td>\n",
       "    </tr>\n",
       "    <tr>\n",
       "      <th>675</th>\n",
       "      <td>kawasaki: key to enchantment = trustworthiness of zappos + likeability of richard branson + product of apple #sxsw #mccannsxsw #mrmworldwide</td>\n",
       "      <td>apple</td>\n",
       "      <td>i can't tell</td>\n",
       "    </tr>\n",
       "    <tr>\n",
       "      <th>5139</th>\n",
       "      <td>rt @mention best thing i've heard this weekend at #sxsw &amp;quot;i gave my ipad 2 money to #japan relief. i don't ne... {link}</td>\n",
       "      <td>apple</td>\n",
       "      <td>i can't tell</td>\n",
       "    </tr>\n",
       "    <tr>\n",
       "      <th>5502</th>\n",
       "      <td>rt @mention has spontaniety in life been replaced by technology? when your iphone battery dies you go home. great ? at #busy #sxsw</td>\n",
       "      <td>apple</td>\n",
       "      <td>i can't tell</td>\n",
       "    </tr>\n",
       "    <tr>\n",
       "      <th>1268</th>\n",
       "      <td>wow folks, make sure that iphone ringer is turned all the way up when u have to be up pre-sunrise for a flight. #internalalarmclockftw #sxsw</td>\n",
       "      <td>apple</td>\n",
       "      <td>i can't tell</td>\n",
       "    </tr>\n",
       "    <tr>\n",
       "      <th>8359</th>\n",
       "      <td>how much you want to bet apple is disproportionately stocking the #sxsw pop-up store with ipad 2? the influencer/hipsters thank you</td>\n",
       "      <td>apple</td>\n",
       "      <td>i can't tell</td>\n",
       "    </tr>\n",
       "    <tr>\n",
       "      <th>2958</th>\n",
       "      <td>is walking around #sxsw while staring down at my iphone 4... just like everyone else.</td>\n",
       "      <td>apple</td>\n",
       "      <td>i can't tell</td>\n",
       "    </tr>\n",
       "    <tr>\n",
       "      <th>8315</th>\n",
       "      <td>it's funny watching a room full of people hold their ipad in the air to take a photo. like a room full of tablets staring you down. #sxsw</td>\n",
       "      <td>apple</td>\n",
       "      <td>i can't tell</td>\n",
       "    </tr>\n",
       "    <tr>\n",
       "      <th>6670</th>\n",
       "      <td>checking out mistakes i made building netflix for the iphone at #sxsw.\\n{link} #netflixiphone</td>\n",
       "      <td>apple</td>\n",
       "      <td>i can't tell</td>\n",
       "    </tr>\n",
       "    <tr>\n",
       "      <th>1558</th>\n",
       "      <td>i'd take #sxsw hashtags over scheen, ipad/ipad2, tv or sports tweets any day, but for those needing a filterû_ {link}</td>\n",
       "      <td>apple</td>\n",
       "      <td>i can't tell</td>\n",
       "    </tr>\n",
       "    <tr>\n",
       "      <th>1937</th>\n",
       "      <td>iphone crashed in front of #sxsw apple pop-up. #bestworstthingever</td>\n",
       "      <td>apple</td>\n",
       "      <td>i can't tell</td>\n",
       "    </tr>\n",
       "    <tr>\n",
       "      <th>405</th>\n",
       "      <td>why barry diller thinks ipad only content is nuts @mention #sxsw {link}</td>\n",
       "      <td>apple</td>\n",
       "      <td>i can't tell</td>\n",
       "    </tr>\n",
       "    <tr>\n",
       "      <th>4555</th>\n",
       "      <td>the hive of innovation but yet every booth at the #sxsw trade show had the exact same promotional idea: ipad 2 raffle!</td>\n",
       "      <td>apple</td>\n",
       "      <td>i can't tell</td>\n",
       "    </tr>\n",
       "    <tr>\n",
       "      <th>2325</th>\n",
       "      <td>next up: designing interfaces for ipad. or should i hit up &amp;quot;your brand is obsolete&amp;quot;? #sxsw</td>\n",
       "      <td>apple</td>\n",
       "      <td>i can't tell</td>\n",
       "    </tr>\n",
       "    <tr>\n",
       "      <th>7937</th>\n",
       "      <td>iphone battery maintenance is a fine art at #sxsw</td>\n",
       "      <td>apple</td>\n",
       "      <td>i can't tell</td>\n",
       "    </tr>\n",
       "    <tr>\n",
       "      <th>2126</th>\n",
       "      <td>ipadi alacagimiz yer belli oldu:  apple to open pop-up shop at austin #sxsw {link} via @mention @mention</td>\n",
       "      <td>apple</td>\n",
       "      <td>i can't tell</td>\n",
       "    </tr>\n",
       "    <tr>\n",
       "      <th>4836</th>\n",
       "      <td>the session #designingforkids is changing my mind about my future kid's relationship with the iphone. #sapient #sxsw</td>\n",
       "      <td>apple</td>\n",
       "      <td>i can't tell</td>\n",
       "    </tr>\n",
       "    <tr>\n",
       "      <th>4579</th>\n",
       "      <td>yikes. google is launching 'circles' today at #sxsw? {link}</td>\n",
       "      <td>google</td>\n",
       "      <td>i can't tell</td>\n",
       "    </tr>\n",
       "    <tr>\n",
       "      <th>1404</th>\n",
       "      <td>@mention @mention @mention #platformer ci di venues #sxsw pake 3 app 4sq api,d cnth : tweetdeck etc (via : iphone, android, ipad and pc)</td>\n",
       "      <td>apple</td>\n",
       "      <td>i can't tell</td>\n",
       "    </tr>\n",
       "    <tr>\n",
       "      <th>4221</th>\n",
       "      <td>ok. someone's trying to tell me something: for the 2nd day in a row i got to the #sxsw apple store right as it closed.</td>\n",
       "      <td>apple</td>\n",
       "      <td>i can't tell</td>\n",
       "    </tr>\n",
       "    <tr>\n",
       "      <th>6198</th>\n",
       "      <td>oh @mention the apple pop-up store: &amp;quot;oh... you have the old one.&amp;quot; #crazytimes #sxsw</td>\n",
       "      <td>apple</td>\n",
       "      <td>i can't tell</td>\n",
       "    </tr>\n",
       "    <tr>\n",
       "      <th>3764</th>\n",
       "      <td>lol. #apple erects temporary apple store in #austin for #sxsw to sell #ipad 2. {link}</td>\n",
       "      <td>apple</td>\n",
       "      <td>i can't tell</td>\n",
       "    </tr>\n",
       "    <tr>\n",
       "      <th>7440</th>\n",
       "      <td>line for source code is even longer than for ipad 2. take that, apple. #sxsw</td>\n",
       "      <td>apple</td>\n",
       "      <td>i can't tell</td>\n",
       "    </tr>\n",
       "    <tr>\n",
       "      <th>2810</th>\n",
       "      <td>google doesn't place any value on your domain extension. they are all equal. #sxsw #qagb</td>\n",
       "      <td>google</td>\n",
       "      <td>i can't tell</td>\n",
       "    </tr>\n",
       "    <tr>\n",
       "      <th>2932</th>\n",
       "      <td>@mention foursquare is pushing their 3.0 iphone/android app heavily here at #sxsw. wish they gave your webos client equal billing.</td>\n",
       "      <td>apple</td>\n",
       "      <td>i can't tell</td>\n",
       "    </tr>\n",
       "    <tr>\n",
       "      <th>4273</th>\n",
       "      <td>google/bing search smackdown panel is in a giant room with not enough chairs. hope you have a search for &amp;quot;floor-sitting!&amp;quot; #sxsw</td>\n",
       "      <td>google</td>\n",
       "      <td>i can't tell</td>\n",
       "    </tr>\n",
       "    <tr>\n",
       "      <th>2405</th>\n",
       "      <td>i wish the apple store employees cheering for all the people in line at the pop up apple store would cheer me on while i do timesheets #sxsw</td>\n",
       "      <td>apple</td>\n",
       "      <td>i can't tell</td>\n",
       "    </tr>\n",
       "    <tr>\n",
       "      <th>4508</th>\n",
       "      <td>it is also limited in its abilities. its a balance. rt @mention @mention an ipad is cheaper than most laptops. #newsapps #sxsw</td>\n",
       "      <td>apple</td>\n",
       "      <td>i can't tell</td>\n",
       "    </tr>\n",
       "    <tr>\n",
       "      <th>3553</th>\n",
       "      <td>@mention is biyt.ly for email, like google voice for email #loveit #sxsw #startupbus</td>\n",
       "      <td>google</td>\n",
       "      <td>i can't tell</td>\n",
       "    </tr>\n",
       "    <tr>\n",
       "      <th>7953</th>\n",
       "      <td>#socialnetworks: #google noch heute mit #circles? #facebook-konkurrent! {link} via @mention und {link} #sxsw</td>\n",
       "      <td>google</td>\n",
       "      <td>i can't tell</td>\n",
       "    </tr>\n",
       "    <tr>\n",
       "      <th>5979</th>\n",
       "      <td>rt @mention rt @mention @mention @mention austin street closures during sxsw in google map form: {link} #sxsw #austin</td>\n",
       "      <td>google</td>\n",
       "      <td>i can't tell</td>\n",
       "    </tr>\n",
       "    <tr>\n",
       "      <th>2551</th>\n",
       "      <td>hope there's time left for poked liked and retweeted and google love story (social vs search). #sxsw</td>\n",
       "      <td>google</td>\n",
       "      <td>i can't tell</td>\n",
       "    </tr>\n",
       "    <tr>\n",
       "      <th>8351</th>\n",
       "      <td>&amp;quot;do you know what apple is really good at? making you feel bad about your xmas present!&amp;quot; - seth meyers on ipad2 #sxsw #doyoureallyneedthat?</td>\n",
       "      <td>apple</td>\n",
       "      <td>i can't tell</td>\n",
       "    </tr>\n",
       "    <tr>\n",
       "      <th>4870</th>\n",
       "      <td>rt @mention #sxsw @mention #devops: @mention &amp;quot;the internets is mean/our systems are complex; go google 'how complex systems fail by doctor&amp;quot;</td>\n",
       "      <td>google</td>\n",
       "      <td>i can't tell</td>\n",
       "    </tr>\n",
       "    <tr>\n",
       "      <th>7208</th>\n",
       "      <td>@mention rww: google circles will be ______    #sxsw {link}</td>\n",
       "      <td>google</td>\n",
       "      <td>i can't tell</td>\n",
       "    </tr>\n",
       "    <tr>\n",
       "      <th>1762</th>\n",
       "      <td>i just realized my iphone's gonna go nuts with foursquare and gowalla updates. #sxsw</td>\n",
       "      <td>apple</td>\n",
       "      <td>i can't tell</td>\n",
       "    </tr>\n",
       "    <tr>\n",
       "      <th>7232</th>\n",
       "      <td>#sxsw it's absolutely hysterical watching people take photos w an ipad!!</td>\n",
       "      <td>apple</td>\n",
       "      <td>i can't tell</td>\n",
       "    </tr>\n",
       "    <tr>\n",
       "      <th>2139</th>\n",
       "      <td>saw a bunch of security guards playing with ipads at the apple store after hours last night #sxsw {link}</td>\n",
       "      <td>apple</td>\n",
       "      <td>i can't tell</td>\n",
       "    </tr>\n",
       "    <tr>\n",
       "      <th>1984</th>\n",
       "      <td>william patry, google, says most authors dont care about copyright, they care about income. #sxsw but what models?</td>\n",
       "      <td>google</td>\n",
       "      <td>i can't tell</td>\n",
       "    </tr>\n",
       "    <tr>\n",
       "      <th>975</th>\n",
       "      <td>i can now say that google got me drunk #sxsw #h4ckers</td>\n",
       "      <td>google</td>\n",
       "      <td>i can't tell</td>\n",
       "    </tr>\n",
       "  </tbody>\n",
       "</table>\n",
       "</div>"
      ],
      "text/plain": [
       "                                                                                                                                                      tweet  \\\n",
       "7671                                                                    entrapment. layer upon layer rt: @mention google circles will be ______ #sxsw&quot;   \n",
       "6480                                                                       how can google load those maps so fast, yet i can barely post a tweet haha #sxsw   \n",
       "3978                                 dang rt @mention confirmed! apple store 2 week popup in austin for #sxsw {link} (via @mention who gave us no credit! )   \n",
       "8150                                                  from #sxsw: @mention says @mention playing with nfc for next gen devices. nexus s now, iphone 5 next?   \n",
       "3966                                      nuts.  ûï@mention @mention (via @mention #sxsw ipad store sold out of everything except 64gig wifi only whiteû   \n",
       "7845                          this @mention article about #sxsw is so good i'm linking to it on an iphone on a train, which is the opposite of easy: {link}   \n",
       "1307                   @mention :) maybe not *entirely* hd (flip? iphone? other xl2 footage?) -- but certainly your concerts at #sxsw. it's gonna be grand.   \n",
       "7798                                   i'll bet there's a lot of nerds at #sxsw using the #iphone light saber app in barroom brawls instead of their fists.   \n",
       "1963            did... what my mom might call the big at #sxsw. power plant, cnn, google, and offchain set by trombone shorty at pbs. so sad missed rye rey   \n",
       "2518                            good place to test it. will it be edgy enough? @mention q2 - google's check in offers? testing at #sxsw {link} #smccolumbus   \n",
       "313                                                                          the queue at the apple store in austin is four blocks long. crazy stuff! #sxsw   \n",
       "675            kawasaki: key to enchantment = trustworthiness of zappos + likeability of richard branson + product of apple #sxsw #mccannsxsw #mrmworldwide   \n",
       "5139                            rt @mention best thing i've heard this weekend at #sxsw &quot;i gave my ipad 2 money to #japan relief. i don't ne... {link}   \n",
       "5502                     rt @mention has spontaniety in life been replaced by technology? when your iphone battery dies you go home. great ? at #busy #sxsw   \n",
       "1268           wow folks, make sure that iphone ringer is turned all the way up when u have to be up pre-sunrise for a flight. #internalalarmclockftw #sxsw   \n",
       "8359                    how much you want to bet apple is disproportionately stocking the #sxsw pop-up store with ipad 2? the influencer/hipsters thank you   \n",
       "2958                                                                  is walking around #sxsw while staring down at my iphone 4... just like everyone else.   \n",
       "8315              it's funny watching a room full of people hold their ipad in the air to take a photo. like a room full of tablets staring you down. #sxsw   \n",
       "6670                                                          checking out mistakes i made building netflix for the iphone at #sxsw.\\n{link} #netflixiphone   \n",
       "1558                                 i'd take #sxsw hashtags over scheen, ipad/ipad2, tv or sports tweets any day, but for those needing a filterû_ {link}   \n",
       "1937                                                                                     iphone crashed in front of #sxsw apple pop-up. #bestworstthingever   \n",
       "405                                                                                 why barry diller thinks ipad only content is nuts @mention #sxsw {link}   \n",
       "4555                                 the hive of innovation but yet every booth at the #sxsw trade show had the exact same promotional idea: ipad 2 raffle!   \n",
       "2325                                                   next up: designing interfaces for ipad. or should i hit up &quot;your brand is obsolete&quot;? #sxsw   \n",
       "7937                                                                                                      iphone battery maintenance is a fine art at #sxsw   \n",
       "2126                                               ipadi alacagimiz yer belli oldu:  apple to open pop-up shop at austin #sxsw {link} via @mention @mention   \n",
       "4836                                   the session #designingforkids is changing my mind about my future kid's relationship with the iphone. #sapient #sxsw   \n",
       "4579                                                                                            yikes. google is launching 'circles' today at #sxsw? {link}   \n",
       "1404               @mention @mention @mention #platformer ci di venues #sxsw pake 3 app 4sq api,d cnth : tweetdeck etc (via : iphone, android, ipad and pc)   \n",
       "4221                                 ok. someone's trying to tell me something: for the 2nd day in a row i got to the #sxsw apple store right as it closed.   \n",
       "6198                                                          oh @mention the apple pop-up store: &quot;oh... you have the old one.&quot; #crazytimes #sxsw   \n",
       "3764                                                                  lol. #apple erects temporary apple store in #austin for #sxsw to sell #ipad 2. {link}   \n",
       "7440                                                                           line for source code is even longer than for ipad 2. take that, apple. #sxsw   \n",
       "2810                                                               google doesn't place any value on your domain extension. they are all equal. #sxsw #qagb   \n",
       "2932                     @mention foursquare is pushing their 3.0 iphone/android app heavily here at #sxsw. wish they gave your webos client equal billing.   \n",
       "4273              google/bing search smackdown panel is in a giant room with not enough chairs. hope you have a search for &quot;floor-sitting!&quot; #sxsw   \n",
       "2405           i wish the apple store employees cheering for all the people in line at the pop up apple store would cheer me on while i do timesheets #sxsw   \n",
       "4508                         it is also limited in its abilities. its a balance. rt @mention @mention an ipad is cheaper than most laptops. #newsapps #sxsw   \n",
       "3553                                                                   @mention is biyt.ly for email, like google voice for email #loveit #sxsw #startupbus   \n",
       "7953                                           #socialnetworks: #google noch heute mit #circles? #facebook-konkurrent! {link} via @mention und {link} #sxsw   \n",
       "5979                                  rt @mention rt @mention @mention @mention austin street closures during sxsw in google map form: {link} #sxsw #austin   \n",
       "2551                                                   hope there's time left for poked liked and retweeted and google love story (social vs search). #sxsw   \n",
       "8351  &quot;do you know what apple is really good at? making you feel bad about your xmas present!&quot; - seth meyers on ipad2 #sxsw #doyoureallyneedthat?   \n",
       "4870  rt @mention #sxsw @mention #devops: @mention &quot;the internets is mean/our systems are complex; go google 'how complex systems fail by doctor&quot;   \n",
       "7208                                                                                            @mention rww: google circles will be ______    #sxsw {link}   \n",
       "1762                                                                   i just realized my iphone's gonna go nuts with foursquare and gowalla updates. #sxsw   \n",
       "7232                                                                               #sxsw it's absolutely hysterical watching people take photos w an ipad!!   \n",
       "2139                                               saw a bunch of security guards playing with ipads at the apple store after hours last night #sxsw {link}   \n",
       "1984                                     william patry, google, says most authors dont care about copyright, they care about income. #sxsw but what models?   \n",
       "975                                                                                                   i can now say that google got me drunk #sxsw #h4ckers   \n",
       "\n",
       "       brand       emotion  \n",
       "7671  google  i can't tell  \n",
       "6480  google  i can't tell  \n",
       "3978   apple  i can't tell  \n",
       "8150   apple  i can't tell  \n",
       "3966   apple  i can't tell  \n",
       "7845   apple  i can't tell  \n",
       "1307   apple  i can't tell  \n",
       "7798   apple  i can't tell  \n",
       "1963  google  i can't tell  \n",
       "2518  google  i can't tell  \n",
       "313    apple  i can't tell  \n",
       "675    apple  i can't tell  \n",
       "5139   apple  i can't tell  \n",
       "5502   apple  i can't tell  \n",
       "1268   apple  i can't tell  \n",
       "8359   apple  i can't tell  \n",
       "2958   apple  i can't tell  \n",
       "8315   apple  i can't tell  \n",
       "6670   apple  i can't tell  \n",
       "1558   apple  i can't tell  \n",
       "1937   apple  i can't tell  \n",
       "405    apple  i can't tell  \n",
       "4555   apple  i can't tell  \n",
       "2325   apple  i can't tell  \n",
       "7937   apple  i can't tell  \n",
       "2126   apple  i can't tell  \n",
       "4836   apple  i can't tell  \n",
       "4579  google  i can't tell  \n",
       "1404   apple  i can't tell  \n",
       "4221   apple  i can't tell  \n",
       "6198   apple  i can't tell  \n",
       "3764   apple  i can't tell  \n",
       "7440   apple  i can't tell  \n",
       "2810  google  i can't tell  \n",
       "2932   apple  i can't tell  \n",
       "4273  google  i can't tell  \n",
       "2405   apple  i can't tell  \n",
       "4508   apple  i can't tell  \n",
       "3553  google  i can't tell  \n",
       "7953  google  i can't tell  \n",
       "5979  google  i can't tell  \n",
       "2551  google  i can't tell  \n",
       "8351   apple  i can't tell  \n",
       "4870  google  i can't tell  \n",
       "7208  google  i can't tell  \n",
       "1762   apple  i can't tell  \n",
       "7232   apple  i can't tell  \n",
       "2139   apple  i can't tell  \n",
       "1984  google  i can't tell  \n",
       "975   google  i can't tell  "
      ]
     },
     "execution_count": 21,
     "metadata": {},
     "output_type": "execute_result"
    }
   ],
   "source": [
    "# Understanding the 'I can't tell' sentiments\n",
    "unknown_emotion = df[df['emotion'] == \"i can't tell\"]\n",
    "unknown_emotion.sample(50)"
   ]
  },
  {
   "cell_type": "markdown",
   "metadata": {},
   "source": [
    "We decided to drop the 'I can't tell' because we wanted to classify the sentiments in 'positive' , 'negative' and 'neutral' as this will help us enhance the quality of our analysis."
   ]
  },
  {
   "cell_type": "code",
   "execution_count": 22,
   "metadata": {},
   "outputs": [
    {
     "data": {
      "text/plain": [
       "emotion\n",
       "no emotion toward brand or product    4672\n",
       "positive emotion                      2956\n",
       "negative emotion                       568\n",
       "Name: count, dtype: int64"
      ]
     },
     "execution_count": 22,
     "metadata": {},
     "output_type": "execute_result"
    }
   ],
   "source": [
    "# Drop the columns containing \"I can't tell\"\n",
    "df = df[df['emotion'] != \"i can't tell\"]\n",
    "df['emotion'].value_counts()"
   ]
  },
  {
   "cell_type": "code",
   "execution_count": 23,
   "metadata": {},
   "outputs": [
    {
     "name": "stdout",
     "output_type": "stream",
     "text": [
      "Distribution of Emotions:\n",
      "emotion\n",
      "neutral     0.570034\n",
      "positive    0.360664\n",
      "negative    0.069302\n",
      "Name: proportion, dtype: float64\n"
     ]
    }
   ],
   "source": [
    "# Emotions dictionary for mapping\n",
    "emotions_dict = {\n",
    "    \"no emotion toward brand or product\": \"neutral\",\n",
    "    \"positive emotion\": \"positive\",\n",
    "    \"negative emotion\": \"negative\"\n",
    "}\n",
    "\n",
    "# Map old labels to new ones and drop NaN values\n",
    "df[\"emotion\"] = df[\"emotion\"].map(emotions_dict).dropna()\n",
    "\n",
    "# Check distribution of emotions\n",
    "emotion_distribution = df[\"emotion\"].value_counts(normalize=True)\n",
    "\n",
    "# Display results\n",
    "print(f\"Distribution of Emotions:\\n{emotion_distribution}\")\n"
   ]
  },
  {
   "cell_type": "markdown",
   "metadata": {},
   "source": [
    "For the target variable, we can note that we have a class imbalance, so we will perform different oversampling or undersampling techniques after the train test split to avoid data leakage."
   ]
  },
  {
   "cell_type": "markdown",
   "metadata": {},
   "source": [
    "## Data Preprocessing"
   ]
  },
  {
   "cell_type": "markdown",
   "metadata": {},
   "source": [
    "Preprocessing is the first crucial step in working with text data. It involves cleaning and transforming the raw text into a format that can be used for further analysis or modeling.  \n",
    "In this analysis, we preprocess the textual data by cleaning and tokenizing it, followed by a sentiment-based word frequency analysis. The results are visualized using bar plots and word clouds, providing insights into the most common words associated with different sentiments in the tweets.\n",
    "\n",
    "Preprocessing Steps:    \n",
    "- Converting the text to lowercase.     \n",
    "- Removing URLs, specific words (e.g., \"mention,\" \"link,\" \"2,\" \"rt\").   \n",
    "- Removing punctuation.     \n",
    "- Filtering out common stopwords that do not contribute much to the analysis.   \n",
    "- Applying lemmatization to reduce words to their base form ensuring consistency across word variations"
   ]
  },
  {
   "cell_type": "code",
   "execution_count": 24,
   "metadata": {},
   "outputs": [
    {
     "data": {
      "image/png": "[encoded data removed]",
      "text/plain": [
       "<Figure size 1296x432 with 3 Axes>"
      ]
     },
     "metadata": {
      "needs_background": "light"
     },
     "output_type": "display_data"
    }
   ],
   "source": [
    "\n",
    "# Initialize Tweet Tokenizer and Lemmatizer\n",
    "tknzr = TweetTokenizer(strip_handles=True, preserve_case=False)\n",
    "lemmatizer = WordNetLemmatizer()\n",
    "\n",
    "# Stopwords and additional custom stopwords\n",
    "stop_words = set(stopwords.words('english'))\n",
    "additional_stopwords = [\"ipad\", \"google\", \"apple\", \"iphone\", \"android\", \"sxsw\", \"rt\", \"link\", \"mention\", \"austin\"]\n",
    "stop_words.update(additional_stopwords)\n",
    "\n",
    "# Tokenization, stopword removal, number removal, and lemmatization function\n",
    "def preprocess_and_tokenize(text):\n",
    "    text = re.sub(r'http\\S+', '', text)  # Remove URLs\n",
    "    text = text.translate(str.maketrans('', '', string.punctuation))  # Remove punctuation\n",
    "    text = re.sub(r'\\d+', '', text)  # Remove numbers\n",
    "    tokens = tknzr.tokenize(text)  # Tokenize\n",
    "    tokens = [lemmatizer.lemmatize(token) for token in tokens if token not in stop_words]  # Lemmatize and remove stopwords\n",
    "    return tokens\n",
    "\n",
    "# Apply tokenization and stopword removal\n",
    "df['tokens'] = df['tweet'].apply(preprocess_and_tokenize)\n",
    "\n",
    "# Function to get most common words for each sentiment\n",
    "def get_most_common_words_by_sentiment(df, emotion, column_name, N=15):\n",
    "    emotion_df = df[df['emotion'] == emotion]\n",
    "    all_tokens = [token for tokens in emotion_df[column_name] for token in tokens]\n",
    "    return Counter(all_tokens).most_common(N)\n",
    "\n",
    "# Get top words for each sentiment\n",
    "top_positive_words = get_most_common_words_by_sentiment(df, 'positive', 'tokens')\n",
    "top_negative_words = get_most_common_words_by_sentiment(df, 'negative', 'tokens')\n",
    "top_neutral_words = get_most_common_words_by_sentiment(df, 'neutral', 'tokens')\n",
    "\n",
    "# Function to plot word frequencies as a bar chart\n",
    "def plot_word_frequencies(axes, word_freq, title, color):\n",
    "    words, freqs = zip(*word_freq)\n",
    "    axes.barh(words, freqs, color=color)\n",
    "    axes.set_xlabel('Frequency')\n",
    "    axes.set_ylabel('Words')\n",
    "    axes.set_title(title)\n",
    "    axes.invert_yaxis()  \n",
    "\n",
    "fig, axes = plt.subplots(nrows=1, ncols=3, figsize=(18, 6))\n",
    "\n",
    "plot_word_frequencies(axes[0], top_positive_words, 'Top 15 Words in Positive Sentiment', 'green')\n",
    "plot_word_frequencies(axes[1], top_negative_words, 'Top 15 Words in Negative Sentiment', 'red')\n",
    "plot_word_frequencies(axes[2], top_neutral_words, 'Top 15 Words in Neutral Sentiment', 'gray')\n",
    "\n",
    "plt.tight_layout()\n",
    "plt.show()\n"
   ]
  },
  {
   "cell_type": "markdown",
   "metadata": {},
   "source": [
    "## Exploratory Data Analysis"
   ]
  },
  {
   "cell_type": "markdown",
   "metadata": {},
   "source": [
    "### Univariate Analysis"
   ]
  },
  {
   "cell_type": "code",
   "execution_count": 25,
   "metadata": {},
   "outputs": [
    {
     "data": {
      "image/png": "[encoded data removed]",
      "text/plain": [
       "<Figure size 720x432 with 1 Axes>"
      ]
     },
     "metadata": {
      "needs_background": "light"
     },
     "output_type": "display_data"
    }
   ],
   "source": [
    "# distribution of text: sentense length analysis\n",
    "plt.figure(figsize=(10, 6))\n",
    "\n",
    "sns.histplot(df['tweet'].str.len(), bins=10, kde=True, color='skyblue', edgecolor='black')\n",
    "\n",
    "plt.title('Distribution of Tweet Lengths', fontsize=16)\n",
    "plt.xlabel('Tweet Length (Characters)', fontsize=12)\n",
    "plt.ylabel('Frequency', fontsize=12)\n",
    "\n",
    "plt.show()"
   ]
  },
  {
   "cell_type": "markdown",
   "metadata": {},
   "source": [
    "The distribution of the texts seem to be left skewed From above histogram, the tweets are comprised of around 29-160 characters."
   ]
  },
  {
   "cell_type": "code",
   "execution_count": 26,
   "metadata": {},
   "outputs": [
    {
     "data": {
      "image/png": "[encoded data removed]",
      "text/plain": [
       "<Figure size 864x432 with 1 Axes>"
      ]
     },
     "metadata": {
      "needs_background": "light"
     },
     "output_type": "display_data"
    }
   ],
   "source": [
    "# Creating a countplot for sentiment distribution\n",
    "plt.figure(figsize=(12, 6))\n",
    "\n",
    "sns.countplot(x='emotion', data=df, palette='Set2', order=df['emotion'].value_counts().index)\n",
    "\n",
    "plt.title('Distribution of Customer Sentiments', fontsize=16)\n",
    "plt.xlabel('Emotion', fontsize=12)\n",
    "plt.ylabel('Count', fontsize=12)\n",
    "\n",
    "plt.show()"
   ]
  },
  {
   "cell_type": "markdown",
   "metadata": {},
   "source": [
    "It is evident that there is a class imbalance in the dataset. Neutral sentiment dominates, followed by positive, and then negative sentiment, which is significantly underrepresented."
   ]
  },
  {
   "cell_type": "markdown",
   "metadata": {},
   "source": [
    "### Bivariate Analysis"
   ]
  },
  {
   "cell_type": "markdown",
   "metadata": {},
   "source": [
    "\n",
    "### Sentiment Vs. Brand Analysis\n",
    "This analysis examines how sentiment (positive, negative, neutral) is distributed across the two brands, specifically Apple and Google, as mentioned in the tweets. By doing so, we can gain insights into customer perceptions and attitudes toward each brand. This will help understand how each brand is viewed by its users in terms of sentiment."
   ]
  },
  {
   "cell_type": "code",
   "execution_count": 27,
   "metadata": {},
   "outputs": [
    {
     "data": {
      "image/png": "[encoded data removed]",
      "text/plain": [
       "<Figure size 720x432 with 1 Axes>"
      ]
     },
     "metadata": {
      "needs_background": "light"
     },
     "output_type": "display_data"
    }
   ],
   "source": [
    "\n",
    "df_grouped = df.groupby(['brand', 'emotion']).size().unstack(fill_value=0)\n",
    "\n",
    "df_grouped['positive'] = df_grouped['positive'] * 1  \n",
    "df_grouped['neutral'] = df_grouped['neutral'] * -1   \n",
    "df_grouped['negative'] = df_grouped['negative'] * -1  \n",
    "\n",
    "df_grouped[['positive', 'neutral', 'negative']].plot(kind='barh', stacked=True, color=['green', 'gray', 'red'], figsize=(10, 6))\n",
    "\n",
    "plt.title('Diverging Sentiment Distribution by Brand', fontsize=16)\n",
    "plt.xlabel('Number of Tweets', fontsize=12)\n",
    "plt.ylabel('Brand', fontsize=12)\n",
    "\n",
    "plt.tight_layout()\n",
    "plt.show()\n"
   ]
  },
  {
   "cell_type": "markdown",
   "metadata": {},
   "source": [
    "Mentions of Apple products in the tweets show more extreme opinions, with both stronger positive and negative feelings compared to Google. In contrast, tweets about Google tend to have a more balanced and neutral tone. This suggests that Apple’s products may provoke stronger emotional responses, whether positive or negative, from users."
   ]
  },
  {
   "cell_type": "markdown",
   "metadata": {},
   "source": [
    "### Sentiment Vs. Tweet Length"
   ]
  },
  {
   "cell_type": "code",
   "execution_count": 28,
   "metadata": {},
   "outputs": [
    {
     "data": {
      "image/png": "[encoded data removed]",
      "text/plain": [
       "<Figure size 720x432 with 1 Axes>"
      ]
     },
     "metadata": {
      "needs_background": "light"
     },
     "output_type": "display_data"
    }
   ],
   "source": [
    "\n",
    "# Plotting a boxplot to visualize tweet length by sentiment\n",
    "df['tweet_length'] = df['tweet'].str.len()\n",
    "\n",
    "plt.figure(figsize=(10, 6))\n",
    "sns.boxplot(x='emotion', y='tweet_length', data=df, palette=\"Set2\")\n",
    "\n",
    "plt.title('Tweet Length Distribution by Sentiment', fontsize=16)\n",
    "plt.xlabel('Sentiment', fontsize=12)\n",
    "plt.ylabel('Tweet Length (Characters)', fontsize=12)\n",
    "\n",
    "plt.tight_layout()\n",
    "plt.show()\n"
   ]
  },
  {
   "cell_type": "markdown",
   "metadata": {},
   "source": [
    "From the box plots, we notice that most of the tweets whose lengths are longer hold negative sentiments. Also, the margine between the three sentiments is not too far apart. Therefore, it is safe to say that the length of the tweets is not enough to conclude on the customers' sentiments"
   ]
  },
  {
   "cell_type": "markdown",
   "metadata": {},
   "source": [
    "## Modeling"
   ]
  },
  {
   "cell_type": "markdown",
   "metadata": {},
   "source": [
    "### Label Encode Sentiments"
   ]
  },
  {
   "cell_type": "code",
   "execution_count": 29,
   "metadata": {},
   "outputs": [
    {
     "data": {
      "text/html": [
       "<div>\n",
       "<style scoped>\n",
       "    .dataframe tbody tr th:only-of-type {\n",
       "        vertical-align: middle;\n",
       "    }\n",
       "\n",
       "    .dataframe tbody tr th {\n",
       "        vertical-align: top;\n",
       "    }\n",
       "\n",
       "    .dataframe thead th {\n",
       "        text-align: right;\n",
       "    }\n",
       "</style>\n",
       "<table border=\"1\" class=\"dataframe\">\n",
       "  <thead>\n",
       "    <tr style=\"text-align: right;\">\n",
       "      <th></th>\n",
       "      <th>tweet</th>\n",
       "      <th>brand</th>\n",
       "      <th>emotion</th>\n",
       "      <th>tokens</th>\n",
       "      <th>tweet_length</th>\n",
       "      <th>emotion_encoded</th>\n",
       "    </tr>\n",
       "  </thead>\n",
       "  <tbody>\n",
       "    <tr>\n",
       "      <th>0</th>\n",
       "      <td>.@wesley83 i have a 3g iphone. after 3 hrs tweeting at #rise_austin, it was dead!  i need to upgrade. plugin stations at #sxsw.</td>\n",
       "      <td>apple</td>\n",
       "      <td>negative</td>\n",
       "      <td>[wesley, g, hr, tweeting, riseaustin, dead, need, upgrade, plugin, station]</td>\n",
       "      <td>127</td>\n",
       "      <td>0</td>\n",
       "    </tr>\n",
       "    <tr>\n",
       "      <th>1</th>\n",
       "      <td>@jessedee know about @fludapp ? awesome ipad/iphone app that you'll likely appreciate for its design. also, they're giving free ts at #sxsw</td>\n",
       "      <td>apple</td>\n",
       "      <td>positive</td>\n",
       "      <td>[jessedee, know, fludapp, awesome, ipadiphone, app, youll, likely, appreciate, design, also, theyre, giving, free, t]</td>\n",
       "      <td>139</td>\n",
       "      <td>2</td>\n",
       "    </tr>\n",
       "    <tr>\n",
       "      <th>2</th>\n",
       "      <td>@swonderlin can not wait for #ipad 2 also. they should sale them down at #sxsw.</td>\n",
       "      <td>apple</td>\n",
       "      <td>positive</td>\n",
       "      <td>[swonderlin, wait, also, sale]</td>\n",
       "      <td>79</td>\n",
       "      <td>2</td>\n",
       "    </tr>\n",
       "    <tr>\n",
       "      <th>3</th>\n",
       "      <td>@sxsw i hope this year's festival isn't as crashy as this year's iphone app. #sxsw</td>\n",
       "      <td>apple</td>\n",
       "      <td>negative</td>\n",
       "      <td>[hope, year, festival, isnt, crashy, year, app]</td>\n",
       "      <td>82</td>\n",
       "      <td>0</td>\n",
       "    </tr>\n",
       "    <tr>\n",
       "      <th>4</th>\n",
       "      <td>@sxtxstate great stuff on fri #sxsw: marissa mayer (google), tim o'reilly (tech books/conferences) &amp;amp; matt mullenweg (wordpress)</td>\n",
       "      <td>google</td>\n",
       "      <td>positive</td>\n",
       "      <td>[sxtxstate, great, stuff, fri, marissa, mayer, tim, oreilly, tech, booksconferences, amp, matt, mullenweg, wordpress]</td>\n",
       "      <td>131</td>\n",
       "      <td>2</td>\n",
       "    </tr>\n",
       "  </tbody>\n",
       "</table>\n",
       "</div>"
      ],
      "text/plain": [
       "                                                                                                                                         tweet  \\\n",
       "0              .@wesley83 i have a 3g iphone. after 3 hrs tweeting at #rise_austin, it was dead!  i need to upgrade. plugin stations at #sxsw.   \n",
       "1  @jessedee know about @fludapp ? awesome ipad/iphone app that you'll likely appreciate for its design. also, they're giving free ts at #sxsw   \n",
       "2                                                              @swonderlin can not wait for #ipad 2 also. they should sale them down at #sxsw.   \n",
       "3                                                           @sxsw i hope this year's festival isn't as crashy as this year's iphone app. #sxsw   \n",
       "4          @sxtxstate great stuff on fri #sxsw: marissa mayer (google), tim o'reilly (tech books/conferences) &amp; matt mullenweg (wordpress)   \n",
       "\n",
       "    brand   emotion  \\\n",
       "0   apple  negative   \n",
       "1   apple  positive   \n",
       "2   apple  positive   \n",
       "3   apple  negative   \n",
       "4  google  positive   \n",
       "\n",
       "                                                                                                                  tokens  \\\n",
       "0                                            [wesley, g, hr, tweeting, riseaustin, dead, need, upgrade, plugin, station]   \n",
       "1  [jessedee, know, fludapp, awesome, ipadiphone, app, youll, likely, appreciate, design, also, theyre, giving, free, t]   \n",
       "2                                                                                         [swonderlin, wait, also, sale]   \n",
       "3                                                                        [hope, year, festival, isnt, crashy, year, app]   \n",
       "4  [sxtxstate, great, stuff, fri, marissa, mayer, tim, oreilly, tech, booksconferences, amp, matt, mullenweg, wordpress]   \n",
       "\n",
       "   tweet_length  emotion_encoded  \n",
       "0           127                0  \n",
       "1           139                2  \n",
       "2            79                2  \n",
       "3            82                0  \n",
       "4           131                2  "
      ]
     },
     "execution_count": 29,
     "metadata": {},
     "output_type": "execute_result"
    }
   ],
   "source": [
    "label_encoder = LabelEncoder()\n",
    "df['emotion_encoded'] = label_encoder.fit_transform(df['emotion'])\n",
    "df.head()"
   ]
  },
  {
   "cell_type": "markdown",
   "metadata": {},
   "source": [
    "### Joining Tokens\n"
   ]
  },
  {
   "cell_type": "code",
   "execution_count": 30,
   "metadata": {},
   "outputs": [],
   "source": [
    "# Join the tokens back into strings\n",
    "df['tokens_joined'] = df['tokens'].apply(lambda x: ' '.join(x) if isinstance(x, list) else str(x))\n"
   ]
  },
  {
   "cell_type": "markdown",
   "metadata": {},
   "source": [
    "### Train Test Split"
   ]
  },
  {
   "cell_type": "code",
   "execution_count": 31,
   "metadata": {},
   "outputs": [],
   "source": [
    "X = df['tokens_joined']  \n",
    "y = df['emotion_encoded']  \n",
    "\n",
    "X_train, X_test, y_train, y_test = train_test_split(X, y, test_size=0.25, random_state=42)\n"
   ]
  },
  {
   "cell_type": "code",
   "execution_count": 32,
   "metadata": {},
   "outputs": [],
   "source": [
    "# Function to print performance metrics\n",
    "def evaluate_model(y_test, y_pred, model_name):\n",
    "    print(f\"Performance of {model_name}:\")\n",
    "    print(f\"Accuracy: {accuracy_score(y_test, y_pred)}\")\n",
    "    print(\"\\nClassification Report:\")\n",
    "    print(classification_report(y_test, y_pred))\n",
    "    \n",
    "    # Confusion Matrix\n",
    "    cm = confusion_matrix(y_test, y_pred)\n",
    "    plt.figure(figsize=(8, 6))\n",
    "    sns.heatmap(cm, annot=True, fmt='d', cmap='Blues', xticklabels=['Negative', 'Neutral', 'Positive'], yticklabels=['Negative', 'Neutral', 'Positive'])\n",
    "    plt.title(f'{model_name} Confusion Matrix')\n",
    "    plt.xlabel('Predicted')\n",
    "    plt.ylabel('Actual')\n",
    "    plt.show()\n"
   ]
  },
  {
   "cell_type": "markdown",
   "metadata": {},
   "source": [
    "## Building a baseline model - Logistic regression"
   ]
  },
  {
   "cell_type": "code",
   "execution_count": 33,
   "metadata": {},
   "outputs": [
    {
     "name": "stdout",
     "output_type": "stream",
     "text": [
      "Performance of Logistic Regression:\n",
      "Accuracy: 0.5856515373352855\n",
      "\n",
      "Classification Report:\n",
      "              precision    recall  f1-score   support\n",
      "\n",
      "           0       0.30      0.31      0.30       139\n",
      "           1       0.67      0.65      0.66      1163\n",
      "           2       0.52      0.53      0.53       747\n",
      "\n",
      "    accuracy                           0.59      2049\n",
      "   macro avg       0.49      0.50      0.50      2049\n",
      "weighted avg       0.59      0.59      0.59      2049\n",
      "\n"
     ]
    },
    {
     "data": {
      "image/png": "[encoded data removed]",
      "text/plain": [
       "<Figure size 576x432 with 2 Axes>"
      ]
     },
     "metadata": {
      "needs_background": "light"
     },
     "output_type": "display_data"
    }
   ],
   "source": [
    "logreg_pipeline = Pipeline([\n",
    "    ('tfidf', TfidfVectorizer(max_features=5000)),  # Text vectorization\n",
    "    ('scaler', StandardScaler(with_mean=False)),  # Feature scaling (after TF-IDF)\n",
    "    ('logreg', LogisticRegression(class_weight='balanced'))  # Logistic Regression (handling class imbalance)\n",
    "])\n",
    "\n",
    "# Train and predict\n",
    "logreg_pipeline.fit(X_train, y_train)\n",
    "y_pred_logreg = logreg_pipeline.predict(X_test)\n",
    "\n",
    "# Evaluate the model\n",
    "evaluate_model(y_test, y_pred_logreg, \"Logistic Regression\")\n",
    "\n"
   ]
  },
  {
   "cell_type": "markdown",
   "metadata": {},
   "source": [
    "## SVM"
   ]
  },
  {
   "cell_type": "code",
   "execution_count": 34,
   "metadata": {},
   "outputs": [
    {
     "name": "stdout",
     "output_type": "stream",
     "text": [
      "Performance of SVM:\n",
      "Accuracy: 0.6246949731576379\n",
      "\n",
      "Classification Report:\n",
      "              precision    recall  f1-score   support\n",
      "\n",
      "           0       0.40      0.26      0.31       139\n",
      "           1       0.68      0.71      0.69      1163\n",
      "           2       0.56      0.57      0.56       747\n",
      "\n",
      "    accuracy                           0.62      2049\n",
      "   macro avg       0.55      0.51      0.52      2049\n",
      "weighted avg       0.62      0.62      0.62      2049\n",
      "\n"
     ]
    },
    {
     "data": {
      "image/png": "[encoded data removed]",
      "text/plain": [
       "<Figure size 576x432 with 2 Axes>"
      ]
     },
     "metadata": {
      "needs_background": "light"
     },
     "output_type": "display_data"
    }
   ],
   "source": [
    "svm_pipeline = Pipeline([\n",
    "    ('tfidf', TfidfVectorizer(max_features=5000)),  # Text vectorization\n",
    "    ('scaler', StandardScaler(with_mean=False)),  # Feature scaling\n",
    "    ('svm', SVC(class_weight='balanced'))  # SVM with class balancing\n",
    "])\n",
    "\n",
    "# Train and predict\n",
    "svm_pipeline.fit(X_train, y_train)\n",
    "y_pred_svm = svm_pipeline.predict(X_test)\n",
    "\n",
    "# Evaluate the model\n",
    "evaluate_model(y_test, y_pred_svm, \"SVM\")\n"
   ]
  },
  {
   "cell_type": "markdown",
   "metadata": {},
   "source": [
    "## Random Forest"
   ]
  },
  {
   "cell_type": "code",
   "execution_count": 35,
   "metadata": {},
   "outputs": [
    {
     "name": "stdout",
     "output_type": "stream",
     "text": [
      "Performance of Random Forest:\n",
      "Accuracy: 0.6232308443142996\n",
      "\n",
      "Classification Report:\n",
      "              precision    recall  f1-score   support\n",
      "\n",
      "           0       0.40      0.24      0.30       139\n",
      "           1       0.66      0.77      0.71      1163\n",
      "           2       0.58      0.47      0.52       747\n",
      "\n",
      "    accuracy                           0.62      2049\n",
      "   macro avg       0.54      0.49      0.51      2049\n",
      "weighted avg       0.61      0.62      0.61      2049\n",
      "\n"
     ]
    },
    {
     "data": {
      "image/png": "[encoded data removed]",
      "text/plain": [
       "<Figure size 576x432 with 2 Axes>"
      ]
     },
     "metadata": {
      "needs_background": "light"
     },
     "output_type": "display_data"
    }
   ],
   "source": [
    "rf_pipeline = Pipeline([\n",
    "    ('tfidf', TfidfVectorizer(max_features=5000)),  # Text vectorization\n",
    "    ('rf', RandomForestClassifier(class_weight='balanced'))  # Random Forest with class balancing\n",
    "])\n",
    "\n",
    "# Train and predict\n",
    "rf_pipeline.fit(X_train, y_train)\n",
    "y_pred_rf = rf_pipeline.predict(X_test)\n",
    "\n",
    "# Evaluate the model\n",
    "evaluate_model(y_test, y_pred_rf, \"Random Forest\")\n"
   ]
  },
  {
   "cell_type": "markdown",
   "metadata": {},
   "source": [
    "## Naive Bayes"
   ]
  },
  {
   "cell_type": "code",
   "execution_count": 36,
   "metadata": {},
   "outputs": [
    {
     "name": "stdout",
     "output_type": "stream",
     "text": [
      "Performance of Naive Bayes:\n",
      "Accuracy: 0.6290873596876525\n",
      "\n",
      "Classification Report:\n",
      "              precision    recall  f1-score   support\n",
      "\n",
      "           0       0.71      0.04      0.07       139\n",
      "           1       0.63      0.87      0.73      1163\n",
      "           2       0.61      0.36      0.45       747\n",
      "\n",
      "    accuracy                           0.63      2049\n",
      "   macro avg       0.65      0.42      0.42      2049\n",
      "weighted avg       0.63      0.63      0.59      2049\n",
      "\n"
     ]
    },
    {
     "data": {
      "image/png": "[encoded data removed]",
      "text/plain": [
       "<Figure size 576x432 with 2 Axes>"
      ]
     },
     "metadata": {
      "needs_background": "light"
     },
     "output_type": "display_data"
    }
   ],
   "source": [
    "nb_pipeline = Pipeline([\n",
    "    ('tfidf', TfidfVectorizer(max_features=5000)),  # Text vectorization\n",
    "    ('nb', MultinomialNB())  # Naive Bayes classifier\n",
    "])\n",
    "\n",
    "# Train and predict\n",
    "nb_pipeline.fit(X_train, y_train)\n",
    "y_pred_nb = nb_pipeline.predict(X_test)\n",
    "\n",
    "# Evaluate the model\n",
    "evaluate_model(y_test, y_pred_nb, \"Naive Bayes\")\n"
   ]
  },
  {
   "cell_type": "markdown",
   "metadata": {},
   "source": [
    "### XGBoost"
   ]
  },
  {
   "cell_type": "code",
   "execution_count": 39,
   "metadata": {},
   "outputs": [
    {
     "name": "stdout",
     "output_type": "stream",
     "text": [
      "[13:18:06] WARNING: C:\\Users\\Administrator\\workspace\\xgboost-win64_release_1.2.0\\src\\learner.cc:516: \n",
      "Parameters: { scale_pos_weight } might not be used.\n",
      "\n",
      "  This may not be accurate due to some parameters are only used in language bindings but\n",
      "  passed down to XGBoost core.  Or some parameters are not used but slip through this\n",
      "  verification. Please open an issue if you find above cases.\n",
      "\n",
      "\n",
      "Performance of XGBoost with SMOTE:\n",
      "Accuracy: 0.6281112737920937\n",
      "\n",
      "Classification Report:\n",
      "              precision    recall  f1-score   support\n",
      "\n",
      "           0       0.36      0.27      0.31       139\n",
      "           1       0.67      0.78      0.72      1163\n",
      "           2       0.59      0.46      0.52       747\n",
      "\n",
      "    accuracy                           0.63      2049\n",
      "   macro avg       0.54      0.50      0.51      2049\n",
      "weighted avg       0.62      0.63      0.62      2049\n",
      "\n"
     ]
    },
    {
     "data": {
      "image/png": "[encoded data removed]",
      "text/plain": [
       "<Figure size 576x432 with 2 Axes>"
      ]
     },
     "metadata": {
      "needs_background": "light"
     },
     "output_type": "display_data"
    }
   ],
   "source": [
    "# Vectorize the text data using TfidfVectorizer\n",
    "tfidf = TfidfVectorizer(max_features=5000)\n",
    "X_train_tfidf = tfidf.fit_transform(X_train)\n",
    "X_test_tfidf = tfidf.transform(X_test)\n",
    "\n",
    "# Convert the sparse matrix to a dense matrix for SMOTE\n",
    "X_train_dense = X_train_tfidf.toarray()\n",
    "\n",
    "# Apply SMOTE to the dense vectorized training data\n",
    "smote = SMOTE(random_state=42)\n",
    "X_train_smote, y_train_smote = smote.fit_resample(X_train_dense, y_train)\n",
    "\n",
    "# Train the XGBoost model\n",
    "xgb = XGBClassifier(objective='binary:logistic', scale_pos_weight=3, random_state=42)\n",
    "xgb.fit(X_train_smote, y_train_smote)\n",
    "\n",
    "# Convert X_test to a dense matrix and predict\n",
    "y_pred_xgb = xgb.predict(X_test_tfidf.toarray())\n",
    "\n",
    "# Evaluate the model performance\n",
    "evaluate_model(y_test, y_pred_xgb, \"XGBoost with SMOTE\")\n"
   ]
  },
  {
   "cell_type": "markdown",
   "metadata": {},
   "source": [
    "## Hyperparameter Tuning the Models\n",
    "Using Grid Search and Random Search to fine-tune hyperparameters for each model."
   ]
  },
  {
   "cell_type": "markdown",
   "metadata": {},
   "source": [
    "### Logistic Regression Tuning"
   ]
  },
  {
   "cell_type": "code",
   "execution_count": 41,
   "metadata": {},
   "outputs": [
    {
     "name": "stdout",
     "output_type": "stream",
     "text": [
      "Best parameters for Logistic Regression: {'logreg__C': 0.01, 'logreg__solver': 'lbfgs'}\n",
      "Performance of Tuned Logistic Regression:\n",
      "Accuracy: 0.6085895558809176\n",
      "\n",
      "Classification Report:\n",
      "              precision    recall  f1-score   support\n",
      "\n",
      "           0       0.31      0.32      0.31       139\n",
      "           1       0.69      0.67      0.68      1163\n",
      "           2       0.55      0.57      0.56       747\n",
      "\n",
      "    accuracy                           0.61      2049\n",
      "   macro avg       0.51      0.52      0.52      2049\n",
      "weighted avg       0.61      0.61      0.61      2049\n",
      "\n"
     ]
    },
    {
     "data": {
      "image/png": "[encoded data removed]",
      "text/plain": [
       "<Figure size 576x432 with 2 Axes>"
      ]
     },
     "metadata": {
      "needs_background": "light"
     },
     "output_type": "display_data"
    }
   ],
   "source": [
    "logreg_pipeline = Pipeline([\n",
    "    ('tfidf', TfidfVectorizer(max_features=5000)),  # Text vectorization\n",
    "    ('scaler', StandardScaler(with_mean=False)),  # Feature scaling\n",
    "    ('logreg', LogisticRegression(class_weight='balanced'))  # Logistic Regression\n",
    "])\n",
    "\n",
    "# Hyperparameter grid for Logistic Regression\n",
    "param_grid_logreg = {\n",
    "    'logreg__C': [0.01, 0.1, 1, 10, 100],  # Regularization strength\n",
    "    'logreg__solver': ['liblinear', 'lbfgs', 'saga']  # Solvers\n",
    "}\n",
    "\n",
    "# Grid Search\n",
    "grid_logreg = GridSearchCV(logreg_pipeline, param_grid_logreg, cv=5, scoring='accuracy')\n",
    "grid_logreg.fit(X_train, y_train)\n",
    "\n",
    "# Best Parameters and Evaluate\n",
    "print(f\"Best parameters for Logistic Regression: {grid_logreg.best_params_}\")\n",
    "y_pred_logreg = grid_logreg.predict(X_test)\n",
    "evaluate_model(y_test, y_pred_logreg, \"Tuned Logistic Regression\")"
   ]
  },
  {
   "cell_type": "markdown",
   "metadata": {},
   "source": [
    "### SVM Tuning"
   ]
  },
  {
   "cell_type": "code",
   "execution_count": 42,
   "metadata": {},
   "outputs": [
    {
     "name": "stdout",
     "output_type": "stream",
     "text": [
      "Best parameters for SVM: {'svm__C': 10, 'svm__gamma': 'scale', 'svm__kernel': 'rbf'}\n",
      "Performance of Tuned SVM:\n",
      "Accuracy: 0.6144460712542704\n",
      "\n",
      "Classification Report:\n",
      "              precision    recall  f1-score   support\n",
      "\n",
      "           0       0.37      0.25      0.30       139\n",
      "           1       0.67      0.72      0.69      1163\n",
      "           2       0.55      0.52      0.53       747\n",
      "\n",
      "    accuracy                           0.61      2049\n",
      "   macro avg       0.53      0.50      0.51      2049\n",
      "weighted avg       0.61      0.61      0.61      2049\n",
      "\n"
     ]
    },
    {
     "data": {
      "image/png": "[encoded data removed]",
      "text/plain": [
       "<Figure size 576x432 with 2 Axes>"
      ]
     },
     "metadata": {
      "needs_background": "light"
     },
     "output_type": "display_data"
    }
   ],
   "source": [
    "svm_pipeline = Pipeline([\n",
    "    ('tfidf', TfidfVectorizer(max_features=5000)),  # Text vectorization\n",
    "    ('scaler', StandardScaler(with_mean=False)),  # Feature scaling\n",
    "    ('svm', SVC(class_weight='balanced'))  # SVM\n",
    "])\n",
    "\n",
    "# Hyperparameter grid for SVM\n",
    "param_grid_svm = {\n",
    "    'svm__C': [0.1, 1, 10],\n",
    "    'svm__kernel': ['linear', 'rbf', 'poly'],\n",
    "    'svm__gamma': ['scale', 'auto']\n",
    "}\n",
    "\n",
    "# Grid Search\n",
    "grid_svm = GridSearchCV(svm_pipeline, param_grid_svm, cv=5, scoring='accuracy')\n",
    "grid_svm.fit(X_train, y_train)\n",
    "\n",
    "# Best Parameters and Evaluate\n",
    "print(f\"Best parameters for SVM: {grid_svm.best_params_}\")\n",
    "y_pred_svm = grid_svm.predict(X_test)\n",
    "evaluate_model(y_test, y_pred_svm, \"Tuned SVM\")\n"
   ]
  },
  {
   "cell_type": "markdown",
   "metadata": {},
   "source": [
    "### Random Forest Tuning"
   ]
  },
  {
   "cell_type": "code",
   "execution_count": 43,
   "metadata": {},
   "outputs": [
    {
     "name": "stdout",
     "output_type": "stream",
     "text": [
      "Best parameters for Random Forest: {'rf__max_depth': None, 'rf__min_samples_split': 5, 'rf__n_estimators': 100}\n",
      "Performance of Tuned Random Forest:\n",
      "Accuracy: 0.6354319180087847\n",
      "\n",
      "Classification Report:\n",
      "              precision    recall  f1-score   support\n",
      "\n",
      "           0       0.34      0.27      0.30       139\n",
      "           1       0.68      0.75      0.71      1163\n",
      "           2       0.60      0.53      0.56       747\n",
      "\n",
      "    accuracy                           0.64      2049\n",
      "   macro avg       0.54      0.52      0.52      2049\n",
      "weighted avg       0.63      0.64      0.63      2049\n",
      "\n"
     ]
    },
    {
     "data": {
      "image/png": "[encoded data removed]",
      "text/plain": [
       "<Figure size 576x432 with 2 Axes>"
      ]
     },
     "metadata": {
      "needs_background": "light"
     },
     "output_type": "display_data"
    }
   ],
   "source": [
    "rf_pipeline = Pipeline([\n",
    "    ('tfidf', TfidfVectorizer(max_features=5000)),  # Text vectorization\n",
    "    ('rf', RandomForestClassifier(class_weight='balanced', random_state=42))  # Random Forest\n",
    "])\n",
    "\n",
    "# Hyperparameter grid for Random Forest\n",
    "param_grid_rf = {\n",
    "    'rf__n_estimators': [100, 200, 500],\n",
    "    'rf__max_depth': [10, 50, None],\n",
    "    'rf__min_samples_split': [2, 5, 10]\n",
    "}\n",
    "\n",
    "# Grid Search\n",
    "grid_rf = GridSearchCV(rf_pipeline, param_grid_rf, cv=5, scoring='accuracy')\n",
    "grid_rf.fit(X_train, y_train)\n",
    "\n",
    "# Best Parameters and Evaluate\n",
    "print(f\"Best parameters for Random Forest: {grid_rf.best_params_}\")\n",
    "y_pred_rf = grid_rf.predict(X_test)\n",
    "evaluate_model(y_test, y_pred_rf, \"Tuned Random Forest\")\n"
   ]
  },
  {
   "cell_type": "markdown",
   "metadata": {},
   "source": [
    "### Naive Bayes Tuning"
   ]
  },
  {
   "cell_type": "code",
   "execution_count": 44,
   "metadata": {},
   "outputs": [
    {
     "name": "stdout",
     "output_type": "stream",
     "text": [
      "Best parameters for Naive Bayes: {'nb__alpha': 1}\n",
      "Performance of Tuned Naive Bayes:\n",
      "Accuracy: 0.6290873596876525\n",
      "\n",
      "Classification Report:\n",
      "              precision    recall  f1-score   support\n",
      "\n",
      "           0       0.71      0.04      0.07       139\n",
      "           1       0.63      0.87      0.73      1163\n",
      "           2       0.61      0.36      0.45       747\n",
      "\n",
      "    accuracy                           0.63      2049\n",
      "   macro avg       0.65      0.42      0.42      2049\n",
      "weighted avg       0.63      0.63      0.59      2049\n",
      "\n"
     ]
    },
    {
     "data": {
      "image/png": "[encoded data removed]",
      "text/plain": [
       "<Figure size 576x432 with 2 Axes>"
      ]
     },
     "metadata": {
      "needs_background": "light"
     },
     "output_type": "display_data"
    }
   ],
   "source": [
    "nb_pipeline = Pipeline([\n",
    "    ('tfidf', TfidfVectorizer(max_features=5000)),  # Text vectorization\n",
    "    ('nb', MultinomialNB())  # Naive Bayes\n",
    "])\n",
    "\n",
    "# Hyperparameter grid for Naive Bayes\n",
    "param_grid_nb = {\n",
    "    'nb__alpha': [0.01, 0.1, 1, 10]  # Smoothing parameter\n",
    "}\n",
    "\n",
    "# Grid Search\n",
    "grid_nb = GridSearchCV(nb_pipeline, param_grid_nb, cv=5, scoring='accuracy')\n",
    "grid_nb.fit(X_train, y_train)\n",
    "\n",
    "# Best Parameters and Evaluate\n",
    "print(f\"Best parameters for Naive Bayes: {grid_nb.best_params_}\")\n",
    "y_pred_nb = grid_nb.predict(X_test)\n",
    "evaluate_model(y_test, y_pred_nb, \"Tuned Naive Bayes\")\n"
   ]
  }
 ],
 "metadata": {
  "kernelspec": {
   "display_name": "learn-env",
   "language": "python",
   "name": "python3"
  },
  "language_info": {
   "codemirror_mode": {
    "name": "ipython",
    "version": 3
   },
   "file_extension": ".py",
   "mimetype": "text/x-python",
   "name": "python",
   "nbconvert_exporter": "python",
   "pygments_lexer": "ipython3",
   "version": "3.8.5"
  }
 },
 "nbformat": 4,
 "nbformat_minor": 2
}
