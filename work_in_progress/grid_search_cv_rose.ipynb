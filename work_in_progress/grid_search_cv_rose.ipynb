{
 "cells": [
  {
   "cell_type": "markdown",
   "metadata": {},
   "source": [
    "# Tuning All the Models"
   ]
  },
  {
   "cell_type": "code",
   "execution_count": 32,
   "metadata": {},
   "outputs": [],
   "source": [
    "%store -r X_train"
   ]
  },
  {
   "cell_type": "code",
   "execution_count": 34,
   "metadata": {},
   "outputs": [],
   "source": [
    "%store -r y_train"
   ]
  },
  {
   "cell_type": "code",
   "execution_count": 35,
   "metadata": {},
   "outputs": [],
   "source": [
    "%store -r default_models"
   ]
  },
  {
   "cell_type": "markdown",
   "metadata": {},
   "source": [
    "## Tuning Logistic Regression Model"
   ]
  },
  {
   "cell_type": "code",
   "execution_count": 37,
   "metadata": {},
   "outputs": [],
   "source": [
    "import time\n",
    "import numpy as np\n",
    "\n",
    "from imblearn.over_sampling import RandomOverSampler\n",
    "from sklearn.feature_extraction.text import CountVectorizer, TfidfVectorizer\n",
    "from sklearn.pipeline import Pipeline\n",
    "from sklearn.model_selection import GridSearchCV\n",
    "from sklearn.metrics import make_scorer, accuracy_score\n",
    "from sklearn.linear_model import LogisticRegression, SGDClassifier\n",
    "from sklearn.naive_bayes import MultinomialNB\n",
    "from sklearn.tree import DecisionTreeClassifier\n",
    "from sklearn.ensemble import RandomForestClassifier, ExtraTreesClassifier, GradientBoostingClassifier\n",
    "from sklearn.svm import SVC\n",
    "\n",
    "import warnings\n",
    "warnings.filterwarnings('ignore')"
   ]
  },
  {
   "cell_type": "code",
   "execution_count": 38,
   "metadata": {},
   "outputs": [],
   "source": [
    "import time\n",
    "\n",
    "from sklearn.pipeline import Pipeline\n",
    "from sklearn.model_selection import GridSearchCV\n",
    "from sklearn.feature_extraction.text import TfidfVectorizer\n",
    "\n",
    "tfidf = TfidfVectorizer(stop_words='english', lowercase=False)\n",
    "\n",
    "tuned_params = {}\n",
    "\n",
    "def grid_search(params, name, models=default_models):\n",
    "    '''\n",
    "    Performs grid search on classification models, returns best cross validation scores and parameters.\n",
    "    '''\n",
    "    for model, grid in params.items():\n",
    "        print(f'Running... {model} GridSearch')\n",
    "        print(f'Time Started: {time.asctime()}')\n",
    "        \n",
    "        pipe = Pipeline(steps=[('tfidf', tfidf), ('classifier', models[model]['classifier'])])\n",
    "        pipe.fit(X_train, y_train)\n",
    "        \n",
    "        gridsearch = GridSearchCV(estimator=pipe, param_grid=grid, scoring='recall_micro', cv=5, refit=False)\n",
    "        gridsearch.fit(X_train, y_train)\n",
    "        \n",
    "        print(f'Time Finished: {time.asctime()}\\n')\n",
    "        print(f'Best cross validation score: {gridsearch.best_score_ :.2%}')\n",
    "        print(f'Optimal parameters: {gridsearch.best_params_}')\n",
    "        \n",
    "        tuned_params[name] = gridsearch.best_params_\n",
    "\n",
    "import warnings\n",
    "warnings.filterwarnings('ignore')"
   ]
  },
  {
   "cell_type": "markdown",
   "metadata": {},
   "source": [
    "### Logistic Regression"
   ]
  },
  {
   "cell_type": "code",
   "execution_count": 39,
   "metadata": {},
   "outputs": [
    {
     "name": "stdout",
     "output_type": "stream",
     "text": [
      "Running... LogisticRegression GridSearch\n",
      "Time Started: Tue Oct  8 20:25:05 2024\n",
      "Time Finished: Tue Oct  8 20:25:23 2024\n",
      "\n",
      "Best cross validation score: 67.76%\n",
      "Optimal parameters: {'classifier__C': 1, 'classifier__fit_intercept': True, 'classifier__solver': 'lbfgs'}\n"
     ]
    }
   ],
   "source": [
    "params_lr1 = {'LogisticRegression': [{\n",
    "    'classifier__C':[0.001, 0.1, 1],\n",
    "    'classifier__solver':['lbfgs', 'saga'],\n",
    "    'classifier__fit_intercept':[True, False]\n",
    "}]}\n",
    "\n",
    "grid_search(params_lr1, name='LogisticRegression')"
   ]
  },
  {
   "cell_type": "code",
   "execution_count": 40,
   "metadata": {},
   "outputs": [
    {
     "name": "stdout",
     "output_type": "stream",
     "text": [
      "Stored 'lr_best_params' (dict)\n"
     ]
    }
   ],
   "source": [
    "lr_best_params = tuned_params['LogisticRegression']\n",
    "%store lr_best_params"
   ]
  },
  {
   "cell_type": "markdown",
   "metadata": {},
   "source": [
    "### MultinomialNB"
   ]
  },
  {
   "cell_type": "code",
   "execution_count": 41,
   "metadata": {},
   "outputs": [
    {
     "name": "stdout",
     "output_type": "stream",
     "text": [
      "Running... MultinomialNB GridSearch\n",
      "Time Started: Tue Oct  8 20:28:13 2024\n",
      "Time Finished: Tue Oct  8 20:28:18 2024\n",
      "\n",
      "Best cross validation score: 66.24%\n",
      "Optimal parameters: {'classifier__alpha': 0.2}\n"
     ]
    }
   ],
   "source": [
    "params_mn = {'MultinomialNB': [{\n",
    "    'classifier__alpha':[.001, .01, .05, .1, .2, .4, .6, .8, 1]\n",
    "}]}\n",
    "\n",
    "grid_search(params_mn, name='MultinomialNB')"
   ]
  },
  {
   "cell_type": "code",
   "execution_count": 42,
   "metadata": {},
   "outputs": [
    {
     "name": "stdout",
     "output_type": "stream",
     "text": [
      "Stored 'mn_best_params' (dict)\n"
     ]
    }
   ],
   "source": [
    "mn_best_params = tuned_params['MultinomialNB']\n",
    "%store mn_best_params"
   ]
  },
  {
   "cell_type": "markdown",
   "metadata": {},
   "source": [
    "### Decision Tree"
   ]
  },
  {
   "cell_type": "code",
   "execution_count": 43,
   "metadata": {},
   "outputs": [
    {
     "name": "stdout",
     "output_type": "stream",
     "text": [
      "Running... DecisionTree GridSearch\n",
      "Time Started: Tue Oct  8 20:28:29 2024\n",
      "Time Finished: Tue Oct  8 20:46:53 2024\n",
      "\n",
      "Best cross validation score: 64.67%\n",
      "Optimal parameters: {'classifier__criterion': 'entropy', 'classifier__max_depth': None, 'classifier__min_samples_leaf': 1, 'classifier__min_samples_split': 2, 'classifier__splitter': 'random'}\n"
     ]
    }
   ],
   "source": [
    "params_dt1 = {'DecisionTree': [{\n",
    "    'classifier__criterion':['gini', 'entropy'],\n",
    "    'classifier__splitter':['best', 'random'],\n",
    "    'classifier__max_depth':[None, 1, 2, 5],\n",
    "    'classifier__min_samples_split': [2, 3, 5],\n",
    "    'classifier__min_samples_leaf': [1, 2, 5]\n",
    "}]}\n",
    "\n",
    "grid_search(params_dt1, name='DecisionTree')"
   ]
  },
  {
   "cell_type": "code",
   "execution_count": 44,
   "metadata": {},
   "outputs": [
    {
     "name": "stdout",
     "output_type": "stream",
     "text": [
      "Stored 'dt_best_params' (dict)\n"
     ]
    }
   ],
   "source": [
    "dt_best_params = tuned_params['DecisionTree']\n",
    "%store dt_best_params"
   ]
  },
  {
   "cell_type": "markdown",
   "metadata": {},
   "source": [
    "### GradientBoost"
   ]
  },
  {
   "cell_type": "code",
   "execution_count": 45,
   "metadata": {},
   "outputs": [
    {
     "name": "stdout",
     "output_type": "stream",
     "text": [
      "Running... GradientBoost GridSearch\n",
      "Time Started: Tue Oct  8 20:50:32 2024\n",
      "Time Finished: Tue Oct  8 21:04:57 2024\n",
      "\n",
      "Best cross validation score: 65.91%\n",
      "Optimal parameters: {'classifier__max_depth': 3, 'classifier__min_samples_leaf': 1, 'classifier__min_samples_split': 2}\n"
     ]
    }
   ],
   "source": [
    "params_gb1 = {'GradientBoost': [{\n",
    "    'classifier__max_depth':[3, 2],\n",
    "    'classifier__min_samples_split':[2, 3],\n",
    "    'classifier__min_samples_leaf':[1, 2]\n",
    "}]}\n",
    "\n",
    "grid_search(params_gb1, name='GradientBoost')"
   ]
  },
  {
   "cell_type": "code",
   "execution_count": 46,
   "metadata": {},
   "outputs": [
    {
     "name": "stdout",
     "output_type": "stream",
     "text": [
      "Stored 'gb_best_params' (dict)\n"
     ]
    }
   ],
   "source": [
    "gb_best_params = tuned_params['GradientBoost']\n",
    "%store gb_best_params"
   ]
  },
  {
   "cell_type": "markdown",
   "metadata": {},
   "source": [
    "### VectorClass"
   ]
  },
  {
   "cell_type": "code",
   "execution_count": 47,
   "metadata": {},
   "outputs": [
    {
     "name": "stdout",
     "output_type": "stream",
     "text": [
      "Running... VectorClass GridSearch\n",
      "Time Started: Tue Oct  8 21:17:20 2024\n",
      "Time Finished: Tue Oct  8 22:56:53 2024\n",
      "\n",
      "Best cross validation score: 68.71%\n",
      "Optimal parameters: {'classifier__C': 1, 'classifier__class_weight': None, 'classifier__degree': 1, 'classifier__gamma': 'scale', 'classifier__shrinking': True}\n"
     ]
    }
   ],
   "source": [
    "params_svc1 = {'VectorClass': [{\n",
    "    'classifier__C':[1, 2, 3],\n",
    "    'classifier__degree':[1, 2, 3],\n",
    "    'classifier__gamma':['scale', 'auto'],\n",
    "    'classifier__shrinking':[True, False],\n",
    "    'classifier__class_weight':['balanced', None],\n",
    "}]}\n",
    "\n",
    "grid_search(params_svc1, name='VectorClass')"
   ]
  },
  {
   "cell_type": "code",
   "execution_count": 48,
   "metadata": {},
   "outputs": [
    {
     "name": "stdout",
     "output_type": "stream",
     "text": [
      "Stored 'svc_best_params' (dict)\n"
     ]
    }
   ],
   "source": [
    "svc_best_params = tuned_params['VectorClass']\n",
    "%store svc_best_params"
   ]
  },
  {
   "cell_type": "markdown",
   "metadata": {},
   "source": [
    "### SDG Classifier"
   ]
  },
  {
   "cell_type": "code",
   "execution_count": 49,
   "metadata": {},
   "outputs": [
    {
     "name": "stdout",
     "output_type": "stream",
     "text": [
      "Running... SGDClassifier GridSearch\n",
      "Time Started: Wed Oct  9 07:06:53 2024\n",
      "Time Finished: Wed Oct  9 07:07:15 2024\n",
      "\n",
      "Best cross validation score: 67.79%\n",
      "Optimal parameters: {'classifier__alpha': 0.0001, 'classifier__class_weight': None, 'classifier__penalty': 'l2'}\n"
     ]
    }
   ],
   "source": [
    "params_sgd3 = {'SGDClassifier': [{\n",
    "    'classifier__penalty':['l1', 'l2', 'elasticnet'],\n",
    "    'classifier__alpha':[0.000001, 0.00001, 0.0001],\n",
    "    'classifier__class_weight':['balanced', None],\n",
    "}]}\n",
    "\n",
    "grid_search(params_sgd3, name='SGDClassifier')"
   ]
  },
  {
   "cell_type": "code",
   "execution_count": 51,
   "metadata": {},
   "outputs": [
    {
     "name": "stdout",
     "output_type": "stream",
     "text": [
      "Stored 'sgd_best_params' (dict)\n"
     ]
    }
   ],
   "source": [
    "sgd_best_params = tuned_params['SGDClassifier']\n",
    "%store sgd_best_params"
   ]
  }
 ],
 "metadata": {
  "language_info": {
   "name": "python"
  }
 },
 "nbformat": 4,
 "nbformat_minor": 2
}
